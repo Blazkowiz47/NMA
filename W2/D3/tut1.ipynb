{
  "cells": [
    {
      "cell_type": "markdown",
      "metadata": {
        "execution": {},
        "id": "XuWEnm57pVnd"
      },
      "source": [
        "# Tutorial 1: The Leaky Integrate-and-Fire (LIF) Neuron Model\n",
        "**Week 2, Day 3: Biological Neuron Models**\n",
        "\n",
        "**By Neuromatch Academy**\n",
        "\n",
        "__Content creators:__ Qinglong Gu, Songtin Li, John Murray, Richard Naud, Arvind Kumar\n",
        "\n",
        "__Content reviewers:__  Maryam Vaziri-Pashkam, Ella Batty, Lorenzo Fontolan, Richard Gao, Matthew Krause, Spiros Chavlis, Michael Waskom, Ethan Cheng\n",
        "\n",
        "**Post-Production Team:** Gagana B, Spiros Chavlis"
      ]
    },
    {
      "cell_type": "markdown",
      "metadata": {
        "execution": {},
        "id": "c-KraBD_pVnl"
      },
      "source": [
        "<p align='center'><img src='https://github.com/NeuromatchAcademy/widgets/blob/master/sponsors.png?raw=True'/></p>"
      ]
    },
    {
      "cell_type": "markdown",
      "metadata": {
        "execution": {},
        "id": "tpZbHoq1pVnl"
      },
      "source": [
        "---\n",
        "# Tutorial Objectives\n",
        "\n",
        "*Estimated timing of tutorial: 1 hour, 10 min*\n",
        "\n",
        "This is Tutorial 1 of a series on implementing realistic neuron models. In this tutorial, we will build up a leaky integrate-and-fire (LIF) neuron model and study its dynamics in response to various types of inputs. In particular, we are going to write a few lines of code to:\n",
        "\n",
        "- simulate the LIF neuron model\n",
        "\n",
        "- drive the LIF neuron with external inputs, such as direct currents, Gaussian white noise, and Poisson spike trains, etc.\n",
        "\n",
        "- study how different inputs affect the  LIF neuron's output (firing rate and spike time irregularity)\n",
        "\n",
        "Here, we will especially emphasize identifying conditions (input statistics) under which a neuron can spike at low firing rates and in an irregular manner. The reason for focusing on this is that in most cases, neocortical neurons spike in an irregular manner."
      ]
    },
    {
      "cell_type": "code",
      "execution_count": 1,
      "metadata": {
        "cellView": "form",
        "execution": {},
        "colab": {
          "base_uri": "https://localhost:8080/",
          "height": 501
        },
        "id": "kcZjxBHZpVnm",
        "outputId": "dc0bceca-e50a-46fa-edb8-41b7758d1e0c"
      },
      "outputs": [
        {
          "output_type": "execute_result",
          "data": {
            "text/plain": [
              "<IPython.lib.display.IFrame at 0x7fabcfdae190>"
            ],
            "text/html": [
              "\n",
              "        <iframe\n",
              "            width=\"854\"\n",
              "            height=\"480\"\n",
              "            src=\"https://mfr.ca-1.osf.io/render?url=https://osf.io/8djsm/?direct%26mode=render%26action=download%26mode=render\"\n",
              "            frameborder=\"0\"\n",
              "            allowfullscreen\n",
              "        ></iframe>\n",
              "        "
            ]
          },
          "metadata": {},
          "execution_count": 1
        }
      ],
      "source": [
        "# @title Tutorial slides\n",
        "\n",
        "# @markdown These are the slides for the videos in all tutorials today\n",
        "from IPython.display import IFrame\n",
        "IFrame(src=f\"https://mfr.ca-1.osf.io/render?url=https://osf.io/8djsm/?direct%26mode=render%26action=download%26mode=render\", width=854, height=480)"
      ]
    },
    {
      "cell_type": "markdown",
      "metadata": {
        "execution": {},
        "id": "bopK4QLopVnn"
      },
      "source": [
        "---\n",
        "# Setup"
      ]
    },
    {
      "cell_type": "code",
      "execution_count": 2,
      "metadata": {
        "cellView": "both",
        "execution": {},
        "id": "XJAilI9opVno"
      },
      "outputs": [],
      "source": [
        "# Imports\n",
        "import numpy as np\n",
        "import matplotlib.pyplot as plt"
      ]
    },
    {
      "cell_type": "code",
      "execution_count": 3,
      "metadata": {
        "cellView": "form",
        "execution": {},
        "id": "96VsDrLxpVno"
      },
      "outputs": [],
      "source": [
        "# @title Figure Settings\n",
        "import ipywidgets as widgets  # interactive display\n",
        "%config InlineBackend.figure_format = 'retina'\n",
        "# use NMA plot style\n",
        "plt.style.use(\"https://raw.githubusercontent.com/NeuromatchAcademy/course-content/main/nma.mplstyle\")\n",
        "my_layout = widgets.Layout()"
      ]
    },
    {
      "cell_type": "code",
      "execution_count": 4,
      "metadata": {
        "cellView": "form",
        "execution": {},
        "id": "qtcB6FlYpVnp"
      },
      "outputs": [],
      "source": [
        "# @title Plotting Functions\n",
        "\n",
        "def plot_volt_trace(pars, v, sp):\n",
        "  \"\"\"\n",
        "  Plot trajetory of membrane potential for a single neuron\n",
        "\n",
        "  Expects:\n",
        "  pars   : parameter dictionary\n",
        "  v      : volt trajetory\n",
        "  sp     : spike train\n",
        "\n",
        "  Returns:\n",
        "  figure of the membrane potential trajetory for a single neuron\n",
        "  \"\"\"\n",
        "\n",
        "  V_th = pars['V_th']\n",
        "  dt, range_t = pars['dt'], pars['range_t']\n",
        "  if sp.size:\n",
        "    sp_num = (sp / dt).astype(int) - 1\n",
        "    v[sp_num] += 20  # draw nicer spikes\n",
        "\n",
        "  plt.plot(pars['range_t'], v, 'b')\n",
        "  plt.axhline(V_th, 0, 1, color='k', ls='--')\n",
        "  plt.xlabel('Time (ms)')\n",
        "  plt.ylabel('V (mV)')\n",
        "  plt.legend(['Membrane\\npotential', r'Threshold V$_{\\mathrm{th}}$'],\n",
        "             loc=[1.05, 0.75])\n",
        "  plt.ylim([-80, -40])\n",
        "\n",
        "\n",
        "def plot_GWN(pars, I_GWN):\n",
        "  \"\"\"\n",
        "  Args:\n",
        "    pars  : parameter dictionary\n",
        "    I_GWN : Gaussian white noise input\n",
        "\n",
        "  Returns:\n",
        "    figure of the gaussian white noise input\n",
        "  \"\"\"\n",
        "\n",
        "  plt.figure(figsize=(12, 4))\n",
        "  plt.subplot(121)\n",
        "  plt.plot(pars['range_t'][::3], I_GWN[::3], 'b')\n",
        "  plt.xlabel('Time (ms)')\n",
        "  plt.ylabel(r'$I_{GWN}$ (pA)')\n",
        "  plt.subplot(122)\n",
        "  plot_volt_trace(pars, v, sp)\n",
        "  plt.tight_layout()\n",
        "\n",
        "\n",
        "def my_hists(isi1, isi2, cv1, cv2, sigma1, sigma2):\n",
        "  \"\"\"\n",
        "  Args:\n",
        "    isi1 : vector with inter-spike intervals\n",
        "    isi2 : vector with inter-spike intervals\n",
        "    cv1  : coefficient of variation for isi1\n",
        "    cv2  : coefficient of variation for isi2\n",
        "\n",
        "  Returns:\n",
        "    figure with two histograms, isi1, isi2\n",
        "\n",
        "  \"\"\"\n",
        "  plt.figure(figsize=(11, 4))\n",
        "  my_bins = np.linspace(10, 30, 20)\n",
        "  plt.subplot(121)\n",
        "  plt.hist(isi1, bins=my_bins, color='b', alpha=0.5)\n",
        "  plt.xlabel('ISI (ms)')\n",
        "  plt.ylabel('count')\n",
        "  plt.title(r'$\\sigma_{GWN}=$%.1f, CV$_{\\mathrm{isi}}$=%.3f' % (sigma1, cv1))\n",
        "\n",
        "  plt.subplot(122)\n",
        "  plt.hist(isi2, bins=my_bins, color='b', alpha=0.5)\n",
        "  plt.xlabel('ISI (ms)')\n",
        "  plt.ylabel('count')\n",
        "  plt.title(r'$\\sigma_{GWN}=$%.1f, CV$_{\\mathrm{isi}}$=%.3f' % (sigma2, cv2))\n",
        "  plt.tight_layout()\n",
        "  plt.show()"
      ]
    },
    {
      "cell_type": "markdown",
      "metadata": {
        "execution": {},
        "id": "SftdHfu_pVnq"
      },
      "source": [
        "---\n",
        "# Section 1: The Leaky Integrate-and-Fire (LIF) model"
      ]
    },
    {
      "cell_type": "code",
      "execution_count": null,
      "metadata": {
        "cellView": "form",
        "execution": {},
        "id": "XeoYKGWkpVnr"
      },
      "outputs": [],
      "source": [
        "# @title Video 1: Reduced Neuron Models\n",
        "from ipywidgets import widgets\n",
        "\n",
        "out2 = widgets.Output()\n",
        "with out2:\n",
        "  from IPython.display import IFrame\n",
        "  class BiliVideo(IFrame):\n",
        "      def __init__(self, id, page=1, width=400, height=300, **kwargs):\n",
        "          self.id=id\n",
        "          src = 'https://player.bilibili.com/player.html?bvid={0}&page={1}'.format(id, page)\n",
        "          super(BiliVideo, self).__init__(src, width, height, **kwargs)\n",
        "\n",
        "  video = BiliVideo(id=\"av456396195\", width=854, height=480, fs=1)\n",
        "  print('Video available at https://www.bilibili.com/video/{0}'.format(video.id))\n",
        "  display(video)\n",
        "\n",
        "out1 = widgets.Output()\n",
        "with out1:\n",
        "  from IPython.display import YouTubeVideo\n",
        "  video = YouTubeVideo(id=\"rSExvwCVRYg\", width=854, height=480, fs=1, rel=0)\n",
        "  print('Video available at https://youtube.com/watch?v=' + video.id)\n",
        "  display(video)\n",
        "\n",
        "out = widgets.Tab([out1, out2])\n",
        "out.set_title(0, 'Youtube')\n",
        "out.set_title(1, 'Bilibili')\n",
        "\n",
        "display(out)"
      ]
    },
    {
      "cell_type": "markdown",
      "metadata": {
        "execution": {},
        "id": "LPg_zPZNpVns"
      },
      "source": [
        "This video introduces the reduction of a biological neuron to a simple leaky-integrate-fire (LIF) neuron model.\n",
        "\n",
        "<details>\n",
        "<summary> <font color='blue'>Click here for text recap of video </font></summary>\n",
        "\n",
        "Now, it's your turn to implement one of the simplest mathematical model of a neuron: the leaky integrate-and-fire (LIF) model. The basic idea of LIF neuron was proposed in 1907 by Louis Édouard Lapicque, long before we understood the electrophysiology of a neuron (see a translation of [Lapicque's paper](https://pubmed.ncbi.nlm.nih.gov/17968583/) ). More details of the model can be found in the book [**Theoretical neuroscience**](http://www.gatsby.ucl.ac.uk/~dayan/book/) by Peter Dayan and Laurence F. Abbott.\n",
        "\n",
        "The subthreshold membrane potential dynamics of a LIF neuron is described by\n",
        "\n",
        "\\begin{eqnarray}\n",
        "C_m\\frac{dV}{dt} = -g_L(V-E_L) + I,\\quad (1)\n",
        "\\end{eqnarray}\n",
        "\n",
        "where $C_m$ is the membrane capacitance, $V$ is the membrane potential, $g_L$ is the leak conductance ($g_L = 1/R$, the inverse of the leak resistance $R$ mentioned in previous tutorials), $E_L$ is the resting potential, and $I$ is the external input current. \n",
        "\n",
        "Dividing both sides of the above equation by $g_L$ gives\n",
        "\n",
        "\\begin{align}\n",
        "\\tau_m\\frac{dV}{dt} = -(V-E_L) + \\frac{I}{g_L}\\,,\\quad (2)\n",
        "\\end{align}\n",
        "\n",
        "where the $\\tau_m$ is membrane time constant and is defined as $\\tau_m=C_m/g_L$. \n",
        "\n",
        "Note that dividing capacitance by conductance gives units of time! \n",
        "\n",
        "Below, we will use Eqn.(2) to simulate LIF neuron dynamics. \n",
        "\n",
        "If $I$ is sufficiently strong such that $V$ reaches a certain threshold value $V_{\\rm th}$, $V$ is reset to a reset potential $V_{\\rm reset}< V_{\\rm th}$, and voltage is clamped to $V_{\\rm reset}$ for $\\tau_{\\rm ref}$ ms, mimicking the refractoriness of the neuron during an action potential:\n",
        "\n",
        "\\begin{eqnarray}\n",
        "\\mathrm{if}\\quad V(t_{\\text{sp}})\\geq V_{\\rm th}&:& V(t)=V_{\\rm reset} \\text{  for } t\\in(t_{\\text{sp}}, t_{\\text{sp}} + \\tau_{\\text{ref}}]\n",
        "\\end{eqnarray}\n",
        "where $t_{\\rm sp}$ is the spike time when $V(t)$ just exceeded $V_{\\rm th}$.\n",
        "\n",
        "(**Note:** in the lecture slides, $\\theta$ corresponds to the threshold voltage $V_{th}$, and $\\Delta$ corresponds to the refractory time $\\tau_{\\rm ref}$.)\n",
        "\n",
        "</details>\n",
        "\n",
        "Note that you have seen the LIF model before if you looked at the pre-reqs Python or Calculus days!\n",
        "\n",
        "The LIF model captures the facts that a neuron:\n",
        "- performs spatial and temporal integration of synaptic inputs\n",
        "- generates a spike when the voltage reaches a certain threshold\n",
        "- goes refractory during the action potential\n",
        "- has a leaky membrane\n",
        "\n",
        "The LIF model assumes that the spatial and temporal integration of inputs is linear. Also, membrane potential dynamics close to the spike threshold are much slower in LIF neurons than in real neurons."
      ]
    },
    {
      "cell_type": "markdown",
      "metadata": {
        "execution": {},
        "id": "n-yaNcxnpVns"
      },
      "source": [
        "## Coding Exercise 1: Python code to simulate the LIF neuron\n",
        "\n",
        "We now write Python code to calculate our equation for the LIF neuron and simulate the LIF neuron dynamics. We will use the Euler method, which you saw in the linear systems case yesterday  to numerically integrate this equation:\n",
        "\n",
        "\\begin{equation}\n",
        "\\tau_m\\frac{dV}{dt} = -(V-E_L) + \\frac{I}{g_L}\\,\n",
        "\\end{equation}\n",
        "\n",
        "where $V$ is the membrane potential, $g_L$ is the leak conductance, $E_L$ is the resting potential, $I$ is the external input current, and $\\tau_m$ is membrane time constant.\n",
        "\n",
        "The cell below initializes a dictionary that stores parameters of the LIF neuron model and the simulation scheme. You can use `pars=default_pars(T=simulation_time, dt=time_step)` to get the parameters. Note that, `simulation_time` and `time_step` have the unit `ms`. In addition, you can add the value to a new parameter by `pars['New_param'] = value`."
      ]
    },
    {
      "cell_type": "code",
      "execution_count": 5,
      "metadata": {
        "cellView": "form",
        "execution": {},
        "colab": {
          "base_uri": "https://localhost:8080/"
        },
        "id": "QhuOzaKZpVnt",
        "outputId": "4a247969-3183-40e3-d366-337b0ea7c9b1"
      },
      "outputs": [
        {
          "output_type": "stream",
          "name": "stdout",
          "text": [
            "{'V_th': -55.0, 'V_reset': -75.0, 'tau_m': 10.0, 'g_L': 10.0, 'V_init': -75.0, 'E_L': -75.0, 'tref': 2.0, 'T': 400.0, 'dt': 0.1, 'range_t': array([0.000e+00, 1.000e-01, 2.000e-01, ..., 3.997e+02, 3.998e+02,\n",
            "       3.999e+02])}\n"
          ]
        }
      ],
      "source": [
        "# @markdown Execute this code to initialize the default parameters\n",
        "\n",
        "\n",
        "def default_pars(**kwargs):\n",
        "  pars = {}\n",
        "\n",
        "  # typical neuron parameters#\n",
        "  pars['V_th'] = -55.     # spike threshold [mV]\n",
        "  pars['V_reset'] = -75.  # reset potential [mV]\n",
        "  pars['tau_m'] = 10.     # membrane time constant [ms]\n",
        "  pars['g_L'] = 10.       # leak conductance [nS]\n",
        "  pars['V_init'] = -75.   # initial potential [mV]\n",
        "  pars['E_L'] = -75.      # leak reversal potential [mV]\n",
        "  pars['tref'] = 2.       # refractory time (ms)\n",
        "\n",
        "  # simulation parameters #\n",
        "  pars['T'] = 400.  # Total duration of simulation [ms]\n",
        "  pars['dt'] = .1   # Simulation time step [ms]\n",
        "\n",
        "  # external parameters if any #\n",
        "  for k in kwargs:\n",
        "    pars[k] = kwargs[k]\n",
        "\n",
        "  pars['range_t'] = np.arange(0, pars['T'], pars['dt'])  # Vector of discretized time points [ms]\n",
        "\n",
        "  return pars\n",
        "\n",
        "\n",
        "pars = default_pars()\n",
        "print(pars)"
      ]
    },
    {
      "cell_type": "markdown",
      "metadata": {
        "execution": {},
        "id": "oEknHM7ApVnt"
      },
      "source": [
        "Complete the function below to simulate the LIF neuron when receiving external current inputs. You can use `v, sp = run_LIF(pars, Iinj)` to get the membrane potential (`v`) and spike train (`sp`) given the dictionary `pars` and input current `Iinj`. "
      ]
    },
    {
      "cell_type": "code",
      "execution_count": 11,
      "metadata": {
        "cellView": "both",
        "execution": {},
        "colab": {
          "base_uri": "https://localhost:8080/",
          "height": 431
        },
        "id": "2EK69BRypVnu",
        "outputId": "d3cbcb6b-946d-4d41-b559-c37d34788772"
      },
      "outputs": [
        {
          "output_type": "display_data",
          "data": {
            "text/plain": [
              "<Figure size 576x432 with 1 Axes>"
            ],
            "image/png": "[encoded data removed]"
          },
          "metadata": {
            "image/png": {
              "width": 558,
              "height": 414
            },
            "needs_background": "light"
          }
        }
      ],
      "source": [
        "def run_LIF(pars, Iinj, stop=False):\n",
        "  \"\"\"\n",
        "  Simulate the LIF dynamics with external input current\n",
        "\n",
        "  Args:\n",
        "    pars       : parameter dictionary\n",
        "    Iinj       : input current [pA]. The injected current here can be a value\n",
        "                 or an array\n",
        "    stop       : boolean. If True, use a current pulse\n",
        "\n",
        "  Returns:\n",
        "    rec_v      : membrane potential\n",
        "    rec_sp     : spike times\n",
        "  \"\"\"\n",
        "\n",
        "  # Set parameters\n",
        "  V_th, V_reset = pars['V_th'], pars['V_reset']\n",
        "  tau_m, g_L = pars['tau_m'], pars['g_L']\n",
        "  V_init, E_L = pars['V_init'], pars['E_L']\n",
        "  dt, range_t = pars['dt'], pars['range_t']\n",
        "  Lt = range_t.size\n",
        "  tref = pars['tref']\n",
        "\n",
        "  # Initialize voltage\n",
        "  v = np.zeros(Lt)\n",
        "  v[0] = V_init\n",
        "\n",
        "  # Set current time course\n",
        "  Iinj = Iinj * np.ones(Lt)\n",
        "\n",
        "  # If current pulse, set beginning and end to 0\n",
        "  if stop:\n",
        "    Iinj[:int(len(Iinj) / 2) - 1000] = 0\n",
        "    Iinj[int(len(Iinj) / 2) + 1000:] = 0\n",
        "\n",
        "  # Loop over time\n",
        "  rec_spikes = []  # record spike times\n",
        "  tr = 0.  # the count for refractory duration\n",
        "\n",
        "  for it in range(Lt - 1):\n",
        "\n",
        "    if tr > 0:  # check if in refractory period\n",
        "      v[it] = V_reset  # set voltage to reset\n",
        "      tr = tr - 1 # reduce running counter of refractory period\n",
        "\n",
        "    elif v[it] >= V_th:  # if voltage over threshold\n",
        "      rec_spikes.append(it)  # record spike event\n",
        "      v[it] = V_reset  # reset voltage\n",
        "      tr = tref / dt  # set refractory time\n",
        "\n",
        "    ########################################################################\n",
        "    ## TODO for students: compute the membrane potential v, spike train sp #\n",
        "    # Fill out function and remove\n",
        "    # raise NotImplementedError('Student Exercise: calculate the dv/dt and the update step!')\n",
        "    ########################################################################\n",
        "\n",
        "    # Calculate the increment of the membrane potential\n",
        "    dv = -(v[it] - E_L)/tau_m + Iinj[it]/(g_L*tau_m)\n",
        "\n",
        "    # Update the membrane potential\n",
        "    v[it + 1] = v[it] + dv*dt\n",
        "\n",
        "  # Get spike times in ms\n",
        "  rec_spikes = np.array(rec_spikes) * dt\n",
        "\n",
        "  return v, rec_spikes\n",
        "\n",
        "\n",
        "# Get parameters\n",
        "pars = default_pars(T=500)\n",
        "\n",
        "# Simulate LIF model\n",
        "v, sp = run_LIF(pars, Iinj=100, stop=True)\n",
        "\n",
        "# Visualize\n",
        "plot_volt_trace(pars, v, sp)"
      ]
    },
    {
      "cell_type": "markdown",
      "metadata": {
        "execution": {},
        "id": "HXzihYqupVnu"
      },
      "source": [
        "[*Click for solution*](https://github.com/NeuromatchAcademy/course-content/tree/main//tutorials/W2D3_BiologicalNeuronModels/solutions/W2D3_Tutorial1_Solution_60a1e954.py)\n",
        "\n",
        "*Example output:*\n",
        "\n",
        "<img alt='Solution hint' align='left' width=820.0 height=539.0 src=https://raw.githubusercontent.com/NeuromatchAcademy/course-content/main/tutorials/W2D3_BiologicalNeuronModels/static/W2D3_Tutorial1_Solution_60a1e954_0.png>\n",
        "\n"
      ]
    },
    {
      "cell_type": "markdown",
      "metadata": {
        "execution": {},
        "id": "CvKRnjWkpVnv"
      },
      "source": [
        "---\n",
        "# Section 2: Response of an LIF model to different types of input currents\n",
        "\n",
        "*Estimated timing to here from start of tutorial: 20 min*\n",
        "\n",
        "In the following section, we will learn how to inject direct current and white noise to study the response of an LIF neuron."
      ]
    },
    {
      "cell_type": "code",
      "execution_count": null,
      "metadata": {
        "cellView": "form",
        "execution": {},
        "id": "GdIlm--WpVnw"
      },
      "outputs": [],
      "source": [
        "# @title Video 2: Response of the LIF neuron to different inputs\n",
        "from ipywidgets import widgets\n",
        "\n",
        "out2 = widgets.Output()\n",
        "with out2:\n",
        "  from IPython.display import IFrame\n",
        "  class BiliVideo(IFrame):\n",
        "      def __init__(self, id, page=1, width=400, height=300, **kwargs):\n",
        "          self.id=id\n",
        "          src = 'https://player.bilibili.com/player.html?bvid={0}&page={1}'.format(id, page)\n",
        "          super(BiliVideo, self).__init__(src, width, height, **kwargs)\n",
        "\n",
        "  video = BiliVideo(id=\"av541417171\", width=854, height=480, fs=1)\n",
        "  print('Video available at https://www.bilibili.com/video/{0}'.format(video.id))\n",
        "  display(video)\n",
        "\n",
        "out1 = widgets.Output()\n",
        "with out1:\n",
        "  from IPython.display import YouTubeVideo\n",
        "  video = YouTubeVideo(id=\"preNGdab7Kk\", width=854, height=480, fs=1, rel=0)\n",
        "  print('Video available at https://youtube.com/watch?v=' + video.id)\n",
        "  display(video)\n",
        "\n",
        "out = widgets.Tab([out1, out2])\n",
        "out.set_title(0, 'Youtube')\n",
        "out.set_title(1, 'Bilibili')\n",
        "\n",
        "display(out)"
      ]
    },
    {
      "cell_type": "markdown",
      "metadata": {
        "execution": {},
        "id": "X34C3wr7pVnw"
      },
      "source": [
        "## Section 2.1: Direct current (DC)\n",
        "\n",
        "*Estimated timing to here from start of tutorial: 30 min*\n"
      ]
    },
    {
      "cell_type": "markdown",
      "metadata": {
        "execution": {},
        "id": "1h3C6fACpVnx"
      },
      "source": [
        "### Interactive Demo 2.1: Parameter exploration of DC input amplitude \n",
        "Here's an interactive demo that shows how the LIF neuron behavior changes for DC input (constant current) with different amplitudes. We plot the membrane potential of an LIF neuron. You may notice that the neuron generates a spike. But this is just a cosmetic spike only for illustration purposes. In an LIF neuron, we only need to keep track of times when the neuron hits the threshold so the postsynaptic neurons can be informed of the spike. \n",
        "\n",
        "How much DC is needed to reach the threshold (rheobase current)? How does the membrane time constant affect the frequency of the neuron?"
      ]
    },
    {
      "cell_type": "code",
      "execution_count": 12,
      "metadata": {
        "cellView": "form",
        "execution": {},
        "colab": {
          "base_uri": "https://localhost:8080/",
          "height": 495,
          "referenced_widgets": [
            "5fb81bdcfe5c4046871561e2b7331e76",
            "37749959d805447e916f63a4e0d3820a",
            "2e872f17cda34ddf8e8bb1859ef1c7e3",
            "fd4e6ae7d00b4dacb35b708c98de38b3",
            "61eebcdfc5214851959181b3c42690d6",
            "d37518ea7c2448a8a68d3812f8378d34",
            "14501e0d2dd24945ada71fb49f735ea7",
            "cbdd512f879b42a6aa1bf17241486a80",
            "8fbd7e6d5446437994adbbfb08705707"
          ]
        },
        "id": "ZYhP1mZSpVny",
        "outputId": "179e8b99-9f94-4032-ac3e-371aa5a1bbb8"
      },
      "outputs": [
        {
          "output_type": "display_data",
          "data": {
            "text/plain": [
              "interactive(children=(FloatSlider(value=50.0, description='I_dc', layout=Layout(width='450px'), max=300.0, ste…"
            ],
            "application/vnd.jupyter.widget-view+json": {
              "version_major": 2,
              "version_minor": 0,
              "model_id": "5fb81bdcfe5c4046871561e2b7331e76"
            }
          },
          "metadata": {}
        }
      ],
      "source": [
        "# @title\n",
        "# @markdown Make sure you execute this cell to enable the widget!\n",
        "my_layout.width = '450px'\n",
        "@widgets.interact(\n",
        "    I_dc=widgets.FloatSlider(50., min=0., max=300., step=10.,\n",
        "                               layout=my_layout),\n",
        "    tau_m=widgets.FloatSlider(10., min=2., max=20., step=2.,\n",
        "                                layout=my_layout)\n",
        ")\n",
        "\n",
        "def diff_DC(I_dc=200., tau_m=10.):\n",
        "  pars = default_pars(T=100.)\n",
        "  pars['tau_m'] = tau_m\n",
        "  v, sp = run_LIF(pars, Iinj=I_dc)\n",
        "  plot_volt_trace(pars, v, sp)\n",
        "  plt.show()"
      ]
    },
    {
      "cell_type": "markdown",
      "metadata": {
        "execution": {},
        "id": "n1TVZpWgpVnz"
      },
      "source": [
        "[*Click for solution*](https://github.com/NeuromatchAcademy/course-content/tree/main//tutorials/W2D3_BiologicalNeuronModels/solutions/W2D3_Tutorial1_Solution_1058324c.py)\n",
        "\n"
      ]
    },
    {
      "cell_type": "markdown",
      "metadata": {
        "execution": {},
        "id": "3uEaLnaOpVnz"
      },
      "source": [
        "## Section 2.2: Gaussian white noise (GWN) current \n",
        "\n",
        "*Estimated timing to here from start of tutorial: 38 min*\n",
        "\n",
        "Given the noisy nature of neuronal activity _in vivo_, neurons usually receive complex, time-varying inputs.\n",
        "\n",
        "To mimic this, we will now investigate the neuronal response when the LIF neuron receives Gaussian white noise $\\xi(t)$ with mean 0 ($\\mu = 0$) and some standard deviation $\\sigma$.\n",
        "\n",
        "Note that the GWN has zero mean, that is, it describes only the fluctuations of the input received by a neuron. We can thus modify our definition of GWN to have a nonzero mean value $\\mu$ that equals the DC input, since this is the average input into the cell. The cell below defines the modified gaussian white noise currents with nonzero mean $\\mu$."
      ]
    },
    {
      "cell_type": "markdown",
      "metadata": {
        "execution": {},
        "id": "u9MwftUrpVn0"
      },
      "source": [
        "### Interactive Demo 2.2: LIF neuron Explorer for noisy input\n",
        "\n",
        "\n",
        "The mean of the Gaussian white noise (GWN) is the amplitude of DC. Indeed, when $\\sigma = 0$, GWN is just a DC.\n",
        "\n",
        "So the question arises how does $\\sigma$ of the GWN affect the spiking behavior of the neuron. For instance we may want to know\n",
        "1.  how does the minimum input (i.e., $\\mu$) needed to make a neuron spike change with increase in $\\sigma$\n",
        "2.  how does the spike regularity change with increase in $\\sigma$\n",
        "\n",
        "To get an intuition about these questions you can use the following interactive demo that shows how the LIF neuron behavior changes for noisy input with different amplitudes (the mean $\\mu$) and fluctuation sizes ($\\sigma$). We use a helper function to generate this noisy input current: `my_GWN(pars, mu, sig, myseed=False)`.  Note that fixing the value of the random seed (e.g., `myseed=2020`) will allow you to obtain the same result every time you run this. We then use our `run_LIF` function to simulate the LIF model.\n"
      ]
    },
    {
      "cell_type": "code",
      "execution_count": 13,
      "metadata": {
        "cellView": "form",
        "execution": {},
        "colab": {
          "base_uri": "https://localhost:8080/"
        },
        "id": "NO57ztPhpVn0",
        "outputId": "d731c80c-8316-4c8f-d121-d37d85e77657"
      },
      "outputs": [
        {
          "output_type": "stream",
          "name": "stdout",
          "text": [
            "Help on function my_GWN in module __main__:\n",
            "\n",
            "my_GWN(pars, mu, sig, myseed=False)\n",
            "    Function that generates Gaussian white noise input\n",
            "    \n",
            "    Args:\n",
            "      pars       : parameter dictionary\n",
            "      mu         : noise baseline (mean)\n",
            "      sig        : noise amplitute (standard deviation)\n",
            "      myseed     : random seed. int or boolean\n",
            "                   the same seed will give the same\n",
            "                   random number sequence\n",
            "    \n",
            "    Returns:\n",
            "      I          : Gaussian white noise input\n",
            "\n"
          ]
        }
      ],
      "source": [
        "# @markdown Execute to enable helper function `my_GWN`\n",
        "\n",
        "def my_GWN(pars, mu, sig, myseed=False):\n",
        "  \"\"\"\n",
        "  Function that generates Gaussian white noise input\n",
        "\n",
        "  Args:\n",
        "    pars       : parameter dictionary\n",
        "    mu         : noise baseline (mean)\n",
        "    sig        : noise amplitute (standard deviation)\n",
        "    myseed     : random seed. int or boolean\n",
        "                 the same seed will give the same\n",
        "                 random number sequence\n",
        "\n",
        "  Returns:\n",
        "    I          : Gaussian white noise input\n",
        "  \"\"\"\n",
        "\n",
        "  # Retrieve simulation parameters\n",
        "  dt, range_t = pars['dt'], pars['range_t']\n",
        "  Lt = range_t.size\n",
        "\n",
        "  # Set random seed\n",
        "  if myseed:\n",
        "      np.random.seed(seed=myseed)\n",
        "  else:\n",
        "      np.random.seed()\n",
        "\n",
        "  # Generate GWN\n",
        "  # we divide here by 1000 to convert units to sec.\n",
        "  I_gwn = mu + sig * np.random.randn(Lt) / np.sqrt(dt / 1000.)\n",
        "\n",
        "  return I_gwn\n",
        "\n",
        "help(my_GWN)"
      ]
    },
    {
      "cell_type": "code",
      "execution_count": 16,
      "metadata": {
        "execution": {},
        "colab": {
          "base_uri": "https://localhost:8080/",
          "height": 351,
          "referenced_widgets": [
            "2e0cd040139c4c1c9067b9c4526e4b48",
            "176eb97a8e2f42b9adc61275cc9178f7",
            "5fd6a7c704eb4590bce2174794e0f588",
            "19f5c48eebfb44eb9849cbb281d9f9af",
            "7e106786ed3f465997a7e7a291a43cdc",
            "d37518ea7c2448a8a68d3812f8378d34",
            "0adf396600fe4e33901a1e1cc7778e56",
            "afea51986e5f4f78aa39e106c987d02c",
            "fa3f50a114c0486a84c76015684682fb"
          ]
        },
        "id": "Ltd_0DQMpVn1",
        "outputId": "512636c4-199d-4ff8-b58d-e5dfaf14e040"
      },
      "outputs": [
        {
          "output_type": "display_data",
          "data": {
            "text/plain": [
              "interactive(children=(FloatSlider(value=200.0, description='mu_gwn', layout=Layout(width='450px'), max=300.0, …"
            ],
            "application/vnd.jupyter.widget-view+json": {
              "version_major": 2,
              "version_minor": 0,
              "model_id": "2e0cd040139c4c1c9067b9c4526e4b48"
            }
          },
          "metadata": {}
        }
      ],
      "source": [
        "# @title\n",
        "\n",
        "# @markdown Make sure you execute this cell to enable the widget!\n",
        "\n",
        "my_layout.width = '450px'\n",
        "@widgets.interact(\n",
        "    mu_gwn=widgets.FloatSlider(200., min=100., max=300., step=5.,\n",
        "                               layout=my_layout),\n",
        "    sig_gwn=widgets.FloatSlider(2.5, min=0., max=5., step=.5,\n",
        "                                layout=my_layout)\n",
        ")\n",
        "\n",
        "\n",
        "def diff_GWN_to_LIF(mu_gwn, sig_gwn):\n",
        "  pars = default_pars(T=100.)\n",
        "  I_GWN = my_GWN(pars, mu=mu_gwn, sig=sig_gwn)\n",
        "  v, sp = run_LIF(pars, Iinj=I_GWN)\n",
        "  plt.figure(figsize=(12, 4))\n",
        "  plt.subplot(121)\n",
        "  plt.plot(pars['range_t'][::3], I_GWN[::3], 'b')\n",
        "  plt.xlabel('Time (ms)')\n",
        "  plt.ylabel(r'$I_{GWN}$ (pA)')\n",
        "  plt.subplot(122)\n",
        "  plot_volt_trace(pars, v, sp)\n",
        "  plt.tight_layout()\n",
        "  plt.show()"
      ]
    },
    {
      "cell_type": "markdown",
      "metadata": {
        "execution": {},
        "id": "b4nDgTKnpVn1"
      },
      "source": [
        "[*Click for solution*](https://github.com/NeuromatchAcademy/course-content/tree/main//tutorials/W2D3_BiologicalNeuronModels/solutions/W2D3_Tutorial1_Solution_2de5d8a9.py)\n",
        "\n"
      ]
    },
    {
      "cell_type": "markdown",
      "metadata": {
        "execution": {},
        "id": "pL_DdMLzpVn1"
      },
      "source": [
        "### Think! 2.2: Analyzing GWN Effects on Spiking\n",
        "- As we increase the input average ($\\mu$) or the input fluctuation ($\\sigma$), the spike count changes. How much can we increase the spike count, and what might be the relationship between GWN mean/std or DC value and spike count? \n",
        "\n",
        "- We have seen above that when we inject DC, the neuron spikes in a regular manner (clock-like), and this regularity is reduced when GWN is injected. The question is, how irregular can we make the neurons spiking by changing the parameters of the GWN? \n",
        "\n",
        "We will see the answers to these questions in the next section but discuss first!\n"
      ]
    },
    {
      "cell_type": "markdown",
      "metadata": {
        "execution": {},
        "id": "UmRGeug0pVn2"
      },
      "source": [
        "---\n",
        "# Section 3: Firing rate and spike time irregularity\n",
        "\n",
        "*Estimated timing to here from start of tutorial: 48 min*\n",
        "\n",
        "When we plot the output firing rate as a function of GWN mean or DC value, it is called the input-output transfer function of the neuron (so simply F-I curve).\n",
        "\n",
        "Spike regularity can be quantified as the **coefficient of variation (CV) of the interspike interval (ISI)**:\n",
        "\n",
        "\\begin{equation}\n",
        "\\text{CV}_{\\text{ISI}} = \\frac{std(\\text{ISI})}{mean(\\text{ISI})}\n",
        "\\end{equation}\n",
        "\n",
        "A Poisson train is an example of high irregularity, in which $\\textbf{CV}_{\\textbf{ISI}} \\textbf{= 1}$. And for a clocklike (regular) process we have $\\textbf{CV}_{\\textbf{ISI}} \\textbf{= 0}$ because of **std(ISI)=0**."
      ]
    },
    {
      "cell_type": "markdown",
      "metadata": {
        "execution": {},
        "id": "koHqfthUpVn2"
      },
      "source": [
        "## Interactive Demo 3A: F-I Explorer for different `sig_gwn`\n",
        "\n",
        "How does the F-I curve of the LIF neuron change as we increase the $\\sigma$ of the GWN? We can already expect that the F-I curve will be stochastic and the results will vary from one trial to another. But will there be any other change compared to the F-I curved measured using DC?\n",
        "\n",
        "Here's an interactive demo that shows how the F-I curve of a LIF neuron changes for different levels of fluctuation $\\sigma$.\n"
      ]
    },
    {
      "cell_type": "code",
      "execution_count": 15,
      "metadata": {
        "cellView": "form",
        "execution": {},
        "colab": {
          "base_uri": "https://localhost:8080/",
          "height": 463,
          "referenced_widgets": [
            "9f393cbf440341c3ada75060c3b4547c",
            "5fe900989316477ead0c0ecc85642a51",
            "7d662d7756b24ca7a1c3d85334d3d019",
            "69d35cb1dca84be2b298e5a58d4feedd",
            "d37518ea7c2448a8a68d3812f8378d34",
            "97d90a37203248b28323a649b02c4b68",
            "2a108d5409e449e78739f4c69982fa0c"
          ]
        },
        "id": "92Cbf09IpVn2",
        "outputId": "74f56daa-1d61-4c07-f33a-49b11515ad0e"
      },
      "outputs": [
        {
          "output_type": "display_data",
          "data": {
            "text/plain": [
              "interactive(children=(FloatSlider(value=3.0, description='sig_gwn', layout=Layout(width='450px'), max=6.0, ste…"
            ],
            "application/vnd.jupyter.widget-view+json": {
              "version_major": 2,
              "version_minor": 0,
              "model_id": "9f393cbf440341c3ada75060c3b4547c"
            }
          },
          "metadata": {}
        }
      ],
      "source": [
        "# @title\n",
        "\n",
        "# @markdown Make sure you execute this cell to enable the widget!\n",
        "\n",
        "\n",
        "my_layout.width = '450px'\n",
        "@widgets.interact(\n",
        "    sig_gwn=widgets.FloatSlider(3.0, min=0., max=6., step=0.5,\n",
        "                                layout=my_layout)\n",
        ")\n",
        "\n",
        "\n",
        "def diff_std_affect_fI(sig_gwn):\n",
        "  pars = default_pars(T=1000.)\n",
        "  I_mean = np.arange(100., 400., 10.)\n",
        "  spk_count = np.zeros(len(I_mean))\n",
        "  spk_count_dc = np.zeros(len(I_mean))\n",
        "\n",
        "  for idx in range(len(I_mean)):\n",
        "      I_GWN = my_GWN(pars, mu=I_mean[idx], sig=sig_gwn, myseed=2020)\n",
        "      v, rec_spikes = run_LIF(pars, Iinj=I_GWN)\n",
        "      v_dc, rec_sp_dc = run_LIF(pars, Iinj=I_mean[idx])\n",
        "      spk_count[idx] = len(rec_spikes)\n",
        "      spk_count_dc[idx] = len(rec_sp_dc)\n",
        "\n",
        "  # Plot the F-I curve i.e. Output firing rate as a function of input mean.\n",
        "  plt.figure()\n",
        "  plt.plot(I_mean, spk_count, 'k',\n",
        "           label=r'$\\sigma_{\\mathrm{GWN}}=%.2f$' % sig_gwn)\n",
        "  plt.plot(I_mean, spk_count_dc, 'k--', alpha=0.5, lw=4, dashes=(2, 2),\n",
        "           label='DC input')\n",
        "  plt.ylabel('Spike count')\n",
        "  plt.xlabel('Average injected current (pA)')\n",
        "  plt.legend(loc='best')\n",
        "  plt.show()"
      ]
    },
    {
      "cell_type": "markdown",
      "metadata": {
        "execution": {},
        "id": "vTqCSj1BpVn2"
      },
      "source": [
        "[*Click for solution*](https://github.com/NeuromatchAcademy/course-content/tree/main//tutorials/W2D3_BiologicalNeuronModels/solutions/W2D3_Tutorial1_Solution_5aa4e3b0.py)\n",
        "\n"
      ]
    },
    {
      "cell_type": "markdown",
      "metadata": {
        "execution": {},
        "id": "_hTgCRVNpVn3"
      },
      "source": [
        "## Coding Exercise 3: Compute $CV_{ISI}$ values\n",
        "\n",
        "As shown above, the F-I curve becomes smoother while increasing the amplitude of the fluctuation ($\\sigma$). In addition, the fluctuation can also change the irregularity of the spikes. Let's investigate the effect of $\\mu=250$ with $\\sigma=0.5$ vs $\\sigma=3$. \n",
        "\n",
        "Fill in the code below to compute ISI, then plot the histogram of the ISI and compute the $CV_{ISI}$. Note that, you can use `np.diff` to calculate ISI."
      ]
    },
    {
      "cell_type": "code",
      "execution_count": 22,
      "metadata": {
        "execution": {},
        "colab": {
          "base_uri": "https://localhost:8080/",
          "height": 286
        },
        "id": "4RmoR2eCpVn3",
        "outputId": "683b69fc-c2da-4d7d-a4f8-df91e457e1a5"
      },
      "outputs": [
        {
          "output_type": "display_data",
          "data": {
            "text/plain": [
              "<Figure size 792x288 with 2 Axes>"
            ],
            "image/png": "[encoded data removed]"
          },
          "metadata": {
            "image/png": {
              "width": 773,
              "height": 269
            },
            "needs_background": "light"
          }
        }
      ],
      "source": [
        "def isi_cv_LIF(spike_times):\n",
        "  \"\"\"\n",
        "  Calculates the interspike intervals (isi) and\n",
        "  the coefficient of variation (cv) for a given spike_train\n",
        "\n",
        "  Args:\n",
        "    spike_times : (n, ) vector with the spike times (ndarray)\n",
        "\n",
        "  Returns:\n",
        "    isi         : (n-1,) vector with the inter-spike intervals (ms)\n",
        "    cv          : coefficient of variation of isi (float)\n",
        "\n",
        "  \"\"\"\n",
        "  ########################################################################\n",
        "  ## TODO for students: compute the membrane potential v, spike train sp #\n",
        "  # Fill out function and remove\n",
        "  # raise NotImplementedError('Student Exercise: calculate the isi and the cv!')\n",
        "  ########################################################################\n",
        "  if len(spike_times) >= 2:\n",
        "    # Compute isi\n",
        "    isi = np.diff(spike_times)\n",
        "    # Compute cv\n",
        "    cv = np.sqrt(isi.var()) / isi.mean()\n",
        "  else:\n",
        "    isi = np.nan\n",
        "    cv = np.nan\n",
        "\n",
        "  return isi, cv\n",
        "\n",
        "\n",
        "# Set parameters\n",
        "pars = default_pars(T=1000.)\n",
        "mu_gwn = 250\n",
        "sig_gwn1 = 0.5\n",
        "sig_gwn2 = 3.0\n",
        "\n",
        "# Run LIF model for sigma = 0.5\n",
        "I_GWN1 = my_GWN(pars, mu=mu_gwn, sig=sig_gwn1, myseed=2020)\n",
        "_, sp1 = run_LIF(pars, Iinj=I_GWN1)\n",
        "\n",
        "# Run LIF model for sigma = 3\n",
        "I_GWN2 = my_GWN(pars, mu=mu_gwn, sig=sig_gwn2, myseed=2020)\n",
        "_, sp2 = run_LIF(pars, Iinj=I_GWN2)\n",
        "\n",
        "# Compute ISIs/CV\n",
        "isi1, cv1 = isi_cv_LIF(sp1)\n",
        "isi2, cv2 = isi_cv_LIF(sp2)\n",
        "\n",
        "# Visualize\n",
        "my_hists(isi1, isi2, cv1, cv2, sig_gwn1, sig_gwn2)"
      ]
    },
    {
      "cell_type": "markdown",
      "metadata": {
        "execution": {},
        "id": "ZhEvctp5pVn3"
      },
      "source": [
        "[*Click for solution*](https://github.com/NeuromatchAcademy/course-content/tree/main//tutorials/W2D3_BiologicalNeuronModels/solutions/W2D3_Tutorial1_Solution_27d69c89.py)\n",
        "\n",
        "*Example output:*\n",
        "\n",
        "<img alt='Solution hint' align='left' width=1078.0 height=378.0 src=https://raw.githubusercontent.com/NeuromatchAcademy/course-content/main/tutorials/W2D3_BiologicalNeuronModels/static/W2D3_Tutorial1_Solution_27d69c89_0.png>\n",
        "\n"
      ]
    },
    {
      "cell_type": "code",
      "source": [
        ""
      ],
      "metadata": {
        "id": "NFBrbhAU1on-"
      },
      "execution_count": null,
      "outputs": []
    },
    {
      "cell_type": "markdown",
      "metadata": {
        "execution": {},
        "id": "4Vq_0RQQpVn3"
      },
      "source": [
        "## Interactive Demo 3B: Spike irregularity explorer for different `sig_gwn`\n",
        "\n",
        "In the above illustration, we see that the CV of inter-spike-interval (ISI) distribution depends on $\\sigma$ of GWN. What about the mean of GWN, should that also affect the CV$_{\\rm ISI}$? If yes, how? Does the efficacy of $\\sigma$ in increasing the CV$_{\\rm ISI}$ depend on $\\mu$?\n",
        "\n",
        "In the following interactive demo, you will examine how different levels of fluctuation $\\sigma$ affect the CVs for different average injected currents ($\\mu$).\n",
        "\n",
        "1. Does the standard deviation of the injected current affect the F-I curve in any qualitative manner?\n",
        "2. Why does increasing the mean of GWN reduce the CV$_{\\rm ISI}$?\n",
        "3.  If you plot spike count (or rate) vs. CV$_{\\rm ISI}$, should there be a relationship between the two? Try out yourself."
      ]
    },
    {
      "cell_type": "code",
      "execution_count": 23,
      "metadata": {
        "cellView": "form",
        "execution": {},
        "colab": {
          "base_uri": "https://localhost:8080/",
          "height": 462,
          "referenced_widgets": [
            "eea3b0ea92b8480483ac64ffdc39acb3",
            "c3fc1d465b1044daa2a41dbf4f000e28",
            "da1d878003744f08b730f405733f7f84",
            "3c81e11b663e4d12b8229d02613a0ad1",
            "d37518ea7c2448a8a68d3812f8378d34",
            "69b454b14f74455391beaf4e506357da",
            "a6d317269e4d4776abbca966293d43f6"
          ]
        },
        "id": "at45YpyHpVn4",
        "outputId": "7c7ab8c7-37ee-488e-af8b-2167c7799b1e"
      },
      "outputs": [
        {
          "output_type": "display_data",
          "data": {
            "text/plain": [
              "interactive(children=(FloatSlider(value=0.0, description='sig_gwn', layout=Layout(width='450px'), max=10.0, st…"
            ],
            "application/vnd.jupyter.widget-view+json": {
              "version_major": 2,
              "version_minor": 0,
              "model_id": "eea3b0ea92b8480483ac64ffdc39acb3"
            }
          },
          "metadata": {}
        }
      ],
      "source": [
        "#@title\n",
        "\n",
        "#@markdown Make sure you execute this cell to enable the widget!\n",
        "\n",
        "my_layout.width = '450px'\n",
        "@widgets.interact(\n",
        "    sig_gwn=widgets.FloatSlider(0.0, min=0., max=10.,\n",
        "                                step=0.5, layout=my_layout)\n",
        ")\n",
        "\n",
        "\n",
        "def diff_std_affect_fI(sig_gwn):\n",
        "  pars = default_pars(T=1000.)\n",
        "  I_mean = np.arange(100., 400., 20)\n",
        "  spk_count = np.zeros(len(I_mean))\n",
        "  cv_isi = np.empty(len(I_mean))\n",
        "\n",
        "  for idx in range(len(I_mean)):\n",
        "    I_GWN = my_GWN(pars, mu=I_mean[idx], sig=sig_gwn)\n",
        "    v, rec_spikes = run_LIF(pars, Iinj=I_GWN)\n",
        "    spk_count[idx] = len(rec_spikes)\n",
        "    if len(rec_spikes) > 3:\n",
        "      isi = np.diff(rec_spikes)\n",
        "      cv_isi[idx] = np.std(isi) / np.mean(isi)\n",
        "\n",
        "  # Plot the F-I curve i.e. Output firing rate as a function of input mean.\n",
        "  plt.figure()\n",
        "  plt.plot(I_mean[spk_count > 5], cv_isi[spk_count > 5], 'bo', alpha=0.5)\n",
        "  plt.xlabel('Average injected current (pA)')\n",
        "  plt.ylabel(r'Spike irregularity ($\\mathrm{CV}_\\mathrm{ISI}$)')\n",
        "  plt.ylim(-0.1, 1.5)\n",
        "  plt.grid(True)\n",
        "  plt.show()"
      ]
    },
    {
      "cell_type": "markdown",
      "metadata": {
        "execution": {},
        "id": "FgiVmNzHpVn4"
      },
      "source": [
        "[*Click for solution*](https://github.com/NeuromatchAcademy/course-content/tree/main//tutorials/W2D3_BiologicalNeuronModels/solutions/W2D3_Tutorial1_Solution_c6f1c4a2.py)\n",
        "\n"
      ]
    },
    {
      "cell_type": "markdown",
      "metadata": {
        "execution": {},
        "id": "k6X1xOg5pVn4"
      },
      "source": [
        "---\n",
        "# Summary\n",
        "\n",
        "*Estimated timing of tutorial: 1 hour, 10 min*\n",
        "\n",
        "Congratulations! You've just built a leaky integrate-and-fire (LIF) neuron model from scratch, and studied its dynamics in response to various types of inputs, having:\n",
        "\n",
        "- simulated the LIF neuron model\n",
        "\n",
        "- driven the LIF neuron with external inputs, such as direct current and Gaussian white noise\n",
        "\n",
        "- studied how different inputs affect the  LIF neuron's output (firing rate and spike time irregularity),\n",
        "\n",
        "with a special focus on low rate and irregular firing regime to mimic real cortical neurons. The next tutorial will look at how spiking statistics may be influenced by a neuron's input statistics.\n",
        "\n",
        "If you have extra time, look at the bonus sections below to explore a different type of noise input and learn about extensions to integrate-and-fire models.\n"
      ]
    },
    {
      "cell_type": "markdown",
      "metadata": {
        "execution": {},
        "id": "MJhqz6XopVn4"
      },
      "source": [
        "---\n",
        "# Bonus"
      ]
    },
    {
      "cell_type": "markdown",
      "metadata": {
        "execution": {},
        "id": "CxCXKWqapVn4"
      },
      "source": [
        "---\n",
        "## Bonus Section 1: Ornstein-Uhlenbeck Process\n",
        "\n",
        "When a neuron receives spiking input, the synaptic current is Shot Noise -- which is a kind of colored noise and the spectrum of the noise determined by the synaptic kernel time constant. That is, a neuron is driven by **colored noise** and not GWN.\n",
        "\n",
        "We can model colored noise using the Ornstein-Uhlenbeck process - filtered white noise. "
      ]
    },
    {
      "cell_type": "markdown",
      "metadata": {
        "execution": {},
        "id": "TaTeu4lmpVn5"
      },
      "source": [
        "We next study if the input current is temporally correlated and is modeled as an Ornstein-Uhlenbeck process $\\eta(t)$, i.e., low-pass filtered GWN with a time constant $\\tau_{\\eta}$: \n",
        "\n",
        "\\begin{equation}\n",
        "\\tau_\\eta \\frac{d}{dt}\\eta(t) = \\mu-\\eta(t) + \\sigma_\\eta\\sqrt{2\\tau_\\eta}\\xi(t)\n",
        "\\end{equation}\n",
        "\n",
        "**Hint:** An OU process as defined above has\n",
        "\n",
        "\\begin{equation}\n",
        "\\mathbb{E}[\\eta(t)]=\\mu\n",
        "\\end{equation}\n",
        "\n",
        "and autocovariance \n",
        "\n",
        "\\begin{equation}\n",
        "[\\eta(t)\\eta(t+\\tau)]=\\sigma_\\eta^2e^{-|t-\\tau|/\\tau_\\eta}\n",
        "\\end{equation}\n",
        "\n",
        "which can be used to check your code. "
      ]
    },
    {
      "cell_type": "code",
      "execution_count": 24,
      "metadata": {
        "cellView": "form",
        "execution": {},
        "colab": {
          "base_uri": "https://localhost:8080/"
        },
        "id": "uUTt_R_XpVn5",
        "outputId": "b34c5b61-5d5c-420a-8113-aee57649d016"
      },
      "outputs": [
        {
          "output_type": "stream",
          "name": "stdout",
          "text": [
            "Help on function my_OU in module __main__:\n",
            "\n",
            "my_OU(pars, mu, sig, myseed=False)\n",
            "    Function that produces Ornstein-Uhlenbeck input\n",
            "    \n",
            "    Args:\n",
            "      pars       : parameter dictionary\n",
            "      sig        : noise amplitute\n",
            "      myseed     : random seed. int or boolean\n",
            "    \n",
            "    Returns:\n",
            "      I_ou       : Ornstein-Uhlenbeck input current\n",
            "\n"
          ]
        }
      ],
      "source": [
        "# @markdown Execute this cell to get helper function `my_OU`\n",
        "\n",
        "\n",
        "def my_OU(pars, mu, sig, myseed=False):\n",
        "  \"\"\"\n",
        "  Function that produces Ornstein-Uhlenbeck input\n",
        "\n",
        "  Args:\n",
        "    pars       : parameter dictionary\n",
        "    sig        : noise amplitute\n",
        "    myseed     : random seed. int or boolean\n",
        "\n",
        "  Returns:\n",
        "    I_ou       : Ornstein-Uhlenbeck input current\n",
        "  \"\"\"\n",
        "\n",
        "  # Retrieve simulation parameters\n",
        "  dt, range_t = pars['dt'], pars['range_t']\n",
        "  Lt = range_t.size\n",
        "  tau_ou = pars['tau_ou']  # [ms]\n",
        "\n",
        "  # set random seed\n",
        "  if myseed:\n",
        "    np.random.seed(seed=myseed)\n",
        "  else:\n",
        "    np.random.seed()\n",
        "\n",
        "  # Initialize\n",
        "  noise = np.random.randn(Lt)\n",
        "  I_ou = np.zeros(Lt)\n",
        "  I_ou[0] = noise[0] * sig\n",
        "\n",
        "  # generate OU\n",
        "  for it in range(Lt-1):\n",
        "    I_ou[it+1] = I_ou[it] + (dt / tau_ou) * (mu - I_ou[it]) + np.sqrt(2 * dt / tau_ou) * sig * noise[it + 1]\n",
        "\n",
        "  return I_ou\n",
        "\n",
        "\n",
        "help(my_OU)"
      ]
    },
    {
      "cell_type": "markdown",
      "metadata": {
        "execution": {},
        "id": "sfuHw2cGpVn5"
      },
      "source": [
        "### Bonus Interactive Demo 1: LIF Explorer with OU input\n",
        "In the following, we will check how a neuron responds to a noisy current that follows the statistics of an OU process.\n",
        "\n",
        "-  How does the OU type input change neuron responsiveness? \n",
        "-  What do you think will happen to the spike pattern and rate if you increased or decreased the time constant of the OU process?"
      ]
    },
    {
      "cell_type": "code",
      "execution_count": 25,
      "metadata": {
        "cellView": "form",
        "execution": {},
        "colab": {
          "base_uri": "https://localhost:8080/",
          "height": 383,
          "referenced_widgets": [
            "a7e5a57e928646d7bd780efe47af96e6",
            "48aa90dfbdc14894b2731eaa62b24f9a",
            "dc4a61905ee94fe8b8624596d08df524",
            "f58a1ac98f7748ec8eabe33d508b0a6b",
            "879b989c5d2c474fbeee9bcc8198c2f2",
            "ebd40fbf62ba4078a317af3ed776f1c7",
            "d37518ea7c2448a8a68d3812f8378d34",
            "129cdb30b83045e18907fac027c3f8cd",
            "025de26fa36c46efada54752c4d83c5d",
            "8823d3675be748ea9d768d02de71bb8c",
            "630586c0d78f45dabeee006c34381498"
          ]
        },
        "id": "f-QVgTJ2pVn5",
        "outputId": "72604aff-8396-40dc-f097-14751ff9e59f"
      },
      "outputs": [
        {
          "output_type": "display_data",
          "data": {
            "text/plain": [
              "interactive(children=(FloatSlider(value=10.0, description='tau_ou', layout=Layout(width='450px'), max=20.0, mi…"
            ],
            "application/vnd.jupyter.widget-view+json": {
              "version_major": 2,
              "version_minor": 0,
              "model_id": "a7e5a57e928646d7bd780efe47af96e6"
            }
          },
          "metadata": {}
        }
      ],
      "source": [
        "# @title\n",
        "\n",
        "# @markdown Remember to enable the widget by running the cell!\n",
        "\n",
        "my_layout.width = '450px'\n",
        "@widgets.interact(\n",
        "  tau_ou=widgets.FloatSlider(10.0, min=5., max=20.,\n",
        "                             step=2.5, layout=my_layout),\n",
        "  sig_ou=widgets.FloatSlider(10.0, min=5., max=40.,\n",
        "                             step=2.5, layout=my_layout),\n",
        "  mu_ou=widgets.FloatSlider(190.0, min=180., max=220.,\n",
        "                            step=2.5, layout=my_layout)\n",
        ")\n",
        "\n",
        "\n",
        "def LIF_with_OU(tau_ou=10., sig_ou=40., mu_ou=200.):\n",
        "  pars = default_pars(T=1000.)\n",
        "  pars['tau_ou'] = tau_ou  # [ms]\n",
        "\n",
        "  I_ou = my_OU(pars, mu_ou, sig_ou)\n",
        "\n",
        "  v, sp = run_LIF(pars, Iinj=I_ou)\n",
        "\n",
        "  plt.figure(figsize=(12, 4))\n",
        "  plt.subplot(121)\n",
        "  plt.plot(pars['range_t'], I_ou, 'b', lw=1.0)\n",
        "  plt.xlabel('Time (ms)')\n",
        "  plt.ylabel(r'$I_{\\mathrm{OU}}$ (pA)')\n",
        "  plt.subplot(122)\n",
        "  plot_volt_trace(pars, v, sp)\n",
        "  plt.tight_layout()\n",
        "  plt.show()"
      ]
    },
    {
      "cell_type": "markdown",
      "metadata": {
        "execution": {},
        "id": "iI9lz9NepVn6"
      },
      "source": [
        "[*Click for solution*](https://github.com/NeuromatchAcademy/course-content/tree/main//tutorials/W2D3_BiologicalNeuronModels/solutions/W2D3_Tutorial1_Solution_a0f797af.py)\n",
        "\n"
      ]
    },
    {
      "cell_type": "markdown",
      "metadata": {
        "execution": {},
        "id": "87LKV21XpVn6"
      },
      "source": [
        "---\n",
        "## Bonus Section 2: Generalized Integrate-and-Fire models\n",
        "\n",
        "LIF model is not the only abstraction of real neurons. If you want to learn about more realistic types of neuronal models, watch the Bonus Video!"
      ]
    },
    {
      "cell_type": "code",
      "execution_count": 26,
      "metadata": {
        "cellView": "form",
        "execution": {},
        "colab": {
          "base_uri": "https://localhost:8080/",
          "height": 581,
          "referenced_widgets": [
            "43a5859a1e8f40938e5fb937abc88a0b",
            "70d13bf793a94d86b3acdbce18c51810",
            "64d6888494e04080922daa5e1a858a4a",
            "e381d858e4e04255bce98b5f36e7d5ab",
            "3712c56d5ef14858bbf3b8d12a837f6c",
            "71efc9667ce74e8d81bdbd5255d7aa3d"
          ]
        },
        "id": "zhEfmyaGpVn6",
        "outputId": "3f222aa9-baf2-4283-c9e5-0805734be3b2"
      },
      "outputs": [
        {
          "output_type": "display_data",
          "data": {
            "text/plain": [
              "Tab(children=(Output(), Output()), _titles={'0': 'Youtube', '1': 'Bilibili'})"
            ],
            "application/vnd.jupyter.widget-view+json": {
              "version_major": 2,
              "version_minor": 0,
              "model_id": "43a5859a1e8f40938e5fb937abc88a0b"
            }
          },
          "metadata": {}
        }
      ],
      "source": [
        "# @title Video 3 (Bonus): Extensions to Integrate-and-Fire models\n",
        "from ipywidgets import widgets\n",
        "\n",
        "out2 = widgets.Output()\n",
        "with out2:\n",
        "  from IPython.display import IFrame\n",
        "  class BiliVideo(IFrame):\n",
        "      def __init__(self, id, page=1, width=400, height=300, **kwargs):\n",
        "          self.id=id\n",
        "          src = 'https://player.bilibili.com/player.html?bvid={0}&page={1}'.format(id, page)\n",
        "          super(BiliVideo, self).__init__(src, width, height, **kwargs)\n",
        "\n",
        "  video = BiliVideo(id=\"\", width=854, height=480, fs=1)\n",
        "  print('Video available at https://www.bilibili.com/video/{0}'.format(video.id))\n",
        "  display(video)\n",
        "\n",
        "out1 = widgets.Output()\n",
        "with out1:\n",
        "  from IPython.display import YouTubeVideo\n",
        "  video = YouTubeVideo(id=\"G0b6wLhuQxE\", width=854, height=480, fs=1, rel=0)\n",
        "  print('Video available at https://youtube.com/watch?v=' + video.id)\n",
        "  display(video)\n",
        "\n",
        "out = widgets.Tab([out1, out2])\n",
        "out.set_title(0, 'Youtube')\n",
        "out.set_title(1, 'Bilibili')\n",
        "\n",
        "display(out)"
      ]
    }
  ],
  "metadata": {
    "colab": {
      "collapsed_sections": [],
      "name": "W2D3_Tutorial1",
      "provenance": []
    },
    "kernel": {
      "display_name": "Python 3",
      "language": "python",
      "name": "python3"
    },
    "kernelspec": {
      "display_name": "Python 3",
      "name": "python3"
    },
    "language_info": {
      "codemirror_mode": {
        "name": "ipython",
        "version": 3
      },
      "file_extension": ".py",
      "mimetype": "text/x-python",
      "name": "python",
      "nbconvert_exporter": "python",
      "pygments_lexer": "ipython3",
      "version": "3.7.13"
    },
    "widgets": {
      "application/vnd.jupyter.widget-state+json": {
        "5fb81bdcfe5c4046871561e2b7331e76": {
          "model_module": "@jupyter-widgets/controls",
          "model_name": "VBoxModel",
          "model_module_version": "1.5.0",
          "state": {
            "_dom_classes": [
              "widget-interact"
            ],
            "_model_module": "@jupyter-widgets/controls",
            "_model_module_version": "1.5.0",
            "_model_name": "VBoxModel",
            "_view_count": null,
            "_view_module": "@jupyter-widgets/controls",
            "_view_module_version": "1.5.0",
            "_view_name": "VBoxView",
            "box_style": "",
            "children": [
              "IPY_MODEL_37749959d805447e916f63a4e0d3820a",
              "IPY_MODEL_2e872f17cda34ddf8e8bb1859ef1c7e3",
              "IPY_MODEL_fd4e6ae7d00b4dacb35b708c98de38b3"
            ],
            "layout": "IPY_MODEL_61eebcdfc5214851959181b3c42690d6"
          }
        },
        "37749959d805447e916f63a4e0d3820a": {
          "model_module": "@jupyter-widgets/controls",
          "model_name": "FloatSliderModel",
          "model_module_version": "1.5.0",
          "state": {
            "_dom_classes": [],
            "_model_module": "@jupyter-widgets/controls",
            "_model_module_version": "1.5.0",
            "_model_name": "FloatSliderModel",
            "_view_count": null,
            "_view_module": "@jupyter-widgets/controls",
            "_view_module_version": "1.5.0",
            "_view_name": "FloatSliderView",
            "continuous_update": true,
            "description": "I_dc",
            "description_tooltip": null,
            "disabled": false,
            "layout": "IPY_MODEL_d37518ea7c2448a8a68d3812f8378d34",
            "max": 300,
            "min": 0,
            "orientation": "horizontal",
            "readout": true,
            "readout_format": ".2f",
            "step": 10,
            "style": "IPY_MODEL_14501e0d2dd24945ada71fb49f735ea7",
            "value": 240
          }
        },
        "2e872f17cda34ddf8e8bb1859ef1c7e3": {
          "model_module": "@jupyter-widgets/controls",
          "model_name": "FloatSliderModel",
          "model_module_version": "1.5.0",
          "state": {
            "_dom_classes": [],
            "_model_module": "@jupyter-widgets/controls",
            "_model_module_version": "1.5.0",
            "_model_name": "FloatSliderModel",
            "_view_count": null,
            "_view_module": "@jupyter-widgets/controls",
            "_view_module_version": "1.5.0",
            "_view_name": "FloatSliderView",
            "continuous_update": true,
            "description": "tau_m",
            "description_tooltip": null,
            "disabled": false,
            "layout": "IPY_MODEL_d37518ea7c2448a8a68d3812f8378d34",
            "max": 20,
            "min": 2,
            "orientation": "horizontal",
            "readout": true,
            "readout_format": ".2f",
            "step": 2,
            "style": "IPY_MODEL_cbdd512f879b42a6aa1bf17241486a80",
            "value": 10
          }
        },
        "fd4e6ae7d00b4dacb35b708c98de38b3": {
          "model_module": "@jupyter-widgets/output",
          "model_name": "OutputModel",
          "model_module_version": "1.0.0",
          "state": {
            "_dom_classes": [],
            "_model_module": "@jupyter-widgets/output",
            "_model_module_version": "1.0.0",
            "_model_name": "OutputModel",
            "_view_count": null,
            "_view_module": "@jupyter-widgets/output",
            "_view_module_version": "1.0.0",
            "_view_name": "OutputView",
            "layout": "IPY_MODEL_8fbd7e6d5446437994adbbfb08705707",
            "msg_id": "",
            "outputs": [
              {
                "output_type": "display_data",
                "data": {
                  "text/plain": "<Figure size 576x432 with 1 Axes>",
                  "image/png": "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\n"
                },
                "metadata": {
                  "image/png": {
                    "width": 552,
                    "height": 414
                  },
                  "needs_background": "light"
                }
              }
            ]
          }
        },
        "61eebcdfc5214851959181b3c42690d6": {
          "model_module": "@jupyter-widgets/base",
          "model_name": "LayoutModel",
          "model_module_version": "1.2.0",
          "state": {
            "_model_module": "@jupyter-widgets/base",
            "_model_module_version": "1.2.0",
            "_model_name": "LayoutModel",
            "_view_count": null,
            "_view_module": "@jupyter-widgets/base",
            "_view_module_version": "1.2.0",
            "_view_name": "LayoutView",
            "align_content": null,
            "align_items": null,
            "align_self": null,
            "border": null,
            "bottom": null,
            "display": null,
            "flex": null,
            "flex_flow": null,
            "grid_area": null,
            "grid_auto_columns": null,
            "grid_auto_flow": null,
            "grid_auto_rows": null,
            "grid_column": null,
            "grid_gap": null,
            "grid_row": null,
            "grid_template_areas": null,
            "grid_template_columns": null,
            "grid_template_rows": null,
            "height": null,
            "justify_content": null,
            "justify_items": null,
            "left": null,
            "margin": null,
            "max_height": null,
            "max_width": null,
            "min_height": null,
            "min_width": null,
            "object_fit": null,
            "object_position": null,
            "order": null,
            "overflow": null,
            "overflow_x": null,
            "overflow_y": null,
            "padding": null,
            "right": null,
            "top": null,
            "visibility": null,
            "width": null
          }
        },
        "d37518ea7c2448a8a68d3812f8378d34": {
          "model_module": "@jupyter-widgets/base",
          "model_name": "LayoutModel",
          "model_module_version": "1.2.0",
          "state": {
            "_model_module": "@jupyter-widgets/base",
            "_model_module_version": "1.2.0",
            "_model_name": "LayoutModel",
            "_view_count": null,
            "_view_module": "@jupyter-widgets/base",
            "_view_module_version": "1.2.0",
            "_view_name": "LayoutView",
            "align_content": null,
            "align_items": null,
            "align_self": null,
            "border": null,
            "bottom": null,
            "display": null,
            "flex": null,
            "flex_flow": null,
            "grid_area": null,
            "grid_auto_columns": null,
            "grid_auto_flow": null,
            "grid_auto_rows": null,
            "grid_column": null,
            "grid_gap": null,
            "grid_row": null,
            "grid_template_areas": null,
            "grid_template_columns": null,
            "grid_template_rows": null,
            "height": null,
            "justify_content": null,
            "justify_items": null,
            "left": null,
            "margin": null,
            "max_height": null,
            "max_width": null,
            "min_height": null,
            "min_width": null,
            "object_fit": null,
            "object_position": null,
            "order": null,
            "overflow": null,
            "overflow_x": null,
            "overflow_y": null,
            "padding": null,
            "right": null,
            "top": null,
            "visibility": null,
            "width": "450px"
          }
        },
        "14501e0d2dd24945ada71fb49f735ea7": {
          "model_module": "@jupyter-widgets/controls",
          "model_name": "SliderStyleModel",
          "model_module_version": "1.5.0",
          "state": {
            "_model_module": "@jupyter-widgets/controls",
            "_model_module_version": "1.5.0",
            "_model_name": "SliderStyleModel",
            "_view_count": null,
            "_view_module": "@jupyter-widgets/base",
            "_view_module_version": "1.2.0",
            "_view_name": "StyleView",
            "description_width": "",
            "handle_color": null
          }
        },
        "cbdd512f879b42a6aa1bf17241486a80": {
          "model_module": "@jupyter-widgets/controls",
          "model_name": "SliderStyleModel",
          "model_module_version": "1.5.0",
          "state": {
            "_model_module": "@jupyter-widgets/controls",
            "_model_module_version": "1.5.0",
            "_model_name": "SliderStyleModel",
            "_view_count": null,
            "_view_module": "@jupyter-widgets/base",
            "_view_module_version": "1.2.0",
            "_view_name": "StyleView",
            "description_width": "",
            "handle_color": null
          }
        },
        "8fbd7e6d5446437994adbbfb08705707": {
          "model_module": "@jupyter-widgets/base",
          "model_name": "LayoutModel",
          "model_module_version": "1.2.0",
          "state": {
            "_model_module": "@jupyter-widgets/base",
            "_model_module_version": "1.2.0",
            "_model_name": "LayoutModel",
            "_view_count": null,
            "_view_module": "@jupyter-widgets/base",
            "_view_module_version": "1.2.0",
            "_view_name": "LayoutView",
            "align_content": null,
            "align_items": null,
            "align_self": null,
            "border": null,
            "bottom": null,
            "display": null,
            "flex": null,
            "flex_flow": null,
            "grid_area": null,
            "grid_auto_columns": null,
            "grid_auto_flow": null,
            "grid_auto_rows": null,
            "grid_column": null,
            "grid_gap": null,
            "grid_row": null,
            "grid_template_areas": null,
            "grid_template_columns": null,
            "grid_template_rows": null,
            "height": null,
            "justify_content": null,
            "justify_items": null,
            "left": null,
            "margin": null,
            "max_height": null,
            "max_width": null,
            "min_height": null,
            "min_width": null,
            "object_fit": null,
            "object_position": null,
            "order": null,
            "overflow": null,
            "overflow_x": null,
            "overflow_y": null,
            "padding": null,
            "right": null,
            "top": null,
            "visibility": null,
            "width": null
          }
        },
        "2e0cd040139c4c1c9067b9c4526e4b48": {
          "model_module": "@jupyter-widgets/controls",
          "model_name": "VBoxModel",
          "model_module_version": "1.5.0",
          "state": {
            "_dom_classes": [
              "widget-interact"
            ],
            "_model_module": "@jupyter-widgets/controls",
            "_model_module_version": "1.5.0",
            "_model_name": "VBoxModel",
            "_view_count": null,
            "_view_module": "@jupyter-widgets/controls",
            "_view_module_version": "1.5.0",
            "_view_name": "VBoxView",
            "box_style": "",
            "children": [
              "IPY_MODEL_176eb97a8e2f42b9adc61275cc9178f7",
              "IPY_MODEL_5fd6a7c704eb4590bce2174794e0f588",
              "IPY_MODEL_19f5c48eebfb44eb9849cbb281d9f9af"
            ],
            "layout": "IPY_MODEL_7e106786ed3f465997a7e7a291a43cdc"
          }
        },
        "176eb97a8e2f42b9adc61275cc9178f7": {
          "model_module": "@jupyter-widgets/controls",
          "model_name": "FloatSliderModel",
          "model_module_version": "1.5.0",
          "state": {
            "_dom_classes": [],
            "_model_module": "@jupyter-widgets/controls",
            "_model_module_version": "1.5.0",
            "_model_name": "FloatSliderModel",
            "_view_count": null,
            "_view_module": "@jupyter-widgets/controls",
            "_view_module_version": "1.5.0",
            "_view_name": "FloatSliderView",
            "continuous_update": true,
            "description": "mu_gwn",
            "description_tooltip": null,
            "disabled": false,
            "layout": "IPY_MODEL_d37518ea7c2448a8a68d3812f8378d34",
            "max": 300,
            "min": 100,
            "orientation": "horizontal",
            "readout": true,
            "readout_format": ".2f",
            "step": 5,
            "style": "IPY_MODEL_0adf396600fe4e33901a1e1cc7778e56",
            "value": 200
          }
        },
        "5fd6a7c704eb4590bce2174794e0f588": {
          "model_module": "@jupyter-widgets/controls",
          "model_name": "FloatSliderModel",
          "model_module_version": "1.5.0",
          "state": {
            "_dom_classes": [],
            "_model_module": "@jupyter-widgets/controls",
            "_model_module_version": "1.5.0",
            "_model_name": "FloatSliderModel",
            "_view_count": null,
            "_view_module": "@jupyter-widgets/controls",
            "_view_module_version": "1.5.0",
            "_view_name": "FloatSliderView",
            "continuous_update": true,
            "description": "sig_gwn",
            "description_tooltip": null,
            "disabled": false,
            "layout": "IPY_MODEL_d37518ea7c2448a8a68d3812f8378d34",
            "max": 5,
            "min": 0,
            "orientation": "horizontal",
            "readout": true,
            "readout_format": ".2f",
            "step": 0.5,
            "style": "IPY_MODEL_afea51986e5f4f78aa39e106c987d02c",
            "value": 2.5
          }
        },
        "19f5c48eebfb44eb9849cbb281d9f9af": {
          "model_module": "@jupyter-widgets/output",
          "model_name": "OutputModel",
          "model_module_version": "1.0.0",
          "state": {
            "_dom_classes": [],
            "_model_module": "@jupyter-widgets/output",
            "_model_module_version": "1.0.0",
            "_model_name": "OutputModel",
            "_view_count": null,
            "_view_module": "@jupyter-widgets/output",
            "_view_module_version": "1.0.0",
            "_view_name": "OutputView",
            "layout": "IPY_MODEL_fa3f50a114c0486a84c76015684682fb",
            "msg_id": "",
            "outputs": [
              {
                "output_type": "display_data",
                "data": {
                  "text/plain": "<Figure size 864x288 with 2 Axes>",
                  "image/png": "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\n"
                },
                "metadata": {
                  "image/png": {
                    "width": 846,
                    "height": 270
                  },
                  "needs_background": "light"
                }
              }
            ]
          }
        },
        "7e106786ed3f465997a7e7a291a43cdc": {
          "model_module": "@jupyter-widgets/base",
          "model_name": "LayoutModel",
          "model_module_version": "1.2.0",
          "state": {
            "_model_module": "@jupyter-widgets/base",
            "_model_module_version": "1.2.0",
            "_model_name": "LayoutModel",
            "_view_count": null,
            "_view_module": "@jupyter-widgets/base",
            "_view_module_version": "1.2.0",
            "_view_name": "LayoutView",
            "align_content": null,
            "align_items": null,
            "align_self": null,
            "border": null,
            "bottom": null,
            "display": null,
            "flex": null,
            "flex_flow": null,
            "grid_area": null,
            "grid_auto_columns": null,
            "grid_auto_flow": null,
            "grid_auto_rows": null,
            "grid_column": null,
            "grid_gap": null,
            "grid_row": null,
            "grid_template_areas": null,
            "grid_template_columns": null,
            "grid_template_rows": null,
            "height": null,
            "justify_content": null,
            "justify_items": null,
            "left": null,
            "margin": null,
            "max_height": null,
            "max_width": null,
            "min_height": null,
            "min_width": null,
            "object_fit": null,
            "object_position": null,
            "order": null,
            "overflow": null,
            "overflow_x": null,
            "overflow_y": null,
            "padding": null,
            "right": null,
            "top": null,
            "visibility": null,
            "width": null
          }
        },
        "0adf396600fe4e33901a1e1cc7778e56": {
          "model_module": "@jupyter-widgets/controls",
          "model_name": "SliderStyleModel",
          "model_module_version": "1.5.0",
          "state": {
            "_model_module": "@jupyter-widgets/controls",
            "_model_module_version": "1.5.0",
            "_model_name": "SliderStyleModel",
            "_view_count": null,
            "_view_module": "@jupyter-widgets/base",
            "_view_module_version": "1.2.0",
            "_view_name": "StyleView",
            "description_width": "",
            "handle_color": null
          }
        },
        "afea51986e5f4f78aa39e106c987d02c": {
          "model_module": "@jupyter-widgets/controls",
          "model_name": "SliderStyleModel",
          "model_module_version": "1.5.0",
          "state": {
            "_model_module": "@jupyter-widgets/controls",
            "_model_module_version": "1.5.0",
            "_model_name": "SliderStyleModel",
            "_view_count": null,
            "_view_module": "@jupyter-widgets/base",
            "_view_module_version": "1.2.0",
            "_view_name": "StyleView",
            "description_width": "",
            "handle_color": null
          }
        },
        "fa3f50a114c0486a84c76015684682fb": {
          "model_module": "@jupyter-widgets/base",
          "model_name": "LayoutModel",
          "model_module_version": "1.2.0",
          "state": {
            "_model_module": "@jupyter-widgets/base",
            "_model_module_version": "1.2.0",
            "_model_name": "LayoutModel",
            "_view_count": null,
            "_view_module": "@jupyter-widgets/base",
            "_view_module_version": "1.2.0",
            "_view_name": "LayoutView",
            "align_content": null,
            "align_items": null,
            "align_self": null,
            "border": null,
            "bottom": null,
            "display": null,
            "flex": null,
            "flex_flow": null,
            "grid_area": null,
            "grid_auto_columns": null,
            "grid_auto_flow": null,
            "grid_auto_rows": null,
            "grid_column": null,
            "grid_gap": null,
            "grid_row": null,
            "grid_template_areas": null,
            "grid_template_columns": null,
            "grid_template_rows": null,
            "height": null,
            "justify_content": null,
            "justify_items": null,
            "left": null,
            "margin": null,
            "max_height": null,
            "max_width": null,
            "min_height": null,
            "min_width": null,
            "object_fit": null,
            "object_position": null,
            "order": null,
            "overflow": null,
            "overflow_x": null,
            "overflow_y": null,
            "padding": null,
            "right": null,
            "top": null,
            "visibility": null,
            "width": null
          }
        },
        "9f393cbf440341c3ada75060c3b4547c": {
          "model_module": "@jupyter-widgets/controls",
          "model_name": "VBoxModel",
          "model_module_version": "1.5.0",
          "state": {
            "_dom_classes": [
              "widget-interact"
            ],
            "_model_module": "@jupyter-widgets/controls",
            "_model_module_version": "1.5.0",
            "_model_name": "VBoxModel",
            "_view_count": null,
            "_view_module": "@jupyter-widgets/controls",
            "_view_module_version": "1.5.0",
            "_view_name": "VBoxView",
            "box_style": "",
            "children": [
              "IPY_MODEL_5fe900989316477ead0c0ecc85642a51",
              "IPY_MODEL_7d662d7756b24ca7a1c3d85334d3d019"
            ],
            "layout": "IPY_MODEL_69d35cb1dca84be2b298e5a58d4feedd"
          }
        },
        "5fe900989316477ead0c0ecc85642a51": {
          "model_module": "@jupyter-widgets/controls",
          "model_name": "FloatSliderModel",
          "model_module_version": "1.5.0",
          "state": {
            "_dom_classes": [],
            "_model_module": "@jupyter-widgets/controls",
            "_model_module_version": "1.5.0",
            "_model_name": "FloatSliderModel",
            "_view_count": null,
            "_view_module": "@jupyter-widgets/controls",
            "_view_module_version": "1.5.0",
            "_view_name": "FloatSliderView",
            "continuous_update": true,
            "description": "sig_gwn",
            "description_tooltip": null,
            "disabled": false,
            "layout": "IPY_MODEL_d37518ea7c2448a8a68d3812f8378d34",
            "max": 6,
            "min": 0,
            "orientation": "horizontal",
            "readout": true,
            "readout_format": ".2f",
            "step": 0.5,
            "style": "IPY_MODEL_97d90a37203248b28323a649b02c4b68",
            "value": 5
          }
        },
        "7d662d7756b24ca7a1c3d85334d3d019": {
          "model_module": "@jupyter-widgets/output",
          "model_name": "OutputModel",
          "model_module_version": "1.0.0",
          "state": {
            "_dom_classes": [],
            "_model_module": "@jupyter-widgets/output",
            "_model_module_version": "1.0.0",
            "_model_name": "OutputModel",
            "_view_count": null,
            "_view_module": "@jupyter-widgets/output",
            "_view_module_version": "1.0.0",
            "_view_name": "OutputView",
            "layout": "IPY_MODEL_2a108d5409e449e78739f4c69982fa0c",
            "msg_id": "",
            "outputs": [
              {
                "output_type": "display_data",
                "data": {
                  "text/plain": "<Figure size 576x432 with 1 Axes>",
                  "image/png": "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\n"
                },
                "metadata": {
                  "image/png": {
                    "width": 557,
                    "height": 414
                  },
                  "needs_background": "light"
                }
              }
            ]
          }
        },
        "69d35cb1dca84be2b298e5a58d4feedd": {
          "model_module": "@jupyter-widgets/base",
          "model_name": "LayoutModel",
          "model_module_version": "1.2.0",
          "state": {
            "_model_module": "@jupyter-widgets/base",
            "_model_module_version": "1.2.0",
            "_model_name": "LayoutModel",
            "_view_count": null,
            "_view_module": "@jupyter-widgets/base",
            "_view_module_version": "1.2.0",
            "_view_name": "LayoutView",
            "align_content": null,
            "align_items": null,
            "align_self": null,
            "border": null,
            "bottom": null,
            "display": null,
            "flex": null,
            "flex_flow": null,
            "grid_area": null,
            "grid_auto_columns": null,
            "grid_auto_flow": null,
            "grid_auto_rows": null,
            "grid_column": null,
            "grid_gap": null,
            "grid_row": null,
            "grid_template_areas": null,
            "grid_template_columns": null,
            "grid_template_rows": null,
            "height": null,
            "justify_content": null,
            "justify_items": null,
            "left": null,
            "margin": null,
            "max_height": null,
            "max_width": null,
            "min_height": null,
            "min_width": null,
            "object_fit": null,
            "object_position": null,
            "order": null,
            "overflow": null,
            "overflow_x": null,
            "overflow_y": null,
            "padding": null,
            "right": null,
            "top": null,
            "visibility": null,
            "width": null
          }
        },
        "97d90a37203248b28323a649b02c4b68": {
          "model_module": "@jupyter-widgets/controls",
          "model_name": "SliderStyleModel",
          "model_module_version": "1.5.0",
          "state": {
            "_model_module": "@jupyter-widgets/controls",
            "_model_module_version": "1.5.0",
            "_model_name": "SliderStyleModel",
            "_view_count": null,
            "_view_module": "@jupyter-widgets/base",
            "_view_module_version": "1.2.0",
            "_view_name": "StyleView",
            "description_width": "",
            "handle_color": null
          }
        },
        "2a108d5409e449e78739f4c69982fa0c": {
          "model_module": "@jupyter-widgets/base",
          "model_name": "LayoutModel",
          "model_module_version": "1.2.0",
          "state": {
            "_model_module": "@jupyter-widgets/base",
            "_model_module_version": "1.2.0",
            "_model_name": "LayoutModel",
            "_view_count": null,
            "_view_module": "@jupyter-widgets/base",
            "_view_module_version": "1.2.0",
            "_view_name": "LayoutView",
            "align_content": null,
            "align_items": null,
            "align_self": null,
            "border": null,
            "bottom": null,
            "display": null,
            "flex": null,
            "flex_flow": null,
            "grid_area": null,
            "grid_auto_columns": null,
            "grid_auto_flow": null,
            "grid_auto_rows": null,
            "grid_column": null,
            "grid_gap": null,
            "grid_row": null,
            "grid_template_areas": null,
            "grid_template_columns": null,
            "grid_template_rows": null,
            "height": null,
            "justify_content": null,
            "justify_items": null,
            "left": null,
            "margin": null,
            "max_height": null,
            "max_width": null,
            "min_height": null,
            "min_width": null,
            "object_fit": null,
            "object_position": null,
            "order": null,
            "overflow": null,
            "overflow_x": null,
            "overflow_y": null,
            "padding": null,
            "right": null,
            "top": null,
            "visibility": null,
            "width": null
          }
        },
        "eea3b0ea92b8480483ac64ffdc39acb3": {
          "model_module": "@jupyter-widgets/controls",
          "model_name": "VBoxModel",
          "model_module_version": "1.5.0",
          "state": {
            "_dom_classes": [
              "widget-interact"
            ],
            "_model_module": "@jupyter-widgets/controls",
            "_model_module_version": "1.5.0",
            "_model_name": "VBoxModel",
            "_view_count": null,
            "_view_module": "@jupyter-widgets/controls",
            "_view_module_version": "1.5.0",
            "_view_name": "VBoxView",
            "box_style": "",
            "children": [
              "IPY_MODEL_c3fc1d465b1044daa2a41dbf4f000e28",
              "IPY_MODEL_da1d878003744f08b730f405733f7f84"
            ],
            "layout": "IPY_MODEL_3c81e11b663e4d12b8229d02613a0ad1"
          }
        },
        "c3fc1d465b1044daa2a41dbf4f000e28": {
          "model_module": "@jupyter-widgets/controls",
          "model_name": "FloatSliderModel",
          "model_module_version": "1.5.0",
          "state": {
            "_dom_classes": [],
            "_model_module": "@jupyter-widgets/controls",
            "_model_module_version": "1.5.0",
            "_model_name": "FloatSliderModel",
            "_view_count": null,
            "_view_module": "@jupyter-widgets/controls",
            "_view_module_version": "1.5.0",
            "_view_name": "FloatSliderView",
            "continuous_update": true,
            "description": "sig_gwn",
            "description_tooltip": null,
            "disabled": false,
            "layout": "IPY_MODEL_d37518ea7c2448a8a68d3812f8378d34",
            "max": 10,
            "min": 0,
            "orientation": "horizontal",
            "readout": true,
            "readout_format": ".2f",
            "step": 0.5,
            "style": "IPY_MODEL_69b454b14f74455391beaf4e506357da",
            "value": 0
          }
        },
        "da1d878003744f08b730f405733f7f84": {
          "model_module": "@jupyter-widgets/output",
          "model_name": "OutputModel",
          "model_module_version": "1.0.0",
          "state": {
            "_dom_classes": [],
            "_model_module": "@jupyter-widgets/output",
            "_model_module_version": "1.0.0",
            "_model_name": "OutputModel",
            "_view_count": null,
            "_view_module": "@jupyter-widgets/output",
            "_view_module_version": "1.0.0",
            "_view_name": "OutputView",
            "layout": "IPY_MODEL_a6d317269e4d4776abbca966293d43f6",
            "msg_id": "",
            "outputs": [
              {
                "output_type": "display_data",
                "data": {
                  "text/plain": "<Figure size 576x432 with 1 Axes>",
                  "image/png": "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\n"
                },
                "metadata": {
                  "image/png": {
                    "width": 558,
                    "height": 413
                  },
                  "needs_background": "light"
                }
              }
            ]
          }
        },
        "3c81e11b663e4d12b8229d02613a0ad1": {
          "model_module": "@jupyter-widgets/base",
          "model_name": "LayoutModel",
          "model_module_version": "1.2.0",
          "state": {
            "_model_module": "@jupyter-widgets/base",
            "_model_module_version": "1.2.0",
            "_model_name": "LayoutModel",
            "_view_count": null,
            "_view_module": "@jupyter-widgets/base",
            "_view_module_version": "1.2.0",
            "_view_name": "LayoutView",
            "align_content": null,
            "align_items": null,
            "align_self": null,
            "border": null,
            "bottom": null,
            "display": null,
            "flex": null,
            "flex_flow": null,
            "grid_area": null,
            "grid_auto_columns": null,
            "grid_auto_flow": null,
            "grid_auto_rows": null,
            "grid_column": null,
            "grid_gap": null,
            "grid_row": null,
            "grid_template_areas": null,
            "grid_template_columns": null,
            "grid_template_rows": null,
            "height": null,
            "justify_content": null,
            "justify_items": null,
            "left": null,
            "margin": null,
            "max_height": null,
            "max_width": null,
            "min_height": null,
            "min_width": null,
            "object_fit": null,
            "object_position": null,
            "order": null,
            "overflow": null,
            "overflow_x": null,
            "overflow_y": null,
            "padding": null,
            "right": null,
            "top": null,
            "visibility": null,
            "width": null
          }
        },
        "69b454b14f74455391beaf4e506357da": {
          "model_module": "@jupyter-widgets/controls",
          "model_name": "SliderStyleModel",
          "model_module_version": "1.5.0",
          "state": {
            "_model_module": "@jupyter-widgets/controls",
            "_model_module_version": "1.5.0",
            "_model_name": "SliderStyleModel",
            "_view_count": null,
            "_view_module": "@jupyter-widgets/base",
            "_view_module_version": "1.2.0",
            "_view_name": "StyleView",
            "description_width": "",
            "handle_color": null
          }
        },
        "a6d317269e4d4776abbca966293d43f6": {
          "model_module": "@jupyter-widgets/base",
          "model_name": "LayoutModel",
          "model_module_version": "1.2.0",
          "state": {
            "_model_module": "@jupyter-widgets/base",
            "_model_module_version": "1.2.0",
            "_model_name": "LayoutModel",
            "_view_count": null,
            "_view_module": "@jupyter-widgets/base",
            "_view_module_version": "1.2.0",
            "_view_name": "LayoutView",
            "align_content": null,
            "align_items": null,
            "align_self": null,
            "border": null,
            "bottom": null,
            "display": null,
            "flex": null,
            "flex_flow": null,
            "grid_area": null,
            "grid_auto_columns": null,
            "grid_auto_flow": null,
            "grid_auto_rows": null,
            "grid_column": null,
            "grid_gap": null,
            "grid_row": null,
            "grid_template_areas": null,
            "grid_template_columns": null,
            "grid_template_rows": null,
            "height": null,
            "justify_content": null,
            "justify_items": null,
            "left": null,
            "margin": null,
            "max_height": null,
            "max_width": null,
            "min_height": null,
            "min_width": null,
            "object_fit": null,
            "object_position": null,
            "order": null,
            "overflow": null,
            "overflow_x": null,
            "overflow_y": null,
            "padding": null,
            "right": null,
            "top": null,
            "visibility": null,
            "width": null
          }
        },
        "a7e5a57e928646d7bd780efe47af96e6": {
          "model_module": "@jupyter-widgets/controls",
          "model_name": "VBoxModel",
          "model_module_version": "1.5.0",
          "state": {
            "_dom_classes": [
              "widget-interact"
            ],
            "_model_module": "@jupyter-widgets/controls",
            "_model_module_version": "1.5.0",
            "_model_name": "VBoxModel",
            "_view_count": null,
            "_view_module": "@jupyter-widgets/controls",
            "_view_module_version": "1.5.0",
            "_view_name": "VBoxView",
            "box_style": "",
            "children": [
              "IPY_MODEL_48aa90dfbdc14894b2731eaa62b24f9a",
              "IPY_MODEL_dc4a61905ee94fe8b8624596d08df524",
              "IPY_MODEL_f58a1ac98f7748ec8eabe33d508b0a6b",
              "IPY_MODEL_879b989c5d2c474fbeee9bcc8198c2f2"
            ],
            "layout": "IPY_MODEL_ebd40fbf62ba4078a317af3ed776f1c7"
          }
        },
        "48aa90dfbdc14894b2731eaa62b24f9a": {
          "model_module": "@jupyter-widgets/controls",
          "model_name": "FloatSliderModel",
          "model_module_version": "1.5.0",
          "state": {
            "_dom_classes": [],
            "_model_module": "@jupyter-widgets/controls",
            "_model_module_version": "1.5.0",
            "_model_name": "FloatSliderModel",
            "_view_count": null,
            "_view_module": "@jupyter-widgets/controls",
            "_view_module_version": "1.5.0",
            "_view_name": "FloatSliderView",
            "continuous_update": true,
            "description": "tau_ou",
            "description_tooltip": null,
            "disabled": false,
            "layout": "IPY_MODEL_d37518ea7c2448a8a68d3812f8378d34",
            "max": 20,
            "min": 5,
            "orientation": "horizontal",
            "readout": true,
            "readout_format": ".2f",
            "step": 2.5,
            "style": "IPY_MODEL_129cdb30b83045e18907fac027c3f8cd",
            "value": 12.5
          }
        },
        "dc4a61905ee94fe8b8624596d08df524": {
          "model_module": "@jupyter-widgets/controls",
          "model_name": "FloatSliderModel",
          "model_module_version": "1.5.0",
          "state": {
            "_dom_classes": [],
            "_model_module": "@jupyter-widgets/controls",
            "_model_module_version": "1.5.0",
            "_model_name": "FloatSliderModel",
            "_view_count": null,
            "_view_module": "@jupyter-widgets/controls",
            "_view_module_version": "1.5.0",
            "_view_name": "FloatSliderView",
            "continuous_update": true,
            "description": "sig_ou",
            "description_tooltip": null,
            "disabled": false,
            "layout": "IPY_MODEL_d37518ea7c2448a8a68d3812f8378d34",
            "max": 40,
            "min": 5,
            "orientation": "horizontal",
            "readout": true,
            "readout_format": ".2f",
            "step": 2.5,
            "style": "IPY_MODEL_025de26fa36c46efada54752c4d83c5d",
            "value": 10
          }
        },
        "f58a1ac98f7748ec8eabe33d508b0a6b": {
          "model_module": "@jupyter-widgets/controls",
          "model_name": "FloatSliderModel",
          "model_module_version": "1.5.0",
          "state": {
            "_dom_classes": [],
            "_model_module": "@jupyter-widgets/controls",
            "_model_module_version": "1.5.0",
            "_model_name": "FloatSliderModel",
            "_view_count": null,
            "_view_module": "@jupyter-widgets/controls",
            "_view_module_version": "1.5.0",
            "_view_name": "FloatSliderView",
            "continuous_update": true,
            "description": "mu_ou",
            "description_tooltip": null,
            "disabled": false,
            "layout": "IPY_MODEL_d37518ea7c2448a8a68d3812f8378d34",
            "max": 220,
            "min": 180,
            "orientation": "horizontal",
            "readout": true,
            "readout_format": ".2f",
            "step": 2.5,
            "style": "IPY_MODEL_8823d3675be748ea9d768d02de71bb8c",
            "value": 190
          }
        },
        "879b989c5d2c474fbeee9bcc8198c2f2": {
          "model_module": "@jupyter-widgets/output",
          "model_name": "OutputModel",
          "model_module_version": "1.0.0",
          "state": {
            "_dom_classes": [],
            "_model_module": "@jupyter-widgets/output",
            "_model_module_version": "1.0.0",
            "_model_name": "OutputModel",
            "_view_count": null,
            "_view_module": "@jupyter-widgets/output",
            "_view_module_version": "1.0.0",
            "_view_name": "OutputView",
            "layout": "IPY_MODEL_630586c0d78f45dabeee006c34381498",
            "msg_id": "",
            "outputs": [
              {
                "output_type": "display_data",
                "data": {
                  "text/plain": "<Figure size 864x288 with 2 Axes>",
                  "image/png": "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\n"
                },
                "metadata": {
                  "image/png": {
                    "width": 846,
                    "height": 270
                  },
                  "needs_background": "light"
                }
              }
            ]
          }
        },
        "ebd40fbf62ba4078a317af3ed776f1c7": {
          "model_module": "@jupyter-widgets/base",
          "model_name": "LayoutModel",
          "model_module_version": "1.2.0",
          "state": {
            "_model_module": "@jupyter-widgets/base",
            "_model_module_version": "1.2.0",
            "_model_name": "LayoutModel",
            "_view_count": null,
            "_view_module": "@jupyter-widgets/base",
            "_view_module_version": "1.2.0",
            "_view_name": "LayoutView",
            "align_content": null,
            "align_items": null,
            "align_self": null,
            "border": null,
            "bottom": null,
            "display": null,
            "flex": null,
            "flex_flow": null,
            "grid_area": null,
            "grid_auto_columns": null,
            "grid_auto_flow": null,
            "grid_auto_rows": null,
            "grid_column": null,
            "grid_gap": null,
            "grid_row": null,
            "grid_template_areas": null,
            "grid_template_columns": null,
            "grid_template_rows": null,
            "height": null,
            "justify_content": null,
            "justify_items": null,
            "left": null,
            "margin": null,
            "max_height": null,
            "max_width": null,
            "min_height": null,
            "min_width": null,
            "object_fit": null,
            "object_position": null,
            "order": null,
            "overflow": null,
            "overflow_x": null,
            "overflow_y": null,
            "padding": null,
            "right": null,
            "top": null,
            "visibility": null,
            "width": null
          }
        },
        "129cdb30b83045e18907fac027c3f8cd": {
          "model_module": "@jupyter-widgets/controls",
          "model_name": "SliderStyleModel",
          "model_module_version": "1.5.0",
          "state": {
            "_model_module": "@jupyter-widgets/controls",
            "_model_module_version": "1.5.0",
            "_model_name": "SliderStyleModel",
            "_view_count": null,
            "_view_module": "@jupyter-widgets/base",
            "_view_module_version": "1.2.0",
            "_view_name": "StyleView",
            "description_width": "",
            "handle_color": null
          }
        },
        "025de26fa36c46efada54752c4d83c5d": {
          "model_module": "@jupyter-widgets/controls",
          "model_name": "SliderStyleModel",
          "model_module_version": "1.5.0",
          "state": {
            "_model_module": "@jupyter-widgets/controls",
            "_model_module_version": "1.5.0",
            "_model_name": "SliderStyleModel",
            "_view_count": null,
            "_view_module": "@jupyter-widgets/base",
            "_view_module_version": "1.2.0",
            "_view_name": "StyleView",
            "description_width": "",
            "handle_color": null
          }
        },
        "8823d3675be748ea9d768d02de71bb8c": {
          "model_module": "@jupyter-widgets/controls",
          "model_name": "SliderStyleModel",
          "model_module_version": "1.5.0",
          "state": {
            "_model_module": "@jupyter-widgets/controls",
            "_model_module_version": "1.5.0",
            "_model_name": "SliderStyleModel",
            "_view_count": null,
            "_view_module": "@jupyter-widgets/base",
            "_view_module_version": "1.2.0",
            "_view_name": "StyleView",
            "description_width": "",
            "handle_color": null
          }
        },
        "630586c0d78f45dabeee006c34381498": {
          "model_module": "@jupyter-widgets/base",
          "model_name": "LayoutModel",
          "model_module_version": "1.2.0",
          "state": {
            "_model_module": "@jupyter-widgets/base",
            "_model_module_version": "1.2.0",
            "_model_name": "LayoutModel",
            "_view_count": null,
            "_view_module": "@jupyter-widgets/base",
            "_view_module_version": "1.2.0",
            "_view_name": "LayoutView",
            "align_content": null,
            "align_items": null,
            "align_self": null,
            "border": null,
            "bottom": null,
            "display": null,
            "flex": null,
            "flex_flow": null,
            "grid_area": null,
            "grid_auto_columns": null,
            "grid_auto_flow": null,
            "grid_auto_rows": null,
            "grid_column": null,
            "grid_gap": null,
            "grid_row": null,
            "grid_template_areas": null,
            "grid_template_columns": null,
            "grid_template_rows": null,
            "height": null,
            "justify_content": null,
            "justify_items": null,
            "left": null,
            "margin": null,
            "max_height": null,
            "max_width": null,
            "min_height": null,
            "min_width": null,
            "object_fit": null,
            "object_position": null,
            "order": null,
            "overflow": null,
            "overflow_x": null,
            "overflow_y": null,
            "padding": null,
            "right": null,
            "top": null,
            "visibility": null,
            "width": null
          }
        },
        "43a5859a1e8f40938e5fb937abc88a0b": {
          "model_module": "@jupyter-widgets/controls",
          "model_name": "TabModel",
          "model_module_version": "1.5.0",
          "state": {
            "_dom_classes": [],
            "_model_module": "@jupyter-widgets/controls",
            "_model_module_version": "1.5.0",
            "_model_name": "TabModel",
            "_titles": {
              "0": "Youtube",
              "1": "Bilibili"
            },
            "_view_count": null,
            "_view_module": "@jupyter-widgets/controls",
            "_view_module_version": "1.5.0",
            "_view_name": "TabView",
            "box_style": "",
            "children": [
              "IPY_MODEL_70d13bf793a94d86b3acdbce18c51810",
              "IPY_MODEL_64d6888494e04080922daa5e1a858a4a"
            ],
            "layout": "IPY_MODEL_e381d858e4e04255bce98b5f36e7d5ab",
            "selected_index": 0
          }
        },
        "70d13bf793a94d86b3acdbce18c51810": {
          "model_module": "@jupyter-widgets/output",
          "model_name": "OutputModel",
          "model_module_version": "1.0.0",
          "state": {
            "_dom_classes": [],
            "_model_module": "@jupyter-widgets/output",
            "_model_module_version": "1.0.0",
            "_model_name": "OutputModel",
            "_view_count": null,
            "_view_module": "@jupyter-widgets/output",
            "_view_module_version": "1.0.0",
            "_view_name": "OutputView",
            "layout": "IPY_MODEL_3712c56d5ef14858bbf3b8d12a837f6c",
            "msg_id": "",
            "outputs": [
              {
                "output_type": "stream",
                "name": "stdout",
                "text": [
                  "Video available at https://youtube.com/watch?v=G0b6wLhuQxE\n"
                ]
              },
              {
                "output_type": "display_data",
                "data": {
                  "text/plain": "<IPython.lib.display.YouTubeVideo at 0x7fabc169ae50>",
                  "text/html": "\n        <iframe\n            width=\"854\"\n            height=\"480\"\n            src=\"https://www.youtube.com/embed/G0b6wLhuQxE?fs=1&rel=0\"\n            frameborder=\"0\"\n            allowfullscreen\n        ></iframe>\n        ",
                  "image/jpeg": "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\n"
                },
                "metadata": {}
              }
            ]
          }
        },
        "64d6888494e04080922daa5e1a858a4a": {
          "model_module": "@jupyter-widgets/output",
          "model_name": "OutputModel",
          "model_module_version": "1.0.0",
          "state": {
            "_dom_classes": [],
            "_model_module": "@jupyter-widgets/output",
            "_model_module_version": "1.0.0",
            "_model_name": "OutputModel",
            "_view_count": null,
            "_view_module": "@jupyter-widgets/output",
            "_view_module_version": "1.0.0",
            "_view_name": "OutputView",
            "layout": "IPY_MODEL_71efc9667ce74e8d81bdbd5255d7aa3d",
            "msg_id": "",
            "outputs": [
              {
                "output_type": "stream",
                "name": "stdout",
                "text": [
                  "Video available at https://www.bilibili.com/video/\n"
                ]
              },
              {
                "output_type": "display_data",
                "data": {
                  "text/plain": "<__main__.BiliVideo at 0x7fabc17fbed0>",
                  "text/html": "\n        <iframe\n            width=\"854\"\n            height=\"480\"\n            src=\"https://player.bilibili.com/player.html?bvid=&page=1?fs=1\"\n            frameborder=\"0\"\n            allowfullscreen\n        ></iframe>\n        "
                },
                "metadata": {}
              }
            ]
          }
        },
        "e381d858e4e04255bce98b5f36e7d5ab": {
          "model_module": "@jupyter-widgets/base",
          "model_name": "LayoutModel",
          "model_module_version": "1.2.0",
          "state": {
            "_model_module": "@jupyter-widgets/base",
            "_model_module_version": "1.2.0",
            "_model_name": "LayoutModel",
            "_view_count": null,
            "_view_module": "@jupyter-widgets/base",
            "_view_module_version": "1.2.0",
            "_view_name": "LayoutView",
            "align_content": null,
            "align_items": null,
            "align_self": null,
            "border": null,
            "bottom": null,
            "display": null,
            "flex": null,
            "flex_flow": null,
            "grid_area": null,
            "grid_auto_columns": null,
            "grid_auto_flow": null,
            "grid_auto_rows": null,
            "grid_column": null,
            "grid_gap": null,
            "grid_row": null,
            "grid_template_areas": null,
            "grid_template_columns": null,
            "grid_template_rows": null,
            "height": null,
            "justify_content": null,
            "justify_items": null,
            "left": null,
            "margin": null,
            "max_height": null,
            "max_width": null,
            "min_height": null,
            "min_width": null,
            "object_fit": null,
            "object_position": null,
            "order": null,
            "overflow": null,
            "overflow_x": null,
            "overflow_y": null,
            "padding": null,
            "right": null,
            "top": null,
            "visibility": null,
            "width": null
          }
        },
        "3712c56d5ef14858bbf3b8d12a837f6c": {
          "model_module": "@jupyter-widgets/base",
          "model_name": "LayoutModel",
          "model_module_version": "1.2.0",
          "state": {
            "_model_module": "@jupyter-widgets/base",
            "_model_module_version": "1.2.0",
            "_model_name": "LayoutModel",
            "_view_count": null,
            "_view_module": "@jupyter-widgets/base",
            "_view_module_version": "1.2.0",
            "_view_name": "LayoutView",
            "align_content": null,
            "align_items": null,
            "align_self": null,
            "border": null,
            "bottom": null,
            "display": null,
            "flex": null,
            "flex_flow": null,
            "grid_area": null,
            "grid_auto_columns": null,
            "grid_auto_flow": null,
            "grid_auto_rows": null,
            "grid_column": null,
            "grid_gap": null,
            "grid_row": null,
            "grid_template_areas": null,
            "grid_template_columns": null,
            "grid_template_rows": null,
            "height": null,
            "justify_content": null,
            "justify_items": null,
            "left": null,
            "margin": null,
            "max_height": null,
            "max_width": null,
            "min_height": null,
            "min_width": null,
            "object_fit": null,
            "object_position": null,
            "order": null,
            "overflow": null,
            "overflow_x": null,
            "overflow_y": null,
            "padding": null,
            "right": null,
            "top": null,
            "visibility": null,
            "width": null
          }
        },
        "71efc9667ce74e8d81bdbd5255d7aa3d": {
          "model_module": "@jupyter-widgets/base",
          "model_name": "LayoutModel",
          "model_module_version": "1.2.0",
          "state": {
            "_model_module": "@jupyter-widgets/base",
            "_model_module_version": "1.2.0",
            "_model_name": "LayoutModel",
            "_view_count": null,
            "_view_module": "@jupyter-widgets/base",
            "_view_module_version": "1.2.0",
            "_view_name": "LayoutView",
            "align_content": null,
            "align_items": null,
            "align_self": null,
            "border": null,
            "bottom": null,
            "display": null,
            "flex": null,
            "flex_flow": null,
            "grid_area": null,
            "grid_auto_columns": null,
            "grid_auto_flow": null,
            "grid_auto_rows": null,
            "grid_column": null,
            "grid_gap": null,
            "grid_row": null,
            "grid_template_areas": null,
            "grid_template_columns": null,
            "grid_template_rows": null,
            "height": null,
            "justify_content": null,
            "justify_items": null,
            "left": null,
            "margin": null,
            "max_height": null,
            "max_width": null,
            "min_height": null,
            "min_width": null,
            "object_fit": null,
            "object_position": null,
            "order": null,
            "overflow": null,
            "overflow_x": null,
            "overflow_y": null,
            "padding": null,
            "right": null,
            "top": null,
            "visibility": null,
            "width": null
          }
        }
      }
    }
  },
  "nbformat": 4,
  "nbformat_minor": 0
}