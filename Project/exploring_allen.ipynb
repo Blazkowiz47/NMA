{
  "cells": [
    {
      "cell_type": "code",
      "execution_count": 1,
      "metadata": {
        "id": "6l1h6U8lbAKC"
      },
      "outputs": [],
      "source": [
        "import os\n",
        "import numpy as np\n",
        "import pandas as pd\n",
        "from tqdm import tqdm\n",
        "import seaborn as sns\n",
        "import matplotlib.pyplot as plt\n",
        "\n",
        "import mindscope_utilities\n",
        "import mindscope_utilities.visual_behavior_ophys as ophys\n",
        "\n",
        "from allensdk.brain_observatory.behavior.behavior_project_cache import VisualBehaviorOphysProjectCache\n",
        "\n",
        "pd.set_option('display.max_columns', 500)"
      ]
    },
    {
      "cell_type": "code",
      "execution_count": 49,
      "metadata": {
        "id": "BC46IJBJx_Xu"
      },
      "outputs": [],
      "source": [
        "data_storage_directory = \"F:\\\\nma\\Project\\\\dataset\\\\tmp\" # Note: this path must exist on your local drive\n",
        "cache = VisualBehaviorOphysProjectCache.from_s3_cache(cache_dir=data_storage_directory)"
      ]
    },
    {
      "cell_type": "code",
      "execution_count": 59,
      "metadata": {
        "id": "rlR-xjlZJDBb"
      },
      "outputs": [],
      "source": [
        "session_table = cache.get_behavior_ophys_experiment(951980486)"
      ]
    },
    {
      "cell_type": "code",
      "execution_count": null,
      "metadata": {
        "id": "d3C8CxDRzRT9"
      },
      "outputs": [],
      "source": [
        "session_table = cache.get_ophys_session_table()\n",
        "experiment_table = cache.get_ophys_experiment_table()\n",
        "behavior_table = cache.get_behavior_session_table()"
      ]
    },
    {
      "cell_type": "code",
      "execution_count": null,
      "metadata": {
        "id": "8W2Bo-4djNR4"
      },
      "outputs": [],
      "source": [
        "ophys_session_id = 952430817"
      ]
    },
    {
      "cell_type": "code",
      "execution_count": null,
      "metadata": {
        "id": "heAs11vZzRPB"
      },
      "outputs": [],
      "source": [
        "experiments = {}\n",
        "ophys_experiment_ids = session_table.loc[ophys_session_id]['ophys_experiment_id']\n",
        "for ophys_experiment_id in ophys_experiment_ids:\n",
        "    experiments[ophys_experiment_id] = cache.get_behavior_ophys_experiment(ophys_experiment_id)"
      ]
    },
    {
      "cell_type": "markdown",
      "metadata": {
        "id": "nrY5WM3Zxv6n"
      },
      "source": [
        "* Targeted structure is in experiment metadata\n"
      ]
    },
    {
      "cell_type": "code",
      "execution_count": null,
      "metadata": {
        "colab": {
          "base_uri": "https://localhost:8080/"
        },
        "id": "8uIIUrJJzRMu",
        "outputId": "e4861dbf-c897-47be-8555-2f30d32d6d0f"
      },
      "outputs": [
        {
          "name": "stderr",
          "output_type": "stream",
          "text": [
            "100%|██████████| 4/4 [00:03<00:00,  1.28it/s]\n"
          ]
        }
      ],
      "source": [
        "neural_data = []\n",
        "for ophys_experiment_id in tqdm(experiments.keys()): #tqdm is a package that shows progress bars for items that are iterated over\n",
        "    this_experiment = experiments[ophys_experiment_id]\n",
        "    this_experiment_neural_data = ophys.build_tidy_cell_df(this_experiment)\n",
        "    \n",
        "    # add some columns with metadata for the experiment\n",
        "    metadata_keys = [\n",
        "        'ophys_experiment_id',\n",
        "        'ophys_session_id',\n",
        "        'targeted_structure',\n",
        "        'imaging_depth',\n",
        "        'equipment_name',\n",
        "        'cre_line',\n",
        "        'mouse_id',\n",
        "        'sex',\n",
        "    ]\n",
        "    for metadata_key in metadata_keys:\n",
        "        this_experiment_neural_data[metadata_key] = this_experiment.metadata[metadata_key]\n",
        "        \n",
        "    # append the data for this experiment to a list\n",
        "    neural_data.append(this_experiment_neural_data)\n",
        "    \n",
        "# concatate the list of dataframes into a single dataframe\n",
        "neural_data = pd.concat(neural_data)"
      ]
    },
    {
      "cell_type": "code",
      "execution_count": null,
      "metadata": {
        "colab": {
          "base_uri": "https://localhost:8080/",
          "height": 475
        },
        "id": "tmUtSknv5ZO4",
        "outputId": "68a75fc2-22c2-41ba-98a2-266193caf097"
      },
      "outputs": [
        {
          "data": {
            "text/html": [
              "\n",
              "  <div id=\"df-9fa22afc-3d66-4bf7-82c2-9324c21cfb79\">\n",
              "    <div class=\"colab-df-container\">\n",
              "      <div>\n",
              "<style scoped>\n",
              "    .dataframe tbody tr th:only-of-type {\n",
              "        vertical-align: middle;\n",
              "    }\n",
              "\n",
              "    .dataframe tbody tr th {\n",
              "        vertical-align: top;\n",
              "    }\n",
              "\n",
              "    .dataframe thead th {\n",
              "        text-align: right;\n",
              "    }\n",
              "</style>\n",
              "<table border=\"1\" class=\"dataframe\">\n",
              "  <thead>\n",
              "    <tr style=\"text-align: right;\">\n",
              "      <th></th>\n",
              "      <th>equipment_name</th>\n",
              "      <th>full_genotype</th>\n",
              "      <th>mouse_id</th>\n",
              "      <th>reporter_line</th>\n",
              "      <th>driver_line</th>\n",
              "      <th>sex</th>\n",
              "      <th>age_in_days</th>\n",
              "      <th>cre_line</th>\n",
              "      <th>indicator</th>\n",
              "      <th>session_number</th>\n",
              "      <th>prior_exposures_to_session_type</th>\n",
              "      <th>prior_exposures_to_image_set</th>\n",
              "      <th>prior_exposures_to_omissions</th>\n",
              "      <th>ophys_session_id</th>\n",
              "      <th>ophys_experiment_id</th>\n",
              "      <th>ophys_container_id</th>\n",
              "      <th>project_code</th>\n",
              "      <th>date_of_acquisition</th>\n",
              "      <th>session_type</th>\n",
              "      <th>file_id</th>\n",
              "    </tr>\n",
              "    <tr>\n",
              "      <th>behavior_session_id</th>\n",
              "      <th></th>\n",
              "      <th></th>\n",
              "      <th></th>\n",
              "      <th></th>\n",
              "      <th></th>\n",
              "      <th></th>\n",
              "      <th></th>\n",
              "      <th></th>\n",
              "      <th></th>\n",
              "      <th></th>\n",
              "      <th></th>\n",
              "      <th></th>\n",
              "      <th></th>\n",
              "      <th></th>\n",
              "      <th></th>\n",
              "      <th></th>\n",
              "      <th></th>\n",
              "      <th></th>\n",
              "      <th></th>\n",
              "      <th></th>\n",
              "    </tr>\n",
              "  </thead>\n",
              "  <tbody>\n",
              "    <tr>\n",
              "      <th>870987812</th>\n",
              "      <td>BEH.D-Box1</td>\n",
              "      <td>Sst-IRES-Cre/wt;Ai148(TIT2L-GC6f-ICL-tTA2)/wt</td>\n",
              "      <td>457841</td>\n",
              "      <td>Ai148(TIT2L-GC6f-ICL-tTA2)</td>\n",
              "      <td>[Sst-IRES-Cre]</td>\n",
              "      <td>F</td>\n",
              "      <td>80.0</td>\n",
              "      <td>Sst-IRES-Cre</td>\n",
              "      <td>GCaMP6f</td>\n",
              "      <td>NaN</td>\n",
              "      <td>0.0</td>\n",
              "      <td>NaN</td>\n",
              "      <td>0.0</td>\n",
              "      <td>NaN</td>\n",
              "      <td>NaN</td>\n",
              "      <td>NaN</td>\n",
              "      <td>NaN</td>\n",
              "      <td>2019-05-17 14:46:33.550</td>\n",
              "      <td>TRAINING_0_gratings_autorewards_15min</td>\n",
              "      <td>1.085368e+09</td>\n",
              "    </tr>\n",
              "    <tr>\n",
              "      <th>872953842</th>\n",
              "      <td>BEH.D-Box1</td>\n",
              "      <td>Sst-IRES-Cre/wt;Ai148(TIT2L-GC6f-ICL-tTA2)/wt</td>\n",
              "      <td>457841</td>\n",
              "      <td>Ai148(TIT2L-GC6f-ICL-tTA2)</td>\n",
              "      <td>[Sst-IRES-Cre]</td>\n",
              "      <td>F</td>\n",
              "      <td>84.0</td>\n",
              "      <td>Sst-IRES-Cre</td>\n",
              "      <td>GCaMP6f</td>\n",
              "      <td>NaN</td>\n",
              "      <td>0.0</td>\n",
              "      <td>NaN</td>\n",
              "      <td>0.0</td>\n",
              "      <td>NaN</td>\n",
              "      <td>NaN</td>\n",
              "      <td>NaN</td>\n",
              "      <td>NaN</td>\n",
              "      <td>2019-05-21 13:22:20.613</td>\n",
              "      <td>TRAINING_1_gratings</td>\n",
              "      <td>1.085368e+09</td>\n",
              "    </tr>\n",
              "    <tr>\n",
              "      <th>873774125</th>\n",
              "      <td>BEH.D-Box1</td>\n",
              "      <td>Sst-IRES-Cre/wt;Ai148(TIT2L-GC6f-ICL-tTA2)/wt</td>\n",
              "      <td>457841</td>\n",
              "      <td>Ai148(TIT2L-GC6f-ICL-tTA2)</td>\n",
              "      <td>[Sst-IRES-Cre]</td>\n",
              "      <td>F</td>\n",
              "      <td>85.0</td>\n",
              "      <td>Sst-IRES-Cre</td>\n",
              "      <td>GCaMP6f</td>\n",
              "      <td>NaN</td>\n",
              "      <td>1.0</td>\n",
              "      <td>NaN</td>\n",
              "      <td>0.0</td>\n",
              "      <td>NaN</td>\n",
              "      <td>NaN</td>\n",
              "      <td>NaN</td>\n",
              "      <td>NaN</td>\n",
              "      <td>2019-05-22 13:19:52.005</td>\n",
              "      <td>TRAINING_1_gratings</td>\n",
              "      <td>1.085368e+09</td>\n",
              "    </tr>\n",
              "    <tr>\n",
              "      <th>874790261</th>\n",
              "      <td>BEH.D-Box1</td>\n",
              "      <td>Sst-IRES-Cre/wt;Ai148(TIT2L-GC6f-ICL-tTA2)/wt</td>\n",
              "      <td>457841</td>\n",
              "      <td>Ai148(TIT2L-GC6f-ICL-tTA2)</td>\n",
              "      <td>[Sst-IRES-Cre]</td>\n",
              "      <td>F</td>\n",
              "      <td>86.0</td>\n",
              "      <td>Sst-IRES-Cre</td>\n",
              "      <td>GCaMP6f</td>\n",
              "      <td>NaN</td>\n",
              "      <td>2.0</td>\n",
              "      <td>NaN</td>\n",
              "      <td>0.0</td>\n",
              "      <td>NaN</td>\n",
              "      <td>NaN</td>\n",
              "      <td>NaN</td>\n",
              "      <td>NaN</td>\n",
              "      <td>2019-05-23 13:40:31.405</td>\n",
              "      <td>TRAINING_1_gratings</td>\n",
              "      <td>1.085368e+09</td>\n",
              "    </tr>\n",
              "    <tr>\n",
              "      <th>875207834</th>\n",
              "      <td>BEH.D-Box1</td>\n",
              "      <td>Sst-IRES-Cre/wt;Ai148(TIT2L-GC6f-ICL-tTA2)/wt</td>\n",
              "      <td>457841</td>\n",
              "      <td>Ai148(TIT2L-GC6f-ICL-tTA2)</td>\n",
              "      <td>[Sst-IRES-Cre]</td>\n",
              "      <td>F</td>\n",
              "      <td>87.0</td>\n",
              "      <td>Sst-IRES-Cre</td>\n",
              "      <td>GCaMP6f</td>\n",
              "      <td>NaN</td>\n",
              "      <td>3.0</td>\n",
              "      <td>NaN</td>\n",
              "      <td>0.0</td>\n",
              "      <td>NaN</td>\n",
              "      <td>NaN</td>\n",
              "      <td>NaN</td>\n",
              "      <td>NaN</td>\n",
              "      <td>2019-05-24 11:06:39.332</td>\n",
              "      <td>TRAINING_1_gratings</td>\n",
              "      <td>1.085368e+09</td>\n",
              "    </tr>\n",
              "  </tbody>\n",
              "</table>\n",
              "</div>\n",
              "      <button class=\"colab-df-convert\" onclick=\"convertToInteractive('df-9fa22afc-3d66-4bf7-82c2-9324c21cfb79')\"\n",
              "              title=\"Convert this dataframe to an interactive table.\"\n",
              "              style=\"display:none;\">\n",
              "        \n",
              "  <svg xmlns=\"http://www.w3.org/2000/svg\" height=\"24px\"viewBox=\"0 0 24 24\"\n",
              "       width=\"24px\">\n",
              "    <path d=\"M0 0h24v24H0V0z\" fill=\"none\"/>\n",
              "    <path d=\"M18.56 5.44l.94 2.06.94-2.06 2.06-.94-2.06-.94-.94-2.06-.94 2.06-2.06.94zm-11 1L8.5 8.5l.94-2.06 2.06-.94-2.06-.94L8.5 2.5l-.94 2.06-2.06.94zm10 10l.94 2.06.94-2.06 2.06-.94-2.06-.94-.94-2.06-.94 2.06-2.06.94z\"/><path d=\"M17.41 7.96l-1.37-1.37c-.4-.4-.92-.59-1.43-.59-.52 0-1.04.2-1.43.59L10.3 9.45l-7.72 7.72c-.78.78-.78 2.05 0 2.83L4 21.41c.39.39.9.59 1.41.59.51 0 1.02-.2 1.41-.59l7.78-7.78 2.81-2.81c.8-.78.8-2.07 0-2.86zM5.41 20L4 18.59l7.72-7.72 1.47 1.35L5.41 20z\"/>\n",
              "  </svg>\n",
              "      </button>\n",
              "      \n",
              "  <style>\n",
              "    .colab-df-container {\n",
              "      display:flex;\n",
              "      flex-wrap:wrap;\n",
              "      gap: 12px;\n",
              "    }\n",
              "\n",
              "    .colab-df-convert {\n",
              "      background-color: #E8F0FE;\n",
              "      border: none;\n",
              "      border-radius: 50%;\n",
              "      cursor: pointer;\n",
              "      display: none;\n",
              "      fill: #1967D2;\n",
              "      height: 32px;\n",
              "      padding: 0 0 0 0;\n",
              "      width: 32px;\n",
              "    }\n",
              "\n",
              "    .colab-df-convert:hover {\n",
              "      background-color: #E2EBFA;\n",
              "      box-shadow: 0px 1px 2px rgba(60, 64, 67, 0.3), 0px 1px 3px 1px rgba(60, 64, 67, 0.15);\n",
              "      fill: #174EA6;\n",
              "    }\n",
              "\n",
              "    [theme=dark] .colab-df-convert {\n",
              "      background-color: #3B4455;\n",
              "      fill: #D2E3FC;\n",
              "    }\n",
              "\n",
              "    [theme=dark] .colab-df-convert:hover {\n",
              "      background-color: #434B5C;\n",
              "      box-shadow: 0px 1px 3px 1px rgba(0, 0, 0, 0.15);\n",
              "      filter: drop-shadow(0px 1px 2px rgba(0, 0, 0, 0.3));\n",
              "      fill: #FFFFFF;\n",
              "    }\n",
              "  </style>\n",
              "\n",
              "      <script>\n",
              "        const buttonEl =\n",
              "          document.querySelector('#df-9fa22afc-3d66-4bf7-82c2-9324c21cfb79 button.colab-df-convert');\n",
              "        buttonEl.style.display =\n",
              "          google.colab.kernel.accessAllowed ? 'block' : 'none';\n",
              "\n",
              "        async function convertToInteractive(key) {\n",
              "          const element = document.querySelector('#df-9fa22afc-3d66-4bf7-82c2-9324c21cfb79');\n",
              "          const dataTable =\n",
              "            await google.colab.kernel.invokeFunction('convertToInteractive',\n",
              "                                                     [key], {});\n",
              "          if (!dataTable) return;\n",
              "\n",
              "          const docLinkHtml = 'Like what you see? Visit the ' +\n",
              "            '<a target=\"_blank\" href=https://colab.research.google.com/notebooks/data_table.ipynb>data table notebook</a>'\n",
              "            + ' to learn more about interactive tables.';\n",
              "          element.innerHTML = '';\n",
              "          dataTable['output_type'] = 'display_data';\n",
              "          await google.colab.output.renderOutput(dataTable, element);\n",
              "          const docLink = document.createElement('div');\n",
              "          docLink.innerHTML = docLinkHtml;\n",
              "          element.appendChild(docLink);\n",
              "        }\n",
              "      </script>\n",
              "    </div>\n",
              "  </div>\n",
              "  "
            ],
            "text/plain": [
              "                    equipment_name  \\\n",
              "behavior_session_id                  \n",
              "870987812               BEH.D-Box1   \n",
              "872953842               BEH.D-Box1   \n",
              "873774125               BEH.D-Box1   \n",
              "874790261               BEH.D-Box1   \n",
              "875207834               BEH.D-Box1   \n",
              "\n",
              "                                                     full_genotype  mouse_id  \\\n",
              "behavior_session_id                                                            \n",
              "870987812            Sst-IRES-Cre/wt;Ai148(TIT2L-GC6f-ICL-tTA2)/wt    457841   \n",
              "872953842            Sst-IRES-Cre/wt;Ai148(TIT2L-GC6f-ICL-tTA2)/wt    457841   \n",
              "873774125            Sst-IRES-Cre/wt;Ai148(TIT2L-GC6f-ICL-tTA2)/wt    457841   \n",
              "874790261            Sst-IRES-Cre/wt;Ai148(TIT2L-GC6f-ICL-tTA2)/wt    457841   \n",
              "875207834            Sst-IRES-Cre/wt;Ai148(TIT2L-GC6f-ICL-tTA2)/wt    457841   \n",
              "\n",
              "                                  reporter_line     driver_line sex  \\\n",
              "behavior_session_id                                                   \n",
              "870987812            Ai148(TIT2L-GC6f-ICL-tTA2)  [Sst-IRES-Cre]   F   \n",
              "872953842            Ai148(TIT2L-GC6f-ICL-tTA2)  [Sst-IRES-Cre]   F   \n",
              "873774125            Ai148(TIT2L-GC6f-ICL-tTA2)  [Sst-IRES-Cre]   F   \n",
              "874790261            Ai148(TIT2L-GC6f-ICL-tTA2)  [Sst-IRES-Cre]   F   \n",
              "875207834            Ai148(TIT2L-GC6f-ICL-tTA2)  [Sst-IRES-Cre]   F   \n",
              "\n",
              "                     age_in_days      cre_line indicator  session_number  \\\n",
              "behavior_session_id                                                        \n",
              "870987812                   80.0  Sst-IRES-Cre   GCaMP6f             NaN   \n",
              "872953842                   84.0  Sst-IRES-Cre   GCaMP6f             NaN   \n",
              "873774125                   85.0  Sst-IRES-Cre   GCaMP6f             NaN   \n",
              "874790261                   86.0  Sst-IRES-Cre   GCaMP6f             NaN   \n",
              "875207834                   87.0  Sst-IRES-Cre   GCaMP6f             NaN   \n",
              "\n",
              "                     prior_exposures_to_session_type  \\\n",
              "behavior_session_id                                    \n",
              "870987812                                        0.0   \n",
              "872953842                                        0.0   \n",
              "873774125                                        1.0   \n",
              "874790261                                        2.0   \n",
              "875207834                                        3.0   \n",
              "\n",
              "                     prior_exposures_to_image_set  \\\n",
              "behavior_session_id                                 \n",
              "870987812                                     NaN   \n",
              "872953842                                     NaN   \n",
              "873774125                                     NaN   \n",
              "874790261                                     NaN   \n",
              "875207834                                     NaN   \n",
              "\n",
              "                     prior_exposures_to_omissions  ophys_session_id  \\\n",
              "behavior_session_id                                                   \n",
              "870987812                                     0.0               NaN   \n",
              "872953842                                     0.0               NaN   \n",
              "873774125                                     0.0               NaN   \n",
              "874790261                                     0.0               NaN   \n",
              "875207834                                     0.0               NaN   \n",
              "\n",
              "                    ophys_experiment_id ophys_container_id project_code  \\\n",
              "behavior_session_id                                                       \n",
              "870987812                           NaN                NaN          NaN   \n",
              "872953842                           NaN                NaN          NaN   \n",
              "873774125                           NaN                NaN          NaN   \n",
              "874790261                           NaN                NaN          NaN   \n",
              "875207834                           NaN                NaN          NaN   \n",
              "\n",
              "                         date_of_acquisition  \\\n",
              "behavior_session_id                            \n",
              "870987812            2019-05-17 14:46:33.550   \n",
              "872953842            2019-05-21 13:22:20.613   \n",
              "873774125            2019-05-22 13:19:52.005   \n",
              "874790261            2019-05-23 13:40:31.405   \n",
              "875207834            2019-05-24 11:06:39.332   \n",
              "\n",
              "                                              session_type       file_id  \n",
              "behavior_session_id                                                       \n",
              "870987812            TRAINING_0_gratings_autorewards_15min  1.085368e+09  \n",
              "872953842                              TRAINING_1_gratings  1.085368e+09  \n",
              "873774125                              TRAINING_1_gratings  1.085368e+09  \n",
              "874790261                              TRAINING_1_gratings  1.085368e+09  \n",
              "875207834                              TRAINING_1_gratings  1.085368e+09  "
            ]
          },
          "execution_count": 70,
          "metadata": {},
          "output_type": "execute_result"
        }
      ],
      "source": [
        "behavior_table.head()"
      ]
    },
    {
      "cell_type": "code",
      "execution_count": null,
      "metadata": {
        "id": "ZXLX56Tr68UW"
      },
      "outputs": [],
      "source": [
        "behaviours = {}\n",
        "ophys_experiment_ids = session_table.loc[ophys_session_id]['ophys_experiment_id']"
      ]
    },
    {
      "cell_type": "code",
      "execution_count": null,
      "metadata": {
        "colab": {
          "base_uri": "https://localhost:8080/"
        },
        "id": "qyZvndQZvKqi",
        "outputId": "09f95503-0ea7-42c4-cfbb-a74d09cedc1e"
      },
      "outputs": [
        {
          "name": "stderr",
          "output_type": "stream",
          "text": [
            "behavior_session_874790261.nwb: 100%|██████████| 66.7M/66.7M [00:01<00:00, 34.4MMB/s]\n"
          ]
        }
      ],
      "source": [
        "sid = [870987812,872953842,873774125,874790261]\n",
        "behavior_session = cache.get_behavior_session(sid[3])\n",
        "\n",
        "# behavior_attributes = sorted(list(behavior_session.__dict__.keys()))\n"
      ]
    },
    {
      "cell_type": "code",
      "execution_count": null,
      "metadata": {
        "id": "u3FvTIzav35m"
      },
      "outputs": [],
      "source": [
        "behavior_session.rewards"
      ]
    },
    {
      "cell_type": "code",
      "execution_count": null,
      "metadata": {
        "colab": {
          "base_uri": "https://localhost:8080/"
        },
        "id": "euJC3npvyLNg",
        "outputId": "b312f516-0597-411b-94fd-16d651aae5cb"
      },
      "outputs": [
        {
          "data": {
            "text/plain": [
              "array(['gratings_270.0', 'gratings_0.0', 'gratings_180.0',\n",
              "       'gratings_90.0'], dtype=object)"
            ]
          },
          "execution_count": 80,
          "metadata": {},
          "output_type": "execute_result"
        }
      ],
      "source": [
        "behavior_session.stimulus_presentations['image_name'].unique()"
      ]
    },
    {
      "cell_type": "code",
      "execution_count": null,
      "metadata": {
        "colab": {
          "base_uri": "https://localhost:8080/"
        },
        "id": "ZS9E1f9dzGPr",
        "outputId": "9d38bd1e-ad5c-40d5-9da4-0d8f2d564134"
      },
      "outputs": [
        {
          "data": {
            "text/plain": [
              "array([0.00000000e+00, 1.66341281e-02, 3.32983835e-02, ...,\n",
              "       3.64515840e+03, 3.64517507e+03, 3.64519175e+03])"
            ]
          },
          "execution_count": 73,
          "metadata": {},
          "output_type": "execute_result"
        }
      ],
      "source": [
        "behavior_session.stimulus_timestamps"
      ]
    },
    {
      "cell_type": "code",
      "execution_count": null,
      "metadata": {
        "colab": {
          "base_uri": "https://localhost:8080/"
        },
        "id": "nwjE-4YTzOke",
        "outputId": "6facae10-1089-493d-e172-ba408127b301"
      },
      "outputs": [
        {
          "data": {
            "text/plain": [
              "218527"
            ]
          },
          "execution_count": 74,
          "metadata": {},
          "output_type": "execute_result"
        }
      ],
      "source": [
        "len(behavior_session.running_speed)"
      ]
    },
    {
      "cell_type": "code",
      "execution_count": null,
      "metadata": {
        "id": "tq1KQTopzjgC"
      },
      "outputs": [],
      "source": []
    },
    {
      "cell_type": "code",
      "execution_count": null,
      "metadata": {
        "id": "ALcuMLzBwFdG"
      },
      "outputs": [],
      "source": [
        "behaviours = {}\n",
        "for ophys_experiment_id in ophys_experiment_ids:\n",
        "    behaviours[ophys_experiment_id] = cache.get_behavior_ophys_experiment(ophys_experiment_id)\n",
        "behaviour_data = []\n"
      ]
    },
    {
      "cell_type": "code",
      "execution_count": null,
      "metadata": {
        "colab": {
          "base_uri": "https://localhost:8080/"
        },
        "id": "pCVLkCgQshyR",
        "outputId": "490cdb44-3862-4424-8890-8f93d35c54f9"
      },
      "outputs": [
        {
          "data": {
            "text/plain": [
              "allensdk.brain_observatory.behavior.behavior_session.BehaviorSession"
            ]
          },
          "execution_count": 34,
          "metadata": {},
          "output_type": "execute_result"
        }
      ],
      "source": [
        "type(behavior_session)"
      ]
    },
    {
      "cell_type": "code",
      "execution_count": null,
      "metadata": {
        "colab": {
          "base_uri": "https://localhost:8080/"
        },
        "id": "3HFG0j_wshvM",
        "outputId": "b95ac506-8af3-4c8b-f6cc-0e5785782c1c"
      },
      "outputs": [
        {
          "name": "stdout",
          "output_type": "stream",
          "text": [
            "Help on function add_mean_pupil_area_to_stimulus_presentations in module mindscope_utilities.visual_behavior_ophys.data_formatting:\n",
            "\n",
            "add_mean_pupil_area_to_stimulus_presentations(stimulus_presentations, eye_tracking, time_window=[-3, 3])\n",
            "        Append a column to stimulus_presentations which contains\n",
            "        the mean pupil area in a range relative to\n",
            "        the stimulus start time.\n",
            "    \n",
            "        Args:\n",
            "            stimulus_presentations (pd.DataFrame): dataframe of stimulus presentations.  # noqa E501\n",
            "                Must contain: 'start_time'\n",
            "            eye_tracking (pd.DataFrame): dataframe of eye tracking data.\n",
            "                Must contain: 'pupil_area', 'timestamps'\n",
            "            time_window (list with 2 elements): start and end of the range\n",
            "                relative to the start of each stimulus to average the pupil area.\n",
            "        Returns:\n",
            "            stimulus_presentations table with new column \"mean_pupil_area\" with the\n",
            "            mean pupil arae within the specified window\n",
            "            following each stimulus presentation.\n",
            "    \n",
            "        Example:\n",
            "            # get visual behavior cache\n",
            "            from allensdk.brain_observatory.behavior.behavior_project_cache import VisualBehaviorOphysProjectCache as bpc  # noqa E501\n",
            "            cache_dir = r'\\allen\\programraintv\\workgroups\n",
            "    c-ophys\u000bisual_behavior\\platform_paper_cache'\n",
            "            cache = bpc.from_s3_cache(cache_dir=cache_dir)\n",
            "    \n",
            "            # load data for one experiment\n",
            "            ophys_experiment = cache.get_behavior_ophys_experiment(experiment_id)\n",
            "    \n",
            "            # get necessary tables\n",
            "            stimulus_presentations = ophys_experiment.stimulus_presentations.copy()\n",
            "            eye_tracking = ophys_experiment.eye_tracking.copy()\n",
            "    \n",
            "            # add pupil area to stim presentations\n",
            "            stimulus_presentations = add_mean_pupil_area_to_stimulus_presentations(stimulus_presentations, eye_tracking)  # noqa E501\n",
            "\n"
          ]
        }
      ],
      "source": [
        "help(ophys.add_mean_pupil_area_to_stimulus_presentations)"
      ]
    },
    {
      "cell_type": "code",
      "execution_count": null,
      "metadata": {
        "id": "W-pNg8P-shkC"
      },
      "outputs": [],
      "source": [
        "# noval sessions\n",
        "exp = 0.0\n",
        "fam = 50.0\n",
        "noval_sessions = session_table.query('prior_exposures_to_image_set == @exp')\n",
        "familiar_sessions = session_table.query('prior_exposures_to_image_set >= @fam')"
      ]
    },
    {
      "cell_type": "code",
      "execution_count": null,
      "metadata": {
        "colab": {
          "base_uri": "https://localhost:8080/"
        },
        "id": "KwSeZc-3kHNQ",
        "outputId": "5b2398a9-1f46-46cd-f032-690a77be76e8"
      },
      "outputs": [
        {
          "data": {
            "text/plain": [
              "array([457841, 476970, 412036, 429952, 449441, 491060, 450471, 448900,\n",
              "       459777, 467951, 479839, 499478, 456564, 467953, 459773, 464207,\n",
              "       513626, 447663, 523922, 484408, 533161, 445270, 485689, 555970,\n",
              "       453989, 453988, 467302, 544261, 489065, 403491, 533527, 538219,\n",
              "       484631, 546605, 479426, 457766, 523927, 489066, 456917, 464204,\n",
              "       495789, 547486, 528097, 512458, 470784, 477052, 554115, 451787,\n",
              "       546819, 485688, 438912, 570949, 456916, 477202, 539518, 435431,\n",
              "       423606, 524274, 425493, 453991, 481295, 486737, 431023, 476631,\n",
              "       442709, 563234, 498972, 485152, 544965, 436662, 489056, 492395,\n",
              "       561443, 449653, 541329, 524158, 440298, 479458, 548950, 476067,\n",
              "       431252, 484627, 456915, 472271, 462544, 453913, 412366, 462468,\n",
              "       448366, 539517, 482853, 453990, 513630, 421136, 425496, 440631,\n",
              "       563231, 445002, 480753, 461946, 453911, 549976, 550603, 547266,\n",
              "       533162, 467954, 468866])"
            ]
          },
          "execution_count": 5,
          "metadata": {},
          "output_type": "execute_result"
        }
      ],
      "source": [
        "experiment_table['mouse_id'].unique()"
      ]
    },
    {
      "cell_type": "code",
      "execution_count": null,
      "metadata": {
        "id": "Qp3PLZf4kHKP"
      },
      "outputs": [],
      "source": [
        "mo_id = 479426"
      ]
    },
    {
      "cell_type": "code",
      "execution_count": null,
      "metadata": {
        "id": "EAgYOUq4kHHU"
      },
      "outputs": [],
      "source": [
        "experiments_table = experiment_table.query('mouse_id == @mo_id')"
      ]
    },
    {
      "cell_type": "code",
      "execution_count": null,
      "metadata": {
        "id": "YenPggy7kG2x"
      },
      "outputs": [],
      "source": [
        "exp = 0.0\n",
        "fam = 27.0\n",
        "noval_sessions = experiments_table.query('prior_exposures_to_image_set == @exp')\n",
        "familiar_sessions = experiments_table.query('prior_exposures_to_image_set >= @fam')"
      ]
    },
    {
      "cell_type": "code",
      "execution_count": null,
      "metadata": {
        "colab": {
          "base_uri": "https://localhost:8080/",
          "height": 228
        },
        "id": "bbPy8Y8akG0b",
        "outputId": "153bdf88-47fa-4d94-dd88-8c4cdce77855"
      },
      "outputs": [
        {
          "data": {
            "text/html": [
              "\n",
              "  <div id=\"df-c87578a3-bf4b-4163-a4b0-3f943e1371ea\">\n",
              "    <div class=\"colab-df-container\">\n",
              "      <div>\n",
              "<style scoped>\n",
              "    .dataframe tbody tr th:only-of-type {\n",
              "        vertical-align: middle;\n",
              "    }\n",
              "\n",
              "    .dataframe tbody tr th {\n",
              "        vertical-align: top;\n",
              "    }\n",
              "\n",
              "    .dataframe thead th {\n",
              "        text-align: right;\n",
              "    }\n",
              "</style>\n",
              "<table border=\"1\" class=\"dataframe\">\n",
              "  <thead>\n",
              "    <tr style=\"text-align: right;\">\n",
              "      <th></th>\n",
              "      <th>equipment_name</th>\n",
              "      <th>full_genotype</th>\n",
              "      <th>mouse_id</th>\n",
              "      <th>reporter_line</th>\n",
              "      <th>driver_line</th>\n",
              "      <th>sex</th>\n",
              "      <th>age_in_days</th>\n",
              "      <th>cre_line</th>\n",
              "      <th>indicator</th>\n",
              "      <th>session_number</th>\n",
              "      <th>prior_exposures_to_session_type</th>\n",
              "      <th>prior_exposures_to_image_set</th>\n",
              "      <th>prior_exposures_to_omissions</th>\n",
              "      <th>ophys_session_id</th>\n",
              "      <th>behavior_session_id</th>\n",
              "      <th>ophys_container_id</th>\n",
              "      <th>project_code</th>\n",
              "      <th>imaging_depth</th>\n",
              "      <th>targeted_structure</th>\n",
              "      <th>date_of_acquisition</th>\n",
              "      <th>session_type</th>\n",
              "      <th>experience_level</th>\n",
              "      <th>passive</th>\n",
              "      <th>image_set</th>\n",
              "      <th>file_id</th>\n",
              "    </tr>\n",
              "    <tr>\n",
              "      <th>ophys_experiment_id</th>\n",
              "      <th></th>\n",
              "      <th></th>\n",
              "      <th></th>\n",
              "      <th></th>\n",
              "      <th></th>\n",
              "      <th></th>\n",
              "      <th></th>\n",
              "      <th></th>\n",
              "      <th></th>\n",
              "      <th></th>\n",
              "      <th></th>\n",
              "      <th></th>\n",
              "      <th></th>\n",
              "      <th></th>\n",
              "      <th></th>\n",
              "      <th></th>\n",
              "      <th></th>\n",
              "      <th></th>\n",
              "      <th></th>\n",
              "      <th></th>\n",
              "      <th></th>\n",
              "      <th></th>\n",
              "      <th></th>\n",
              "      <th></th>\n",
              "      <th></th>\n",
              "    </tr>\n",
              "  </thead>\n",
              "  <tbody>\n",
              "    <tr>\n",
              "      <th>974945686</th>\n",
              "      <td>CAM2P.5</td>\n",
              "      <td>Slc17a7-IRES2-Cre/wt;Camk2a-tTA/wt;Ai94(TITL-G...</td>\n",
              "      <td>479426</td>\n",
              "      <td>Ai94(TITL-GCaMP6s)</td>\n",
              "      <td>[Slc17a7-IRES2-Cre, Camk2a-tTA]</td>\n",
              "      <td>F</td>\n",
              "      <td>142.0</td>\n",
              "      <td>Slc17a7-IRES2-Cre</td>\n",
              "      <td>GCaMP6s</td>\n",
              "      <td>4.0</td>\n",
              "      <td>0.0</td>\n",
              "      <td>0.0</td>\n",
              "      <td>5.0</td>\n",
              "      <td>974479344</td>\n",
              "      <td>974606492</td>\n",
              "      <td>968451510</td>\n",
              "      <td>VisualBehavior</td>\n",
              "      <td>175</td>\n",
              "      <td>VISp</td>\n",
              "      <td>2019-10-31 15:00:58.000000</td>\n",
              "      <td>OPHYS_4_images_B</td>\n",
              "      <td>Novel 1</td>\n",
              "      <td>False</td>\n",
              "      <td>B</td>\n",
              "      <td>975933665</td>\n",
              "    </tr>\n",
              "  </tbody>\n",
              "</table>\n",
              "</div>\n",
              "      <button class=\"colab-df-convert\" onclick=\"convertToInteractive('df-c87578a3-bf4b-4163-a4b0-3f943e1371ea')\"\n",
              "              title=\"Convert this dataframe to an interactive table.\"\n",
              "              style=\"display:none;\">\n",
              "        \n",
              "  <svg xmlns=\"http://www.w3.org/2000/svg\" height=\"24px\"viewBox=\"0 0 24 24\"\n",
              "       width=\"24px\">\n",
              "    <path d=\"M0 0h24v24H0V0z\" fill=\"none\"/>\n",
              "    <path d=\"M18.56 5.44l.94 2.06.94-2.06 2.06-.94-2.06-.94-.94-2.06-.94 2.06-2.06.94zm-11 1L8.5 8.5l.94-2.06 2.06-.94-2.06-.94L8.5 2.5l-.94 2.06-2.06.94zm10 10l.94 2.06.94-2.06 2.06-.94-2.06-.94-.94-2.06-.94 2.06-2.06.94z\"/><path d=\"M17.41 7.96l-1.37-1.37c-.4-.4-.92-.59-1.43-.59-.52 0-1.04.2-1.43.59L10.3 9.45l-7.72 7.72c-.78.78-.78 2.05 0 2.83L4 21.41c.39.39.9.59 1.41.59.51 0 1.02-.2 1.41-.59l7.78-7.78 2.81-2.81c.8-.78.8-2.07 0-2.86zM5.41 20L4 18.59l7.72-7.72 1.47 1.35L5.41 20z\"/>\n",
              "  </svg>\n",
              "      </button>\n",
              "      \n",
              "  <style>\n",
              "    .colab-df-container {\n",
              "      display:flex;\n",
              "      flex-wrap:wrap;\n",
              "      gap: 12px;\n",
              "    }\n",
              "\n",
              "    .colab-df-convert {\n",
              "      background-color: #E8F0FE;\n",
              "      border: none;\n",
              "      border-radius: 50%;\n",
              "      cursor: pointer;\n",
              "      display: none;\n",
              "      fill: #1967D2;\n",
              "      height: 32px;\n",
              "      padding: 0 0 0 0;\n",
              "      width: 32px;\n",
              "    }\n",
              "\n",
              "    .colab-df-convert:hover {\n",
              "      background-color: #E2EBFA;\n",
              "      box-shadow: 0px 1px 2px rgba(60, 64, 67, 0.3), 0px 1px 3px 1px rgba(60, 64, 67, 0.15);\n",
              "      fill: #174EA6;\n",
              "    }\n",
              "\n",
              "    [theme=dark] .colab-df-convert {\n",
              "      background-color: #3B4455;\n",
              "      fill: #D2E3FC;\n",
              "    }\n",
              "\n",
              "    [theme=dark] .colab-df-convert:hover {\n",
              "      background-color: #434B5C;\n",
              "      box-shadow: 0px 1px 3px 1px rgba(0, 0, 0, 0.15);\n",
              "      filter: drop-shadow(0px 1px 2px rgba(0, 0, 0, 0.3));\n",
              "      fill: #FFFFFF;\n",
              "    }\n",
              "  </style>\n",
              "\n",
              "      <script>\n",
              "        const buttonEl =\n",
              "          document.querySelector('#df-c87578a3-bf4b-4163-a4b0-3f943e1371ea button.colab-df-convert');\n",
              "        buttonEl.style.display =\n",
              "          google.colab.kernel.accessAllowed ? 'block' : 'none';\n",
              "\n",
              "        async function convertToInteractive(key) {\n",
              "          const element = document.querySelector('#df-c87578a3-bf4b-4163-a4b0-3f943e1371ea');\n",
              "          const dataTable =\n",
              "            await google.colab.kernel.invokeFunction('convertToInteractive',\n",
              "                                                     [key], {});\n",
              "          if (!dataTable) return;\n",
              "\n",
              "          const docLinkHtml = 'Like what you see? Visit the ' +\n",
              "            '<a target=\"_blank\" href=https://colab.research.google.com/notebooks/data_table.ipynb>data table notebook</a>'\n",
              "            + ' to learn more about interactive tables.';\n",
              "          element.innerHTML = '';\n",
              "          dataTable['output_type'] = 'display_data';\n",
              "          await google.colab.output.renderOutput(dataTable, element);\n",
              "          const docLink = document.createElement('div');\n",
              "          docLink.innerHTML = docLinkHtml;\n",
              "          element.appendChild(docLink);\n",
              "        }\n",
              "      </script>\n",
              "    </div>\n",
              "  </div>\n",
              "  "
            ],
            "text/plain": [
              "                    equipment_name  \\\n",
              "ophys_experiment_id                  \n",
              "974945686                  CAM2P.5   \n",
              "\n",
              "                                                         full_genotype  \\\n",
              "ophys_experiment_id                                                      \n",
              "974945686            Slc17a7-IRES2-Cre/wt;Camk2a-tTA/wt;Ai94(TITL-G...   \n",
              "\n",
              "                     mouse_id       reporter_line  \\\n",
              "ophys_experiment_id                                 \n",
              "974945686              479426  Ai94(TITL-GCaMP6s)   \n",
              "\n",
              "                                         driver_line sex  age_in_days  \\\n",
              "ophys_experiment_id                                                     \n",
              "974945686            [Slc17a7-IRES2-Cre, Camk2a-tTA]   F        142.0   \n",
              "\n",
              "                              cre_line indicator  session_number  \\\n",
              "ophys_experiment_id                                                \n",
              "974945686            Slc17a7-IRES2-Cre   GCaMP6s             4.0   \n",
              "\n",
              "                     prior_exposures_to_session_type  \\\n",
              "ophys_experiment_id                                    \n",
              "974945686                                        0.0   \n",
              "\n",
              "                     prior_exposures_to_image_set  \\\n",
              "ophys_experiment_id                                 \n",
              "974945686                                     0.0   \n",
              "\n",
              "                     prior_exposures_to_omissions  ophys_session_id  \\\n",
              "ophys_experiment_id                                                   \n",
              "974945686                                     5.0         974479344   \n",
              "\n",
              "                     behavior_session_id  ophys_container_id    project_code  \\\n",
              "ophys_experiment_id                                                            \n",
              "974945686                      974606492           968451510  VisualBehavior   \n",
              "\n",
              "                     imaging_depth targeted_structure  \\\n",
              "ophys_experiment_id                                     \n",
              "974945686                      175               VISp   \n",
              "\n",
              "                            date_of_acquisition      session_type  \\\n",
              "ophys_experiment_id                                                 \n",
              "974945686            2019-10-31 15:00:58.000000  OPHYS_4_images_B   \n",
              "\n",
              "                    experience_level  passive image_set    file_id  \n",
              "ophys_experiment_id                                                 \n",
              "974945686                    Novel 1    False         B  975933665  "
            ]
          },
          "execution_count": 9,
          "metadata": {},
          "output_type": "execute_result"
        }
      ],
      "source": [
        "noval_sessions"
      ]
    },
    {
      "cell_type": "code",
      "execution_count": null,
      "metadata": {
        "colab": {
          "base_uri": "https://localhost:8080/",
          "height": 228
        },
        "id": "m2Kv7k5_kGyD",
        "outputId": "0b316bcc-baaa-4349-9b76-66609ad902c6"
      },
      "outputs": [
        {
          "data": {
            "text/html": [
              "\n",
              "  <div id=\"df-9399eeac-16cf-4f68-9673-e971fd8b46b0\">\n",
              "    <div class=\"colab-df-container\">\n",
              "      <div>\n",
              "<style scoped>\n",
              "    .dataframe tbody tr th:only-of-type {\n",
              "        vertical-align: middle;\n",
              "    }\n",
              "\n",
              "    .dataframe tbody tr th {\n",
              "        vertical-align: top;\n",
              "    }\n",
              "\n",
              "    .dataframe thead th {\n",
              "        text-align: right;\n",
              "    }\n",
              "</style>\n",
              "<table border=\"1\" class=\"dataframe\">\n",
              "  <thead>\n",
              "    <tr style=\"text-align: right;\">\n",
              "      <th></th>\n",
              "      <th>equipment_name</th>\n",
              "      <th>full_genotype</th>\n",
              "      <th>mouse_id</th>\n",
              "      <th>reporter_line</th>\n",
              "      <th>driver_line</th>\n",
              "      <th>sex</th>\n",
              "      <th>age_in_days</th>\n",
              "      <th>cre_line</th>\n",
              "      <th>indicator</th>\n",
              "      <th>session_number</th>\n",
              "      <th>prior_exposures_to_session_type</th>\n",
              "      <th>prior_exposures_to_image_set</th>\n",
              "      <th>prior_exposures_to_omissions</th>\n",
              "      <th>ophys_session_id</th>\n",
              "      <th>behavior_session_id</th>\n",
              "      <th>ophys_container_id</th>\n",
              "      <th>project_code</th>\n",
              "      <th>imaging_depth</th>\n",
              "      <th>targeted_structure</th>\n",
              "      <th>date_of_acquisition</th>\n",
              "      <th>session_type</th>\n",
              "      <th>experience_level</th>\n",
              "      <th>passive</th>\n",
              "      <th>image_set</th>\n",
              "      <th>file_id</th>\n",
              "    </tr>\n",
              "    <tr>\n",
              "      <th>ophys_experiment_id</th>\n",
              "      <th></th>\n",
              "      <th></th>\n",
              "      <th></th>\n",
              "      <th></th>\n",
              "      <th></th>\n",
              "      <th></th>\n",
              "      <th></th>\n",
              "      <th></th>\n",
              "      <th></th>\n",
              "      <th></th>\n",
              "      <th></th>\n",
              "      <th></th>\n",
              "      <th></th>\n",
              "      <th></th>\n",
              "      <th></th>\n",
              "      <th></th>\n",
              "      <th></th>\n",
              "      <th></th>\n",
              "      <th></th>\n",
              "      <th></th>\n",
              "      <th></th>\n",
              "      <th></th>\n",
              "      <th></th>\n",
              "      <th></th>\n",
              "      <th></th>\n",
              "    </tr>\n",
              "  </thead>\n",
              "  <tbody>\n",
              "    <tr>\n",
              "      <th>974384470</th>\n",
              "      <td>CAM2P.5</td>\n",
              "      <td>Slc17a7-IRES2-Cre/wt;Camk2a-tTA/wt;Ai94(TITL-G...</td>\n",
              "      <td>479426</td>\n",
              "      <td>Ai94(TITL-GCaMP6s)</td>\n",
              "      <td>[Slc17a7-IRES2-Cre, Camk2a-tTA]</td>\n",
              "      <td>F</td>\n",
              "      <td>141.0</td>\n",
              "      <td>Slc17a7-IRES2-Cre</td>\n",
              "      <td>GCaMP6s</td>\n",
              "      <td>3.0</td>\n",
              "      <td>1.0</td>\n",
              "      <td>27.0</td>\n",
              "      <td>4.0</td>\n",
              "      <td>974019098</td>\n",
              "      <td>974140453</td>\n",
              "      <td>968451510</td>\n",
              "      <td>VisualBehavior</td>\n",
              "      <td>175</td>\n",
              "      <td>VISp</td>\n",
              "      <td>2019-10-30 15:40:18.000000</td>\n",
              "      <td>OPHYS_3_images_A</td>\n",
              "      <td>Familiar</td>\n",
              "      <td>False</td>\n",
              "      <td>A</td>\n",
              "      <td>974487242</td>\n",
              "    </tr>\n",
              "  </tbody>\n",
              "</table>\n",
              "</div>\n",
              "      <button class=\"colab-df-convert\" onclick=\"convertToInteractive('df-9399eeac-16cf-4f68-9673-e971fd8b46b0')\"\n",
              "              title=\"Convert this dataframe to an interactive table.\"\n",
              "              style=\"display:none;\">\n",
              "        \n",
              "  <svg xmlns=\"http://www.w3.org/2000/svg\" height=\"24px\"viewBox=\"0 0 24 24\"\n",
              "       width=\"24px\">\n",
              "    <path d=\"M0 0h24v24H0V0z\" fill=\"none\"/>\n",
              "    <path d=\"M18.56 5.44l.94 2.06.94-2.06 2.06-.94-2.06-.94-.94-2.06-.94 2.06-2.06.94zm-11 1L8.5 8.5l.94-2.06 2.06-.94-2.06-.94L8.5 2.5l-.94 2.06-2.06.94zm10 10l.94 2.06.94-2.06 2.06-.94-2.06-.94-.94-2.06-.94 2.06-2.06.94z\"/><path d=\"M17.41 7.96l-1.37-1.37c-.4-.4-.92-.59-1.43-.59-.52 0-1.04.2-1.43.59L10.3 9.45l-7.72 7.72c-.78.78-.78 2.05 0 2.83L4 21.41c.39.39.9.59 1.41.59.51 0 1.02-.2 1.41-.59l7.78-7.78 2.81-2.81c.8-.78.8-2.07 0-2.86zM5.41 20L4 18.59l7.72-7.72 1.47 1.35L5.41 20z\"/>\n",
              "  </svg>\n",
              "      </button>\n",
              "      \n",
              "  <style>\n",
              "    .colab-df-container {\n",
              "      display:flex;\n",
              "      flex-wrap:wrap;\n",
              "      gap: 12px;\n",
              "    }\n",
              "\n",
              "    .colab-df-convert {\n",
              "      background-color: #E8F0FE;\n",
              "      border: none;\n",
              "      border-radius: 50%;\n",
              "      cursor: pointer;\n",
              "      display: none;\n",
              "      fill: #1967D2;\n",
              "      height: 32px;\n",
              "      padding: 0 0 0 0;\n",
              "      width: 32px;\n",
              "    }\n",
              "\n",
              "    .colab-df-convert:hover {\n",
              "      background-color: #E2EBFA;\n",
              "      box-shadow: 0px 1px 2px rgba(60, 64, 67, 0.3), 0px 1px 3px 1px rgba(60, 64, 67, 0.15);\n",
              "      fill: #174EA6;\n",
              "    }\n",
              "\n",
              "    [theme=dark] .colab-df-convert {\n",
              "      background-color: #3B4455;\n",
              "      fill: #D2E3FC;\n",
              "    }\n",
              "\n",
              "    [theme=dark] .colab-df-convert:hover {\n",
              "      background-color: #434B5C;\n",
              "      box-shadow: 0px 1px 3px 1px rgba(0, 0, 0, 0.15);\n",
              "      filter: drop-shadow(0px 1px 2px rgba(0, 0, 0, 0.3));\n",
              "      fill: #FFFFFF;\n",
              "    }\n",
              "  </style>\n",
              "\n",
              "      <script>\n",
              "        const buttonEl =\n",
              "          document.querySelector('#df-9399eeac-16cf-4f68-9673-e971fd8b46b0 button.colab-df-convert');\n",
              "        buttonEl.style.display =\n",
              "          google.colab.kernel.accessAllowed ? 'block' : 'none';\n",
              "\n",
              "        async function convertToInteractive(key) {\n",
              "          const element = document.querySelector('#df-9399eeac-16cf-4f68-9673-e971fd8b46b0');\n",
              "          const dataTable =\n",
              "            await google.colab.kernel.invokeFunction('convertToInteractive',\n",
              "                                                     [key], {});\n",
              "          if (!dataTable) return;\n",
              "\n",
              "          const docLinkHtml = 'Like what you see? Visit the ' +\n",
              "            '<a target=\"_blank\" href=https://colab.research.google.com/notebooks/data_table.ipynb>data table notebook</a>'\n",
              "            + ' to learn more about interactive tables.';\n",
              "          element.innerHTML = '';\n",
              "          dataTable['output_type'] = 'display_data';\n",
              "          await google.colab.output.renderOutput(dataTable, element);\n",
              "          const docLink = document.createElement('div');\n",
              "          docLink.innerHTML = docLinkHtml;\n",
              "          element.appendChild(docLink);\n",
              "        }\n",
              "      </script>\n",
              "    </div>\n",
              "  </div>\n",
              "  "
            ],
            "text/plain": [
              "                    equipment_name  \\\n",
              "ophys_experiment_id                  \n",
              "974384470                  CAM2P.5   \n",
              "\n",
              "                                                         full_genotype  \\\n",
              "ophys_experiment_id                                                      \n",
              "974384470            Slc17a7-IRES2-Cre/wt;Camk2a-tTA/wt;Ai94(TITL-G...   \n",
              "\n",
              "                     mouse_id       reporter_line  \\\n",
              "ophys_experiment_id                                 \n",
              "974384470              479426  Ai94(TITL-GCaMP6s)   \n",
              "\n",
              "                                         driver_line sex  age_in_days  \\\n",
              "ophys_experiment_id                                                     \n",
              "974384470            [Slc17a7-IRES2-Cre, Camk2a-tTA]   F        141.0   \n",
              "\n",
              "                              cre_line indicator  session_number  \\\n",
              "ophys_experiment_id                                                \n",
              "974384470            Slc17a7-IRES2-Cre   GCaMP6s             3.0   \n",
              "\n",
              "                     prior_exposures_to_session_type  \\\n",
              "ophys_experiment_id                                    \n",
              "974384470                                        1.0   \n",
              "\n",
              "                     prior_exposures_to_image_set  \\\n",
              "ophys_experiment_id                                 \n",
              "974384470                                    27.0   \n",
              "\n",
              "                     prior_exposures_to_omissions  ophys_session_id  \\\n",
              "ophys_experiment_id                                                   \n",
              "974384470                                     4.0         974019098   \n",
              "\n",
              "                     behavior_session_id  ophys_container_id    project_code  \\\n",
              "ophys_experiment_id                                                            \n",
              "974384470                      974140453           968451510  VisualBehavior   \n",
              "\n",
              "                     imaging_depth targeted_structure  \\\n",
              "ophys_experiment_id                                     \n",
              "974384470                      175               VISp   \n",
              "\n",
              "                            date_of_acquisition      session_type  \\\n",
              "ophys_experiment_id                                                 \n",
              "974384470            2019-10-30 15:40:18.000000  OPHYS_3_images_A   \n",
              "\n",
              "                    experience_level  passive image_set    file_id  \n",
              "ophys_experiment_id                                                 \n",
              "974384470                   Familiar    False         A  974487242  "
            ]
          },
          "execution_count": 21,
          "metadata": {},
          "output_type": "execute_result"
        }
      ],
      "source": [
        "familiar_sessions"
      ]
    },
    {
      "cell_type": "code",
      "execution_count": null,
      "metadata": {
        "colab": {
          "base_uri": "https://localhost:8080/"
        },
        "id": "Mx9nspewkGvh",
        "outputId": "4c4d8f10-7453-4217-a344-33c8f7270399"
      },
      "outputs": [
        {
          "data": {
            "text/plain": [
              "array([23., 26., 27.,  0.,  2.,  3.])"
            ]
          },
          "execution_count": 13,
          "metadata": {},
          "output_type": "execute_result"
        }
      ],
      "source": [
        "experiments_table['prior_exposures_to_image_set'].unique()"
      ]
    },
    {
      "cell_type": "code",
      "execution_count": null,
      "metadata": {
        "id": "HTHyf7tLkGsj"
      },
      "outputs": [],
      "source": [
        "# neural_data = cache.get_behavior_ophys_experiment(974384470)"
      ]
    },
    {
      "cell_type": "code",
      "execution_count": null,
      "metadata": {
        "colab": {
          "base_uri": "https://localhost:8080/"
        },
        "id": "mCu2jmX7CQ9f",
        "outputId": "5c5ac8cb-82c7-4422-d982-da4e886f94fa"
      },
      "outputs": [
        {
          "data": {
            "text/plain": [
              "Index(['equipment_name', 'full_genotype', 'mouse_id', 'reporter_line',\n",
              "       'driver_line', 'sex', 'age_in_days', 'cre_line', 'indicator',\n",
              "       'session_number', 'prior_exposures_to_session_type',\n",
              "       'prior_exposures_to_image_set', 'prior_exposures_to_omissions',\n",
              "       'ophys_session_id', 'behavior_session_id', 'ophys_container_id',\n",
              "       'project_code', 'imaging_depth', 'targeted_structure',\n",
              "       'date_of_acquisition', 'session_type', 'experience_level', 'passive',\n",
              "       'image_set', 'file_id'],\n",
              "      dtype='object')"
            ]
          },
          "execution_count": 20,
          "metadata": {},
          "output_type": "execute_result"
        }
      ],
      "source": [
        "familiar_sessions.keys()"
      ]
    },
    {
      "cell_type": "code",
      "execution_count": null,
      "metadata": {
        "colab": {
          "base_uri": "https://localhost:8080/"
        },
        "id": "26JwJDgwCgZF",
        "outputId": "e1fd05df-5e74-4f2d-e64a-43934a74c875"
      },
      "outputs": [
        {
          "data": {
            "text/plain": [
              "974384470"
            ]
          },
          "execution_count": 24,
          "metadata": {},
          "output_type": "execute_result"
        }
      ],
      "source": [
        "familiar_sessions.index[0]"
      ]
    },
    {
      "cell_type": "code",
      "execution_count": null,
      "metadata": {
        "colab": {
          "base_uri": "https://localhost:8080/",
          "height": 453
        },
        "id": "00n0c5ogC7Gs",
        "outputId": "110420b2-157f-4efa-a905-1a56aaa78baa"
      },
      "outputs": [
        {
          "name": "stdout",
          "output_type": "stream",
          "text": [
            "974945686\n"
          ]
        },
        {
          "name": "stderr",
          "output_type": "stream",
          "text": [
            "behavior_ophys_experiment_974945686.nwb:  11%|█         | 252M/2.39G [00:07<00:50, 42.5MMB/s]"
          ]
        },
        {
          "ename": "KeyboardInterrupt",
          "evalue": "ignored",
          "output_type": "error",
          "traceback": [
            "\u001b[0;31m---------------------------------------------------------------------------\u001b[0m",
            "\u001b[0;31mKeyboardInterrupt\u001b[0m                         Traceback (most recent call last)",
            "\u001b[0;32m<ipython-input-10-ff9828eab8a0>\u001b[0m in \u001b[0;36m<module>\u001b[0;34m()\u001b[0m\n\u001b[1;32m      3\u001b[0m \u001b[0;32mfor\u001b[0m \u001b[0mophys_experiment_id\u001b[0m \u001b[0;32min\u001b[0m \u001b[0mophys_experiment_ids\u001b[0m\u001b[0;34m:\u001b[0m\u001b[0;34m\u001b[0m\u001b[0;34m\u001b[0m\u001b[0m\n\u001b[1;32m      4\u001b[0m     \u001b[0mprint\u001b[0m\u001b[0;34m(\u001b[0m\u001b[0mophys_experiment_id\u001b[0m\u001b[0;34m)\u001b[0m\u001b[0;34m\u001b[0m\u001b[0;34m\u001b[0m\u001b[0m\n\u001b[0;32m----> 5\u001b[0;31m     \u001b[0mexperiments\u001b[0m\u001b[0;34m[\u001b[0m\u001b[0mophys_experiment_id\u001b[0m\u001b[0;34m]\u001b[0m \u001b[0;34m=\u001b[0m \u001b[0mcache\u001b[0m\u001b[0;34m.\u001b[0m\u001b[0mget_behavior_ophys_experiment\u001b[0m\u001b[0;34m(\u001b[0m\u001b[0mophys_experiment_id\u001b[0m\u001b[0;34m)\u001b[0m\u001b[0;34m\u001b[0m\u001b[0;34m\u001b[0m\u001b[0m\n\u001b[0m",
            "\u001b[0;32m/usr/local/lib/python3.7/dist-packages/allensdk/brain_observatory/behavior/behavior_project_cache/behavior_project_cache.py\u001b[0m in \u001b[0;36mget_behavior_ophys_experiment\u001b[0;34m(self, ophys_experiment_id, fixed)\u001b[0m\n\u001b[1;32m    567\u001b[0m             \u001b[0;32mlambda\u001b[0m \u001b[0mx\u001b[0m\u001b[0;34m:\u001b[0m \u001b[0mx\u001b[0m\u001b[0;34m,\u001b[0m  \u001b[0;31m# not writing anything\u001b[0m\u001b[0;34m\u001b[0m\u001b[0;34m\u001b[0m\u001b[0m\n\u001b[1;32m    568\u001b[0m             \u001b[0mlazy\u001b[0m\u001b[0;34m=\u001b[0m\u001b[0;32mFalse\u001b[0m\u001b[0;34m,\u001b[0m  \u001b[0;31m# can't actually read from file cache\u001b[0m\u001b[0;34m\u001b[0m\u001b[0;34m\u001b[0m\u001b[0m\n\u001b[0;32m--> 569\u001b[0;31m             \u001b[0mread\u001b[0m\u001b[0;34m=\u001b[0m\u001b[0mfetch_session\u001b[0m\u001b[0;34m\u001b[0m\u001b[0;34m\u001b[0m\u001b[0m\n\u001b[0m\u001b[1;32m    570\u001b[0m         )\n\u001b[1;32m    571\u001b[0m \u001b[0;34m\u001b[0m\u001b[0m\n",
            "\u001b[0;32m/usr/local/lib/python3.7/dist-packages/allensdk/api/warehouse_cache/caching_utilities.py\u001b[0m in \u001b[0;36mcall_caching\u001b[0;34m(fetch, write, read, pre_write, cleanup, lazy, num_tries, failure_message)\u001b[0m\n\u001b[1;32m     94\u001b[0m         \u001b[0;32mif\u001b[0m \u001b[0;32mnot\u001b[0m \u001b[0mlazy\u001b[0m \u001b[0;32mor\u001b[0m \u001b[0mread\u001b[0m \u001b[0;32mis\u001b[0m \u001b[0;32mNone\u001b[0m\u001b[0;34m:\u001b[0m\u001b[0;34m\u001b[0m\u001b[0;34m\u001b[0m\u001b[0m\n\u001b[1;32m     95\u001b[0m             \u001b[0mlogger\u001b[0m\u001b[0;34m.\u001b[0m\u001b[0minfo\u001b[0m\u001b[0;34m(\u001b[0m\u001b[0;34m\"Fetching data from remote\"\u001b[0m\u001b[0;34m)\u001b[0m\u001b[0;34m\u001b[0m\u001b[0;34m\u001b[0m\u001b[0m\n\u001b[0;32m---> 96\u001b[0;31m             \u001b[0mdata\u001b[0m \u001b[0;34m=\u001b[0m \u001b[0mfetch\u001b[0m\u001b[0;34m(\u001b[0m\u001b[0;34m)\u001b[0m\u001b[0;34m\u001b[0m\u001b[0;34m\u001b[0m\u001b[0m\n\u001b[0m\u001b[1;32m     97\u001b[0m             \u001b[0;32mif\u001b[0m \u001b[0mpre_write\u001b[0m \u001b[0;32mis\u001b[0m \u001b[0;32mnot\u001b[0m \u001b[0;32mNone\u001b[0m\u001b[0;34m:\u001b[0m\u001b[0;34m\u001b[0m\u001b[0;34m\u001b[0m\u001b[0m\n\u001b[1;32m     98\u001b[0m                 \u001b[0mdata\u001b[0m \u001b[0;34m=\u001b[0m \u001b[0mpre_write\u001b[0m\u001b[0;34m(\u001b[0m\u001b[0mdata\u001b[0m\u001b[0;34m)\u001b[0m\u001b[0;34m\u001b[0m\u001b[0;34m\u001b[0m\u001b[0m\n",
            "\u001b[0;32m/usr/local/lib/python3.7/dist-packages/allensdk/brain_observatory/behavior/behavior_project_cache/project_apis/data_io/behavior_project_cloud_api.py\u001b[0m in \u001b[0;36mget_behavior_ophys_experiment\u001b[0;34m(self, ophys_experiment_id)\u001b[0m\n\u001b[1;32m    271\u001b[0m                                f\" there are {row.shape[0]} entries.\")\n\u001b[1;32m    272\u001b[0m         \u001b[0mfile_id\u001b[0m \u001b[0;34m=\u001b[0m \u001b[0mstr\u001b[0m\u001b[0;34m(\u001b[0m\u001b[0mint\u001b[0m\u001b[0;34m(\u001b[0m\u001b[0mrow\u001b[0m\u001b[0;34m[\u001b[0m\u001b[0mself\u001b[0m\u001b[0;34m.\u001b[0m\u001b[0mcache\u001b[0m\u001b[0;34m.\u001b[0m\u001b[0mfile_id_column\u001b[0m\u001b[0;34m]\u001b[0m\u001b[0;34m)\u001b[0m\u001b[0;34m)\u001b[0m\u001b[0;34m\u001b[0m\u001b[0;34m\u001b[0m\u001b[0m\n\u001b[0;32m--> 273\u001b[0;31m         \u001b[0mdata_path\u001b[0m \u001b[0;34m=\u001b[0m \u001b[0mself\u001b[0m\u001b[0;34m.\u001b[0m\u001b[0m_get_data_path\u001b[0m\u001b[0;34m(\u001b[0m\u001b[0mfile_id\u001b[0m\u001b[0;34m=\u001b[0m\u001b[0mfile_id\u001b[0m\u001b[0;34m)\u001b[0m\u001b[0;34m\u001b[0m\u001b[0;34m\u001b[0m\u001b[0m\n\u001b[0m\u001b[1;32m    274\u001b[0m         return BehaviorOphysExperiment.from_nwb_path(\n\u001b[1;32m    275\u001b[0m             str(data_path))\n",
            "\u001b[0;32m/usr/local/lib/python3.7/dist-packages/allensdk/brain_observatory/behavior/behavior_project_cache/project_apis/data_io/behavior_project_cloud_api.py\u001b[0m in \u001b[0;36m_get_data_path\u001b[0;34m(self, file_id)\u001b[0m\n\u001b[1;32m    378\u001b[0m             \u001b[0mdata_path\u001b[0m \u001b[0;34m=\u001b[0m \u001b[0mself\u001b[0m\u001b[0;34m.\u001b[0m\u001b[0m_get_local_path\u001b[0m\u001b[0;34m(\u001b[0m\u001b[0mfile_id\u001b[0m\u001b[0;34m=\u001b[0m\u001b[0mfile_id\u001b[0m\u001b[0;34m)\u001b[0m\u001b[0;34m\u001b[0m\u001b[0;34m\u001b[0m\u001b[0m\n\u001b[1;32m    379\u001b[0m         \u001b[0;32melse\u001b[0m\u001b[0;34m:\u001b[0m\u001b[0;34m\u001b[0m\u001b[0;34m\u001b[0m\u001b[0m\n\u001b[0;32m--> 380\u001b[0;31m             \u001b[0mdata_path\u001b[0m \u001b[0;34m=\u001b[0m \u001b[0mself\u001b[0m\u001b[0;34m.\u001b[0m\u001b[0mcache\u001b[0m\u001b[0;34m.\u001b[0m\u001b[0mdownload_data\u001b[0m\u001b[0;34m(\u001b[0m\u001b[0mfile_id\u001b[0m\u001b[0;34m=\u001b[0m\u001b[0mfile_id\u001b[0m\u001b[0;34m)\u001b[0m\u001b[0;34m\u001b[0m\u001b[0;34m\u001b[0m\u001b[0m\n\u001b[0m\u001b[1;32m    381\u001b[0m         \u001b[0;32mreturn\u001b[0m \u001b[0mdata_path\u001b[0m\u001b[0;34m\u001b[0m\u001b[0;34m\u001b[0m\u001b[0m\n\u001b[1;32m    382\u001b[0m \u001b[0;34m\u001b[0m\u001b[0m\n",
            "\u001b[0;32m/usr/local/lib/python3.7/dist-packages/allensdk/api/cloud_cache/cloud_cache.py\u001b[0m in \u001b[0;36mdownload_data\u001b[0;34m(self, file_id)\u001b[0m\n\u001b[1;32m    765\u001b[0m         \u001b[0msuper_attributes\u001b[0m \u001b[0;34m=\u001b[0m \u001b[0mself\u001b[0m\u001b[0;34m.\u001b[0m\u001b[0mdata_path\u001b[0m\u001b[0;34m(\u001b[0m\u001b[0mfile_id\u001b[0m\u001b[0;34m)\u001b[0m\u001b[0;34m\u001b[0m\u001b[0;34m\u001b[0m\u001b[0m\n\u001b[1;32m    766\u001b[0m         \u001b[0mfile_attributes\u001b[0m \u001b[0;34m=\u001b[0m \u001b[0msuper_attributes\u001b[0m\u001b[0;34m[\u001b[0m\u001b[0;34m'file_attributes'\u001b[0m\u001b[0;34m]\u001b[0m\u001b[0;34m\u001b[0m\u001b[0;34m\u001b[0m\u001b[0m\n\u001b[0;32m--> 767\u001b[0;31m         \u001b[0mwas_downloaded\u001b[0m \u001b[0;34m=\u001b[0m \u001b[0mself\u001b[0m\u001b[0;34m.\u001b[0m\u001b[0m_download_file\u001b[0m\u001b[0;34m(\u001b[0m\u001b[0mfile_attributes\u001b[0m\u001b[0;34m)\u001b[0m\u001b[0;34m\u001b[0m\u001b[0;34m\u001b[0m\u001b[0m\n\u001b[0m\u001b[1;32m    768\u001b[0m         \u001b[0;32mif\u001b[0m \u001b[0mwas_downloaded\u001b[0m\u001b[0;34m:\u001b[0m\u001b[0;34m\u001b[0m\u001b[0;34m\u001b[0m\u001b[0m\n\u001b[1;32m    769\u001b[0m             \u001b[0mself\u001b[0m\u001b[0;34m.\u001b[0m\u001b[0m_update_list_of_downloads\u001b[0m\u001b[0;34m(\u001b[0m\u001b[0mfile_attributes\u001b[0m\u001b[0;34m)\u001b[0m\u001b[0;34m\u001b[0m\u001b[0;34m\u001b[0m\u001b[0m\n",
            "\u001b[0;32m/usr/local/lib/python3.7/dist-packages/allensdk/api/cloud_cache/cloud_cache.py\u001b[0m in \u001b[0;36m_download_file\u001b[0;34m(self, file_attributes)\u001b[0m\n\u001b[1;32m   1163\u001b[0m             \u001b[0;32mif\u001b[0m \u001b[0;34m'Body'\u001b[0m \u001b[0;32min\u001b[0m \u001b[0mresponse\u001b[0m\u001b[0;34m:\u001b[0m\u001b[0;34m\u001b[0m\u001b[0;34m\u001b[0m\u001b[0m\n\u001b[1;32m   1164\u001b[0m                 \u001b[0;32mwith\u001b[0m \u001b[0mopen\u001b[0m\u001b[0;34m(\u001b[0m\u001b[0mlocal_path\u001b[0m\u001b[0;34m,\u001b[0m \u001b[0;34m'wb'\u001b[0m\u001b[0;34m)\u001b[0m \u001b[0;32mas\u001b[0m \u001b[0mout_file\u001b[0m\u001b[0;34m:\u001b[0m\u001b[0;34m\u001b[0m\u001b[0;34m\u001b[0m\u001b[0m\n\u001b[0;32m-> 1165\u001b[0;31m                     \u001b[0;32mfor\u001b[0m \u001b[0mchunk\u001b[0m \u001b[0;32min\u001b[0m \u001b[0mresponse\u001b[0m\u001b[0;34m[\u001b[0m\u001b[0;34m'Body'\u001b[0m\u001b[0;34m]\u001b[0m\u001b[0;34m.\u001b[0m\u001b[0miter_chunks\u001b[0m\u001b[0;34m(\u001b[0m\u001b[0;34m)\u001b[0m\u001b[0;34m:\u001b[0m\u001b[0;34m\u001b[0m\u001b[0;34m\u001b[0m\u001b[0m\n\u001b[0m\u001b[1;32m   1166\u001b[0m                         \u001b[0mout_file\u001b[0m\u001b[0;34m.\u001b[0m\u001b[0mwrite\u001b[0m\u001b[0;34m(\u001b[0m\u001b[0mchunk\u001b[0m\u001b[0;34m)\u001b[0m\u001b[0;34m\u001b[0m\u001b[0;34m\u001b[0m\u001b[0m\n\u001b[1;32m   1167\u001b[0m                         \u001b[0mpbar\u001b[0m\u001b[0;34m.\u001b[0m\u001b[0mupdate\u001b[0m\u001b[0;34m(\u001b[0m\u001b[0mlen\u001b[0m\u001b[0;34m(\u001b[0m\u001b[0mchunk\u001b[0m\u001b[0;34m)\u001b[0m\u001b[0;34m)\u001b[0m\u001b[0;34m\u001b[0m\u001b[0;34m\u001b[0m\u001b[0m\n",
            "\u001b[0;32m/usr/local/lib/python3.7/dist-packages/botocore/response.py\u001b[0m in \u001b[0;36miter_chunks\u001b[0;34m(self, chunk_size)\u001b[0m\n\u001b[1;32m    122\u001b[0m         \"\"\"\n\u001b[1;32m    123\u001b[0m         \u001b[0;32mwhile\u001b[0m \u001b[0;32mTrue\u001b[0m\u001b[0;34m:\u001b[0m\u001b[0;34m\u001b[0m\u001b[0;34m\u001b[0m\u001b[0m\n\u001b[0;32m--> 124\u001b[0;31m             \u001b[0mcurrent_chunk\u001b[0m \u001b[0;34m=\u001b[0m \u001b[0mself\u001b[0m\u001b[0;34m.\u001b[0m\u001b[0mread\u001b[0m\u001b[0;34m(\u001b[0m\u001b[0mchunk_size\u001b[0m\u001b[0;34m)\u001b[0m\u001b[0;34m\u001b[0m\u001b[0;34m\u001b[0m\u001b[0m\n\u001b[0m\u001b[1;32m    125\u001b[0m             \u001b[0;32mif\u001b[0m \u001b[0mcurrent_chunk\u001b[0m \u001b[0;34m==\u001b[0m \u001b[0;34mb\"\"\u001b[0m\u001b[0;34m:\u001b[0m\u001b[0;34m\u001b[0m\u001b[0;34m\u001b[0m\u001b[0m\n\u001b[1;32m    126\u001b[0m                 \u001b[0;32mbreak\u001b[0m\u001b[0;34m\u001b[0m\u001b[0;34m\u001b[0m\u001b[0m\n",
            "\u001b[0;32m/usr/local/lib/python3.7/dist-packages/botocore/response.py\u001b[0m in \u001b[0;36mread\u001b[0;34m(self, amt)\u001b[0m\n\u001b[1;32m     75\u001b[0m         \"\"\"\n\u001b[1;32m     76\u001b[0m         \u001b[0;32mtry\u001b[0m\u001b[0;34m:\u001b[0m\u001b[0;34m\u001b[0m\u001b[0;34m\u001b[0m\u001b[0m\n\u001b[0;32m---> 77\u001b[0;31m             \u001b[0mchunk\u001b[0m \u001b[0;34m=\u001b[0m \u001b[0mself\u001b[0m\u001b[0;34m.\u001b[0m\u001b[0m_raw_stream\u001b[0m\u001b[0;34m.\u001b[0m\u001b[0mread\u001b[0m\u001b[0;34m(\u001b[0m\u001b[0mamt\u001b[0m\u001b[0;34m)\u001b[0m\u001b[0;34m\u001b[0m\u001b[0;34m\u001b[0m\u001b[0m\n\u001b[0m\u001b[1;32m     78\u001b[0m         \u001b[0;32mexcept\u001b[0m \u001b[0mURLLib3ReadTimeoutError\u001b[0m \u001b[0;32mas\u001b[0m \u001b[0me\u001b[0m\u001b[0;34m:\u001b[0m\u001b[0;34m\u001b[0m\u001b[0;34m\u001b[0m\u001b[0m\n\u001b[1;32m     79\u001b[0m             \u001b[0;31m# TODO: the url will be None as urllib3 isn't setting it yet\u001b[0m\u001b[0;34m\u001b[0m\u001b[0;34m\u001b[0m\u001b[0;34m\u001b[0m\u001b[0m\n",
            "\u001b[0;32m/usr/local/lib/python3.7/dist-packages/urllib3/response.py\u001b[0m in \u001b[0;36mread\u001b[0;34m(self, amt, decode_content, cache_content)\u001b[0m\n\u001b[1;32m    541\u001b[0m \u001b[0;34m\u001b[0m\u001b[0m\n\u001b[1;32m    542\u001b[0m         \u001b[0;32mif\u001b[0m \u001b[0mdata\u001b[0m\u001b[0;34m:\u001b[0m\u001b[0;34m\u001b[0m\u001b[0;34m\u001b[0m\u001b[0m\n\u001b[0;32m--> 543\u001b[0;31m             \u001b[0mself\u001b[0m\u001b[0;34m.\u001b[0m\u001b[0m_fp_bytes_read\u001b[0m \u001b[0;34m+=\u001b[0m \u001b[0mlen\u001b[0m\u001b[0;34m(\u001b[0m\u001b[0mdata\u001b[0m\u001b[0;34m)\u001b[0m\u001b[0;34m\u001b[0m\u001b[0;34m\u001b[0m\u001b[0m\n\u001b[0m\u001b[1;32m    544\u001b[0m             \u001b[0;32mif\u001b[0m \u001b[0mself\u001b[0m\u001b[0;34m.\u001b[0m\u001b[0mlength_remaining\u001b[0m \u001b[0;32mis\u001b[0m \u001b[0;32mnot\u001b[0m \u001b[0;32mNone\u001b[0m\u001b[0;34m:\u001b[0m\u001b[0;34m\u001b[0m\u001b[0;34m\u001b[0m\u001b[0m\n\u001b[1;32m    545\u001b[0m                 \u001b[0mself\u001b[0m\u001b[0;34m.\u001b[0m\u001b[0mlength_remaining\u001b[0m \u001b[0;34m-=\u001b[0m \u001b[0mlen\u001b[0m\u001b[0;34m(\u001b[0m\u001b[0mdata\u001b[0m\u001b[0;34m)\u001b[0m\u001b[0;34m\u001b[0m\u001b[0;34m\u001b[0m\u001b[0m\n",
            "\u001b[0;31mKeyboardInterrupt\u001b[0m: "
          ]
        }
      ],
      "source": [
        "experiments = {}\n",
        "ophys_experiment_ids = noval_sessions.index\n",
        "for ophys_experiment_id in ophys_experiment_ids:\n",
        "    print(ophys_experiment_id)\n",
        "    experiments[ophys_experiment_id] = cache.get_behavior_ophys_experiment(ophys_experiment_id)"
      ]
    },
    {
      "cell_type": "code",
      "execution_count": null,
      "metadata": {
        "colab": {
          "base_uri": "https://localhost:8080/",
          "height": 299
        },
        "id": "gQL0Qcm5zRCF",
        "outputId": "0fcd594d-9f9f-48eb-9445-28eeed2c91e4"
      },
      "outputs": [
        {
          "name": "stderr",
          "output_type": "stream",
          "text": [
            "  0%|          | 0/1 [00:00<?, ?it/s]"
          ]
        },
        {
          "name": "stdout",
          "output_type": "stream",
          "text": [
            "974384470\n"
          ]
        },
        {
          "name": "stderr",
          "output_type": "stream",
          "text": [
            "\n"
          ]
        },
        {
          "ename": "NameError",
          "evalue": "ignored",
          "output_type": "error",
          "traceback": [
            "\u001b[0;31m---------------------------------------------------------------------------\u001b[0m",
            "\u001b[0;31mNameError\u001b[0m                                 Traceback (most recent call last)",
            "\u001b[0;32m<ipython-input-25-85cabf2eea14>\u001b[0m in \u001b[0;36m<module>\u001b[0;34m()\u001b[0m\n\u001b[1;32m      3\u001b[0m \u001b[0;32mfor\u001b[0m \u001b[0mophys_experiment_id\u001b[0m \u001b[0;32min\u001b[0m \u001b[0mtqdm\u001b[0m\u001b[0;34m(\u001b[0m\u001b[0mfamiliar_sessions\u001b[0m\u001b[0;34m.\u001b[0m\u001b[0mindex\u001b[0m\u001b[0;34m)\u001b[0m\u001b[0;34m:\u001b[0m \u001b[0;31m#tqdm is a package that shows progress bars for items that are iterated over\u001b[0m\u001b[0;34m\u001b[0m\u001b[0;34m\u001b[0m\u001b[0m\n\u001b[1;32m      4\u001b[0m     \u001b[0mprint\u001b[0m\u001b[0;34m(\u001b[0m\u001b[0mophys_experiment_id\u001b[0m\u001b[0;34m)\u001b[0m\u001b[0;34m\u001b[0m\u001b[0;34m\u001b[0m\u001b[0m\n\u001b[0;32m----> 5\u001b[0;31m     \u001b[0mthis_experiment\u001b[0m \u001b[0;34m=\u001b[0m \u001b[0mexperiments\u001b[0m\u001b[0;34m[\u001b[0m\u001b[0mophys_experiment_id\u001b[0m\u001b[0;34m]\u001b[0m\u001b[0;34m\u001b[0m\u001b[0;34m\u001b[0m\u001b[0m\n\u001b[0m\u001b[1;32m      6\u001b[0m     \u001b[0mthis_experiment_neural_data\u001b[0m \u001b[0;34m=\u001b[0m \u001b[0mophys\u001b[0m\u001b[0;34m.\u001b[0m\u001b[0mbuild_tidy_cell_df\u001b[0m\u001b[0;34m(\u001b[0m\u001b[0mthis_experiment\u001b[0m\u001b[0;34m)\u001b[0m\u001b[0;34m\u001b[0m\u001b[0;34m\u001b[0m\u001b[0m\n\u001b[1;32m      7\u001b[0m \u001b[0;34m\u001b[0m\u001b[0m\n",
            "\u001b[0;31mNameError\u001b[0m: name 'experiments' is not defined"
          ]
        }
      ],
      "source": [
        "neural_data = []\n",
        "\n",
        "for ophys_experiment_id in tqdm(familiar_sessions.index): #tqdm is a package that shows progress bars for items that are iterated over\n",
        "    this_experiment = experiments[ophys_experiment_id]\n",
        "    this_experiment_neural_data = ophys.build_tidy_cell_df(this_experiment)\n",
        "    \n",
        "    # add some columns with metadata for the experiment\n",
        "    metadata_keys = [\n",
        "        'ophys_experiment_id',\n",
        "        'ophys_session_id',\n",
        "        'targeted_structure',\n",
        "        'imaging_depth',\n",
        "        'equipment_name',\n",
        "        'cre_line',\n",
        "        'mouse_id',\n",
        "        'sex',\n",
        "    ]\n",
        "    for metadata_key in metadata_keys:\n",
        "        this_experiment_neural_data[metadata_key] = this_experiment.metadata[metadata_key]\n",
        "        \n",
        "    # append the data for this experiment to a list\n",
        "    neural_data.append(this_experiment_neural_data)\n",
        "    \n",
        "# concatate the list of dataframes into a single dataframe\n",
        "neural_data = pd.concat(neural_data)"
      ]
    },
    {
      "cell_type": "code",
      "execution_count": null,
      "metadata": {
        "id": "ifJvJ0TEzQ-O"
      },
      "outputs": [],
      "source": []
    }
  ],
  "metadata": {
    "colab": {
      "name": "exploring_allen.ipynb",
      "provenance": []
    },
    "kernelspec": {
      "display_name": "mindscope_utilities",
      "language": "python",
      "name": "mindscope_utilities"
    },
    "language_info": {
      "codemirror_mode": {
        "name": "ipython",
        "version": 3
      },
      "file_extension": ".py",
      "mimetype": "text/x-python",
      "name": "python",
      "nbconvert_exporter": "python",
      "pygments_lexer": "ipython3",
      "version": "3.8.13"
    },
    "vscode": {
      "interpreter": {
        "hash": "d507929f44837d1daaf29f29c4c1ca0d68fa87396bd59872bf4a0b653e2f30d1"
      }
    }
  },
  "nbformat": 4,
  "nbformat_minor": 0
}
