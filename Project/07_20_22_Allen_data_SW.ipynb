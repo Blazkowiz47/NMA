{
 "cells": [
  {
   "cell_type": "code",
   "execution_count": null,
   "metadata": {},
   "outputs": [],
   "source": [
    "# !pip install mindscope_utilities --quiet --upgrade\n",
    "# !pip install seaborn"
   ]
  },
  {
   "cell_type": "code",
   "execution_count": 1,
   "metadata": {},
   "outputs": [
    {
     "name": "stderr",
     "output_type": "stream",
     "text": [
      "C:\\Users\\sushr\\AppData\\Roaming\\Python\\Python38\\site-packages\\tqdm\\auto.py:22: TqdmWarning: IProgress not found. Please update jupyter and ipywidgets. See https://ipywidgets.readthedocs.io/en/stable/user_install.html\n",
      "  from .autonotebook import tqdm as notebook_tqdm\n"
     ]
    }
   ],
   "source": [
    "#import statements\n",
    "import os\n",
    "import numpy as np\n",
    "import pandas as pd\n",
    "from tqdm import tqdm\n",
    "import seaborn as sns\n",
    "import matplotlib.pyplot as plt\n",
    "\n",
    "import mindscope_utilities\n",
    "import mindscope_utilities.visual_behavior_ophys as ophys\n",
    "\n",
    "from allensdk.brain_observatory.behavior.behavior_project_cache import VisualBehaviorOphysProjectCache\n",
    "\n",
    "pd.set_option('display.max_columns', 500)"
   ]
  },
  {
   "cell_type": "code",
   "execution_count": 2,
   "metadata": {},
   "outputs": [],
   "source": [
    "mouse_ids=[457841,449441]"
   ]
  },
  {
   "cell_type": "code",
   "execution_count": 3,
   "metadata": {},
   "outputs": [],
   "source": [
    "# get cache\n",
    "data_storage_directory = \"F:\\\\nma\\\\Project\\\\dataset\\\\tmp\" # Note: this path must exist on your local drive\n",
    "cache = VisualBehaviorOphysProjectCache.from_s3_cache(cache_dir=data_storage_directory)"
   ]
  },
  {
   "cell_type": "code",
   "execution_count": 4,
   "metadata": {},
   "outputs": [],
   "source": [
    "session_table = cache.get_ophys_session_table()"
   ]
  },
  {
   "cell_type": "code",
   "execution_count": 5,
   "metadata": {},
   "outputs": [],
   "source": [
    "mid = mouse_ids[0]\n",
    "interest_table = session_table.query('mouse_id == @mid')"
   ]
  },
  {
   "cell_type": "code",
   "execution_count": 6,
   "metadata": {},
   "outputs": [
    {
     "name": "stdout",
     "output_type": "stream",
     "text": [
      "45\n"
     ]
    }
   ],
   "source": [
    "raw = []\n",
    "for ind,row in interest_table.iterrows():\n",
    "    raw.extend(row['ophys_experiment_id'])\n",
    "print(len(raw))\n",
    "\n"
   ]
  },
  {
   "cell_type": "code",
   "execution_count": 14,
   "metadata": {},
   "outputs": [
    {
     "ename": "AttributeError",
     "evalue": "'BehaviorOphysExperiment' object has no attribute 'head'",
     "output_type": "error",
     "traceback": [
      "\u001b[1;31m---------------------------------------------------------------------------\u001b[0m",
      "\u001b[1;31mAttributeError\u001b[0m                            Traceback (most recent call last)",
      "\u001b[1;32mf:\\nma\\Project\\07_20_22_Allen_data_SW.ipynb Cell 8\u001b[0m in \u001b[0;36m<cell line: 2>\u001b[1;34m()\u001b[0m\n\u001b[0;32m      <a href='vscode-notebook-cell:/f%3A/nma/Project/07_20_22_Allen_data_SW.ipynb#ch0000007?line=0'>1</a>\u001b[0m exp_beh \u001b[39m=\u001b[39m cache\u001b[39m.\u001b[39mget_behavior_ophys_experiment(raw[\u001b[39m0\u001b[39m])\n\u001b[1;32m----> <a href='vscode-notebook-cell:/f%3A/nma/Project/07_20_22_Allen_data_SW.ipynb#ch0000007?line=1'>2</a>\u001b[0m exp_beh\u001b[39m.\u001b[39;49mhead()\n",
      "\u001b[1;31mAttributeError\u001b[0m: 'BehaviorOphysExperiment' object has no attribute 'head'"
     ]
    }
   ],
   "source": [
    "exp_beh = cache.get_behavior_ophys_experiment(raw[0])\n",
    "\n"
   ]
  },
  {
   "cell_type": "code",
   "execution_count": 16,
   "metadata": {},
   "outputs": [
    {
     "data": {
      "text/html": [
       "<div>\n",
       "<style scoped>\n",
       "    .dataframe tbody tr th:only-of-type {\n",
       "        vertical-align: middle;\n",
       "    }\n",
       "\n",
       "    .dataframe tbody tr th {\n",
       "        vertical-align: top;\n",
       "    }\n",
       "\n",
       "    .dataframe thead th {\n",
       "        text-align: right;\n",
       "    }\n",
       "</style>\n",
       "<table border=\"1\" class=\"dataframe\">\n",
       "  <thead>\n",
       "    <tr style=\"text-align: right;\">\n",
       "      <th></th>\n",
       "      <th>cell_roi_id</th>\n",
       "      <th>corrected_fluorescence</th>\n",
       "    </tr>\n",
       "    <tr>\n",
       "      <th>cell_specimen_id</th>\n",
       "      <th></th>\n",
       "      <th></th>\n",
       "    </tr>\n",
       "  </thead>\n",
       "  <tbody>\n",
       "    <tr>\n",
       "      <th>1086613265</th>\n",
       "      <td>1080743723</td>\n",
       "      <td>[371.52252904027364, 315.95754278706386, 442.7...</td>\n",
       "    </tr>\n",
       "    <tr>\n",
       "      <th>1086613823</th>\n",
       "      <td>1080743752</td>\n",
       "      <td>[214.8554626641911, 234.69873713696018, 218.44...</td>\n",
       "    </tr>\n",
       "    <tr>\n",
       "      <th>1086619526</th>\n",
       "      <td>1080743754</td>\n",
       "      <td>[189.96214978093178, 199.52048967682848, 203.8...</td>\n",
       "    </tr>\n",
       "    <tr>\n",
       "      <th>1086614149</th>\n",
       "      <td>1080743763</td>\n",
       "      <td>[199.82323260349165, 179.27763257519644, 177.3...</td>\n",
       "    </tr>\n",
       "    <tr>\n",
       "      <th>1086614351</th>\n",
       "      <td>1080743765</td>\n",
       "      <td>[199.75541553239847, 199.52739212446536, 220.3...</td>\n",
       "    </tr>\n",
       "    <tr>\n",
       "      <th>1086614819</th>\n",
       "      <td>1080743775</td>\n",
       "      <td>[235.3424588091002, 210.7530235233096, 236.386...</td>\n",
       "    </tr>\n",
       "    <tr>\n",
       "      <th>1086615201</th>\n",
       "      <td>1080743785</td>\n",
       "      <td>[504.38140708316644, 525.8074578895161, 493.98...</td>\n",
       "    </tr>\n",
       "    <tr>\n",
       "      <th>1086615620</th>\n",
       "      <td>1080743794</td>\n",
       "      <td>[223.9802921795982, 199.7499472044905, 187.492...</td>\n",
       "    </tr>\n",
       "    <tr>\n",
       "      <th>1086615837</th>\n",
       "      <td>1080743799</td>\n",
       "      <td>[221.05273625519493, 236.4127856206052, 243.12...</td>\n",
       "    </tr>\n",
       "    <tr>\n",
       "      <th>1086616206</th>\n",
       "      <td>1080743817</td>\n",
       "      <td>[231.62355666851806, 199.30176230733173, 201.0...</td>\n",
       "    </tr>\n",
       "    <tr>\n",
       "      <th>1086619674</th>\n",
       "      <td>1080743831</td>\n",
       "      <td>[187.24681624528003, 169.12834938621455, 182.6...</td>\n",
       "    </tr>\n",
       "    <tr>\n",
       "      <th>1086616398</th>\n",
       "      <td>1080743847</td>\n",
       "      <td>[250.94874143125813, 245.18016818359416, 233.6...</td>\n",
       "    </tr>\n",
       "  </tbody>\n",
       "</table>\n",
       "</div>"
      ],
      "text/plain": [
       "                  cell_roi_id  \\\n",
       "cell_specimen_id                \n",
       "1086613265         1080743723   \n",
       "1086613823         1080743752   \n",
       "1086619526         1080743754   \n",
       "1086614149         1080743763   \n",
       "1086614351         1080743765   \n",
       "1086614819         1080743775   \n",
       "1086615201         1080743785   \n",
       "1086615620         1080743794   \n",
       "1086615837         1080743799   \n",
       "1086616206         1080743817   \n",
       "1086619674         1080743831   \n",
       "1086616398         1080743847   \n",
       "\n",
       "                                             corrected_fluorescence  \n",
       "cell_specimen_id                                                     \n",
       "1086613265        [371.52252904027364, 315.95754278706386, 442.7...  \n",
       "1086613823        [214.8554626641911, 234.69873713696018, 218.44...  \n",
       "1086619526        [189.96214978093178, 199.52048967682848, 203.8...  \n",
       "1086614149        [199.82323260349165, 179.27763257519644, 177.3...  \n",
       "1086614351        [199.75541553239847, 199.52739212446536, 220.3...  \n",
       "1086614819        [235.3424588091002, 210.7530235233096, 236.386...  \n",
       "1086615201        [504.38140708316644, 525.8074578895161, 493.98...  \n",
       "1086615620        [223.9802921795982, 199.7499472044905, 187.492...  \n",
       "1086615837        [221.05273625519493, 236.4127856206052, 243.12...  \n",
       "1086616206        [231.62355666851806, 199.30176230733173, 201.0...  \n",
       "1086619674        [187.24681624528003, 169.12834938621455, 182.6...  \n",
       "1086616398        [250.94874143125813, 245.18016818359416, 233.6...  "
      ]
     },
     "execution_count": 16,
     "metadata": {},
     "output_type": "execute_result"
    }
   ],
   "source": []
  },
  {
   "cell_type": "code",
   "execution_count": 19,
   "metadata": {},
   "outputs": [
    {
     "data": {
      "image/png": "[encoded data removed]",
      "text/plain": [
       "<Figure size 432x288 with 1 Axes>"
      ]
     },
     "metadata": {
      "needs_background": "light"
     },
     "output_type": "display_data"
    }
   ],
   "source": [
    "plt.figure()\n",
    "a = exp_beh.dff_traces.query('cell_roi_id == 1080743723')\n",
    "a = a['dff'].tolist()[0]\n",
    "# print(a)\n",
    "plt.plot(a)\n",
    "plt.show()"
   ]
  },
  {
   "cell_type": "code",
   "execution_count": 20,
   "metadata": {},
   "outputs": [
    {
     "data": {
      "image/png": "[encoded data removed]",
      "text/plain": [
       "<Figure size 432x288 with 1 Axes>"
      ]
     },
     "metadata": {
      "needs_background": "light"
     },
     "output_type": "display_data"
    }
   ],
   "source": [
    "plt.figure()\n",
    "\n",
    "a = exp_beh.corrected_fluorescence_traces.query('cell_roi_id == 1080743723')\n",
    "a = a['corrected_fluorescence'].tolist()[0]\n",
    "# print(a)\n",
    "plt.plot(a)\n",
    "plt.show()"
   ]
  }
 ],
 "metadata": {
  "kernelspec": {
   "display_name": "mindscope_utilities",
   "language": "python",
   "name": "mindscope_utilities"
  },
  "language_info": {
   "codemirror_mode": {
    "name": "ipython",
    "version": 3
   },
   "file_extension": ".py",
   "mimetype": "text/x-python",
   "name": "python",
   "nbconvert_exporter": "python",
   "pygments_lexer": "ipython3",
   "version": "3.8.13"
  },
  "orig_nbformat": 4,
  "vscode": {
   "interpreter": {
    "hash": "7ee5975616448165ec7473ca23f75162aeb86cbb1e3b29bb11b91e477bc89a19"
   }
  }
 },
 "nbformat": 4,
 "nbformat_minor": 2
}
