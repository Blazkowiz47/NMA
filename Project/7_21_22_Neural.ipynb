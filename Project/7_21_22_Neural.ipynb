{
  "cells": [
    {
      "cell_type": "code",
      "execution_count": 5,
      "metadata": {
        "id": "2KQd1VAsOSkx"
      },
      "outputs": [],
      "source": [
        "experiment_id=\"880375092\"\n",
        "path=\"/content/drive/MyDrive/NMA_Project/PreprocessedFiles_Novel\"\n",
        "#put the folder in PreprocessedFiles_Novel in your drive or change path into the shared NMA Project folder/PreprocessedFiles_Novel/"
      ]
    },
    {
      "cell_type": "code",
      "execution_count": 1,
      "metadata": {
        "colab": {
          "base_uri": "https://localhost:8080/"
        },
        "id": "ZDstgsOqbeFy",
        "outputId": "63532927-f982-41b3-8f56-6544b59bbad9"
      },
      "outputs": [
        {
          "name": "stdout",
          "output_type": "stream",
          "text": [
            "Mounted at /content/drive\n"
          ]
        }
      ],
      "source": [
        "from google.colab import drive\n",
        "drive.mount('/content/drive')\n"
      ]
    },
    {
      "cell_type": "code",
      "execution_count": 10,
      "metadata": {
        "colab": {
          "base_uri": "https://localhost:8080/"
        },
        "id": "Ar_ZBI_gccRJ",
        "outputId": "00330629-ab11-4029-b0ea-01d1bc2673d3"
      },
      "outputs": [
        {
          "name": "stdout",
          "output_type": "stream",
          "text": [
            "Looking in indexes: https://pypi.org/simple, https://us-python.pkg.dev/colab-wheels/public/simple/\n",
            "Collecting pickle5\n",
            "  Downloading pickle5-0.0.12-cp37-cp37m-manylinux_2_5_x86_64.manylinux1_x86_64.whl (256 kB)\n",
            "\u001b[K     |████████████████████████████████| 256 kB 8.1 MB/s \n",
            "\u001b[?25hInstalling collected packages: pickle5\n",
            "Successfully installed pickle5-0.0.12\n"
          ]
        }
      ],
      "source": [
        "!pip3 install pickle5"
      ]
    },
    {
      "cell_type": "code",
      "execution_count": 29,
      "metadata": {
        "id": "tpatF_M3cQvl"
      },
      "outputs": [],
      "source": [
        "import numpy as np\n",
        "import pandas as pd\n",
        "import os\n",
        "import pickle5 as pickle\n",
        "import matplotlib.pyplot as plt"
      ]
    },
    {
      "cell_type": "code",
      "execution_count": 26,
      "metadata": {
        "id": "2q9QTU16OLs0"
      },
      "outputs": [],
      "source": [
        "def load_aligned_data(experiment_id):\n",
        "    \"\"\"Load aligned data from pickles + npy files.\n",
        "    Experiment_id: experiment id as a string\n",
        "    Path: path to the folder with data (absolute path is safest)\n",
        "    behavior_types: running_speed, pupil_diameter, lick_rate. If passive, no lick rate!\n",
        "    \"\"\"\n",
        "    path=\"/content/drive/MyDrive/NMA_Project/PreprocessedFiles_Novel\"\n",
        "    behavior_types=['running_speed','pupil_diameter', 'lick_rate']\n",
        "    data = None\n",
        "    with open(os.path.join(path, f'ophys_aligned_neural_traces_{experiment_id}.p'), \"rb\") as fh:\n",
        "      data = pickle.load(fh)\n",
        "\n",
        "    neural_df = pd.DataFrame(data)\n",
        "    neural_ts = np.load(os.path.join(path,f'ophys_aligned_neural_traces_timestamps_{experiment_id}.npy'))\n",
        "    with open(os.path.join(path,f'ophys_aligned_behavior_traces_{experiment_id}.p'), \"rb\") as fh:\n",
        "      data = pickle.load(fh)\n",
        "    behavior_df = pd.DataFrame(data)\n",
        "    behavior_ts_dict = {}\n",
        "    for bt in behavior_types:\n",
        "        try:\n",
        "            behavior_ts_dict[bt] = np.load(os.path.join(path, f'ophys_aligned_behavior_{bt}_traces_timestamps_{experiment_id}.npy'))\n",
        "        except FileNotFoundError as e:\n",
        "            if bt == 'lick_rate': \n",
        "                warnings.warn(f'Lick rate not found for experiment {experiment_id}, assuming passive, continuing...')\n",
        "            else:\n",
        "                raise(e)\n",
        "    return neural_df, neural_ts, behavior_df, behavior_ts_dict"
      ]
    },
    {
      "cell_type": "code",
      "execution_count": 20,
      "metadata": {
        "id": "HdIvRAqYPDs_"
      },
      "outputs": [],
      "source": [
        "\n",
        "aligned_neural_format,aligned_neural_ts_format,aligned_behavior_format,aligned_behavior_ts_format=load_aligned_data(experiment_id, path, behavior_types=['running_speed', 'pupil_diameter', 'lick_rate'])\n"
      ]
    },
    {
      "cell_type": "code",
      "execution_count": 27,
      "metadata": {
        "id": "l8L2tvNSddid"
      },
      "outputs": [],
      "source": [
        "ids = [\"880375092\",\"950833329\"]\n",
        "res = list(map(load_aligned_data,ids))"
      ]
    },
    {
      "cell_type": "code",
      "execution_count": null,
      "metadata": {
        "colab": {
          "base_uri": "https://localhost:8080/",
          "height": 489
        },
        "id": "pSWmimE0dj1n",
        "outputId": "91616523-81b3-43cb-a89e-a98e15531dd0"
      },
      "outputs": [
        {
          "data": {
            "text/plain": [
              "<Figure size 432x288 with 0 Axes>"
            ]
          },
          "metadata": {},
          "output_type": "display_data"
        },
        {
          "data": {
            "image/png": "[encoded data removed]",
            "text/plain": [
              "<Figure size 720x720 with 2 Axes>"
            ]
          },
          "metadata": {
            "needs_background": "light"
          },
          "output_type": "display_data"
        }
      ],
      "source": [
        "plt.figure()\n",
        "fig, axs = plt.subplots(len(ids), 1, figsize=(10,10))\n",
        "for ind,x in enumerate(res):\n",
        "    aligned_neural_format = x[0]\n",
        "    aligned_neural_ts_format = x[1]\n",
        "    aligned_behavior_format = x[2]\n",
        "    aligned_behavior_ts_format = x[3]\n",
        "    x_z = 0\n",
        "    for i,a in enumerate(aligned_neural_ts_format):\n",
        "        if a == 0:\n",
        "            x_z = i\n",
        "    \n",
        "    stim_id = 0\n",
        "    mean_res = 0.000\n",
        "    traces = aligned_neural_format.query('stimulus_presentations_id == @stim_id and mean_response > @mean_res')\n",
        "    raw = np.stack(traces['trace'].to_numpy())\n",
        "    raw = raw*255\n",
        "    \n",
        "    test = raw\n",
        "\n",
        "    axs[ind].imshow(test,cmap='gray')\n",
        "\n",
        "\n",
        "plt.show()"
      ]
    }
  ],
  "metadata": {
    "colab": {
      "collapsed_sections": [],
      "name": "7_20_22_Neural.ipynb",
      "provenance": []
    },
    "kernelspec": {
      "display_name": "mindscope_utilities",
      "language": "python",
      "name": "mindscope_utilities"
    },
    "language_info": {
      "name": "python",
      "version": "3.8.13"
    },
    "vscode": {
      "interpreter": {
        "hash": "d507929f44837d1daaf29f29c4c1ca0d68fa87396bd59872bf4a0b653e2f30d1"
      }
    }
  },
  "nbformat": 4,
  "nbformat_minor": 0
}
