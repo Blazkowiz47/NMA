{
 "cells": [
  {
   "cell_type": "code",
   "execution_count": 1,
   "metadata": {},
   "outputs": [],
   "source": [
    "# import os\n",
    "# import numpy as np\n",
    "# import pandas as pd\n",
    "# from tqdm import tqdm\n",
    "# import seaborn as sns\n",
    "# import matplotlib.pyplot as plt\n",
    "\n",
    "# import mindscope_utilities\n",
    "# import mindscope_utilities.visual_behavior_ophys as ophys\n",
    "\n",
    "from allensdk.brain_observatory.behavior.behavior_project_cache import VisualBehaviorOphysProjectCache\n",
    "\n",
    "# pd.set_option('display.max_columns', 500)"
   ]
  },
  {
   "cell_type": "code",
   "execution_count": 2,
   "metadata": {},
   "outputs": [],
   "source": [
    "data_storage_directory = \"F:\\\\nma\\Project\\\\dataset\\\\tmp\"\n",
    "cache = VisualBehaviorOphysProjectCache.from_s3_cache(cache_dir=data_storage_directory)\n",
    "\n",
    "# experiment_table = cache.get_ophys_experiment_table()\n",
    "# behavior_table = cache.get_behavior_session_table()"
   ]
  },
  {
   "cell_type": "code",
   "execution_count": null,
   "metadata": {},
   "outputs": [],
   "source": [
    "session_table = cache.get_ophys_session_table()"
   ]
  },
  {
   "cell_type": "markdown",
   "metadata": {},
   "source": [
    "We track 2 mice: 457841 and 449441 "
   ]
  },
  {
   "cell_type": "code",
   "execution_count": null,
   "metadata": {},
   "outputs": [],
   "source": [
    "mouse_id = 457841"
   ]
  },
  {
   "cell_type": "code",
   "execution_count": null,
   "metadata": {},
   "outputs": [],
   "source": [
    "experiment_ids = []\n",
    "interest_table = session_table.query('mouse_id == @mouse_id')\n",
    "for ind,row in interest_table.iterrows():\n",
    "    experiment_ids.extend(row['ophys_experiment_id'])"
   ]
  },
  {
   "cell_type": "code",
   "execution_count": null,
   "metadata": {},
   "outputs": [],
   "source": [
    "exp_id = 880375092"
   ]
  },
  {
   "cell_type": "markdown",
   "metadata": {},
   "source": [
    "ophys_timestamps -  all the timestamps \\\n",
    "events-> filtered_events has all the events filtered with half gaussian"
   ]
  },
  {
   "cell_type": "code",
   "execution_count": null,
   "metadata": {},
   "outputs": [],
   "source": [
    "filtered_data_path = 'F:\\\\nma\\\\Project\\\\dataset\\\\filtered_data'"
   ]
  },
  {
   "cell_type": "code",
   "execution_count": 3,
   "metadata": {},
   "outputs": [],
   "source": [
    "exp_ids = [880375092,848697604,950833329, 948507789, 938003662, 1050406399]"
   ]
  },
  {
   "cell_type": "code",
   "execution_count": null,
   "metadata": {},
   "outputs": [],
   "source": [
    "# for exp_id in exp_ids:\n",
    "#     exp_beh = cache.get_behavior_ophys_experiment(exp_id)\n",
    "#     exp_beh.stimulus_presentations.to_csv(f'stimulus_presentations_{exp_id}.csv')\n",
    "#     exp_beh = None\n",
    "[\n",
    "    {'imaging_depth': 175, 'targeted_structure': 'VISp'},\n",
    "    {'imaging_depth': 375, 'targeted_structure': 'VISp'},\n",
    "    {'imaging_depth': 175, 'targeted_structure': 'VISp'},\n",
    "    {'imaging_depth': 175, 'targeted_structure': 'VISp'},\n",
    "    {'imaging_depth': 175, 'targeted_structure': 'VISp'},\n",
    "    {'imaging_depth': 275, 'targeted_structure': 'VISp'}\n",
    "\n",
    " ]"
   ]
  },
  {
   "cell_type": "code",
   "execution_count": 4,
   "metadata": {},
   "outputs": [],
   "source": [
    "meta_data = []\n",
    "for exp_id in exp_ids:\n",
    "    exp_beh = cache.get_behavior_ophys_experiment(exp_id)\n",
    "    meta_data.append(\n",
    "        {\n",
    "            'imaging_depth':exp_beh.metadata['imaging_depth'],\n",
    "            'targeted_structure':exp_beh.metadata['targeted_structure']\n",
    "        }\n",
    "    )\n",
    "    del exp_beh"
   ]
  },
  {
   "cell_type": "code",
   "execution_count": 5,
   "metadata": {},
   "outputs": [
    {
     "data": {
      "text/plain": [
       "[{'imaging_depth': 175, 'targeted_structure': 'VISp'},\n",
       " {'imaging_depth': 175, 'targeted_structure': 'VISp'},\n",
       " {'imaging_depth': 175, 'targeted_structure': 'VISp'},\n",
       " {'imaging_depth': 175, 'targeted_structure': 'VISp'},\n",
       " {'imaging_depth': 375, 'targeted_structure': 'VISp'},\n",
       " {'imaging_depth': 275, 'targeted_structure': 'VISp'}]"
      ]
     },
     "execution_count": 5,
     "metadata": {},
     "output_type": "execute_result"
    }
   ],
   "source": [
    "meta_data"
   ]
  }
 ],
 "metadata": {
  "kernelspec": {
   "display_name": "mindscope_utilities",
   "language": "python",
   "name": "mindscope_utilities"
  },
  "language_info": {
   "codemirror_mode": {
    "name": "ipython",
    "version": 3
   },
   "file_extension": ".py",
   "mimetype": "text/x-python",
   "name": "python",
   "nbconvert_exporter": "python",
   "pygments_lexer": "ipython3",
   "version": "3.8.13"
  },
  "orig_nbformat": 4,
  "vscode": {
   "interpreter": {
    "hash": "d507929f44837d1daaf29f29c4c1ca0d68fa87396bd59872bf4a0b653e2f30d1"
   }
  }
 },
 "nbformat": 4,
 "nbformat_minor": 2
}
