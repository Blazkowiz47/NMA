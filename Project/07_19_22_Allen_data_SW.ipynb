{
 "cells": [
  {
   "cell_type": "code",
   "execution_count": null,
   "metadata": {},
   "outputs": [],
   "source": [
    "#downloading packages\n",
    "# !python -m pip install --quiet --upgrade pip\n",
    "# !pip install mindscope_utilities --quiet --upgrade"
   ]
  },
  {
   "cell_type": "code",
   "execution_count": 1,
   "metadata": {},
   "outputs": [
    {
     "name": "stderr",
     "output_type": "stream",
     "text": [
      "C:\\Users\\sushr\\AppData\\Roaming\\Python\\Python38\\site-packages\\tqdm\\auto.py:22: TqdmWarning: IProgress not found. Please update jupyter and ipywidgets. See https://ipywidgets.readthedocs.io/en/stable/user_install.html\n",
      "  from .autonotebook import tqdm as notebook_tqdm\n"
     ]
    }
   ],
   "source": [
    "#import statements\n",
    "import os\n",
    "import numpy as np\n",
    "import pandas as pd\n",
    "from tqdm import tqdm\n",
    "import seaborn as sns\n",
    "import matplotlib.pyplot as plt\n",
    "\n",
    "import mindscope_utilities\n",
    "import mindscope_utilities.visual_behavior_ophys as ophys\n",
    "\n",
    "from allensdk.brain_observatory.behavior.behavior_project_cache import VisualBehaviorOphysProjectCache\n",
    "\n",
    "pd.set_option('display.max_columns', 500)"
   ]
  },
  {
   "cell_type": "code",
   "execution_count": 6,
   "metadata": {},
   "outputs": [
    {
     "name": "stderr",
     "output_type": "stream",
     "text": [
      "ophys_session_table.csv: 100%|██████████| 227k/227k [00:00<00:00, 606kMB/s]  \n",
      "behavior_session_table.csv: 100%|██████████| 1.21M/1.21M [00:01<00:00, 893kMB/s] \n",
      "ophys_experiment_table.csv: 100%|██████████| 610k/610k [00:02<00:00, 226kMB/s]  \n",
      "ophys_cells_table.csv: 100%|██████████| 4.29M/4.29M [00:03<00:00, 1.14MMB/s]\n"
     ]
    }
   ],
   "source": [
    "#get data\n",
    "data_storage_directory = \"F:\\\\nma\\\\Project\\\\dataset\\\\tmp\" # Note: this path must exist on your local drive\n",
    "cache = VisualBehaviorOphysProjectCache.from_s3_cache(cache_dir=data_storage_directory)"
   ]
  },
  {
   "cell_type": "code",
   "execution_count": 7,
   "metadata": {},
   "outputs": [],
   "source": [
    "#import data tables = get_behavior_ophys_experiment is specific to an experiment number\n",
    "session_table = cache.get_ophys_session_table() #\n",
    "experiment_table = cache.get_ophys_experiment_table()\n",
    "behavior_table = cache.get_behavior_session_table()\n",
    "\n",
    "\n"
   ]
  },
  {
   "cell_type": "code",
   "execution_count": 8,
   "metadata": {},
   "outputs": [
    {
     "name": "stderr",
     "output_type": "stream",
     "text": [
      "behavior_ophys_experiment_951980486.nwb: 100%|██████████| 249M/249M [01:09<00:00, 3.57MMB/s]    \n",
      "behavior_ophys_experiment_957759562.nwb: 100%|██████████| 263M/263M [03:16<00:00, 1.34MMB/s]    \n"
     ]
    }
   ],
   "source": [
    "#getting data for the mouse 457841 (SST-Cre Female) for one familiar and one novel session \n",
    "\n",
    "#familiar session - corresponding bevahior session id (951520319), \n",
    "#ophy session (951410079), ophys experiment (951980486) - familiar session (OPHYS_1_images_A) seen 65 times \n",
    "ID = 457841\n",
    "familiar_behavior_id = 951520319 \n",
    "familiar_behavior_info = session_table.query(\"behavior_session_id == @familiar_behavior_id\")\n",
    "#familiar_behavior_info # mouse_id, cre-line/cell type, prior exposures to session/image, \n",
    "familiar_ophys_id = familiar_behavior_info.index #session ID (which is higher than experiment)\n",
    "\n",
    "\n",
    "#visualize the behavior for the specific experiment id - shows time of trials, reward, latency etc \n",
    "familiar_experiment_behavior = cache.get_behavior_ophys_experiment(951980486) \n",
    "#familiar_experiment_behavior.trials\n",
    "\n",
    "\n",
    "\n",
    "#novel session for same mouse - ophys (957020350), behavior (957032492), experiment id (957759562)\n",
    "novel_behavior_id = 957032492\n",
    "novel_behavior_info = session_table.query(\"behavior_session_id == @novel_behavior_id\")\n",
    "novel_ophys_id = novel_behavior_info.index\n",
    "novel_experiment_behavior = cache.get_behavior_ophys_experiment(957759562) \n",
    "#novel_experiment_behavior.trials"
   ]
  },
  {
   "cell_type": "code",
   "execution_count": 9,
   "metadata": {},
   "outputs": [
    {
     "name": "stdout",
     "output_type": "stream",
     "text": [
      "0.3548387096774194 0.2723735408560311\n"
     ]
    }
   ],
   "source": [
    "#checking for change and hit trials in familiar vs novel sessions \n",
    "#familiar\n",
    "true = True\n",
    "familiar_change_trials = familiar_experiment_behavior.trials.query(\"stimulus_change ==@true\")\n",
    "#familiar_change_trials#.response_latency.describe()\n",
    "\n",
    "familiar_hit_trials = familiar_experiment_behavior.trials.query(\"hit == @true\")\n",
    "familiar_hit_trials.response_latency.describe()\n",
    "\n",
    "#Novel\n",
    "true = True\n",
    "novel_change_trials = novel_experiment_behavior.trials.query(\"stimulus_change ==@true\")\n",
    "#change_trials#.response_latency.describe()\n",
    "\n",
    "novel_hit_trials = novel_experiment_behavior.trials.query(\"hit == @true\")\n",
    "novel_hit_trials.response_latency.describe()\n",
    "\n",
    "fam_accuracy = familiar_hit_trials.shape[0]/familiar_change_trials.shape[0]\n",
    "novel_accuracy = novel_hit_trials.shape[0]/novel_change_trials.shape[0]\n",
    "print(fam_accuracy, novel_accuracy)\n",
    "\n",
    "#conclusion: mouse 457841 had higher accuracy and faster response time on familiar vs novel trial\n",
    "\n"
   ]
  },
  {
   "cell_type": "code",
   "execution_count": null,
   "metadata": {},
   "outputs": [],
   "source": []
  }
 ],
 "metadata": {
  "kernelspec": {
   "display_name": "mindscope_utilities",
   "language": "python",
   "name": "mindscope_utilities"
  },
  "language_info": {
   "codemirror_mode": {
    "name": "ipython",
    "version": 3
   },
   "file_extension": ".py",
   "mimetype": "text/x-python",
   "name": "python",
   "nbconvert_exporter": "python",
   "pygments_lexer": "ipython3",
   "version": "3.8.13"
  },
  "vscode": {
   "interpreter": {
    "hash": "247e0cd71c64eeb957d2ccc3d3a36b12bc8c2eadc9aa068269b43d2f2c40843f"
   }
  }
 },
 "nbformat": 4,
 "nbformat_minor": 2
}
