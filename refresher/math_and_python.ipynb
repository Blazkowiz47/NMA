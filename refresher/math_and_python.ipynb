{
 "cells": [
  {
   "cell_type": "code",
   "execution_count": 1,
   "metadata": {},
   "outputs": [],
   "source": [
    "import numpy as np"
   ]
  },
  {
   "cell_type": "markdown",
   "metadata": {},
   "source": [
    "Vectors"
   ]
  },
  {
   "cell_type": "code",
   "execution_count": 2,
   "metadata": {},
   "outputs": [
    {
     "name": "stdout",
     "output_type": "stream",
     "text": [
      "[0.6 0.8]\n"
     ]
    }
   ],
   "source": [
    "def normalize_vector(input_vector):\n",
    "    \"\"\" Normalizes a vector to length 1\n",
    "\n",
    "    Inputs:\n",
    "    input_vector (ndarray): array of shape (n_dim, ) where n_dim is the\n",
    "        dimensionality of the vector\n",
    "\n",
    "    Outputs:\n",
    "    (ndarray): normalized vector of length 1\n",
    "    \"\"\"\n",
    "\n",
    "    # Compute vector length (use np.linalg.norm)\n",
    "    vector_length = np.sum(np.power(input_vector,2)) ** 0.5\n",
    "\n",
    "    # Create normalized vector\n",
    "    normalized_vector = input_vector/vector_length\n",
    "\n",
    "    return normalized_vector\n",
    "\n",
    "# Create vector v from above (use np.array)\n",
    "v = np.array([3,4])\n",
    "\n",
    "# Call the function\n",
    "v_unit = normalize_vector(v)\n"
   ]
  }
 ],
 "metadata": {
  "kernelspec": {
   "display_name": "Python 3.9.12 ('blazkowiz')",
   "language": "python",
   "name": "python3"
  },
  "language_info": {
   "codemirror_mode": {
    "name": "ipython",
    "version": 3
   },
   "file_extension": ".py",
   "mimetype": "text/x-python",
   "name": "python",
   "nbconvert_exporter": "python",
   "pygments_lexer": "ipython3",
   "version": "3.9.12"
  },
  "orig_nbformat": 4,
  "vscode": {
   "interpreter": {
    "hash": "7ee5975616448165ec7473ca23f75162aeb86cbb1e3b29bb11b91e477bc89a19"
   }
  }
 },
 "nbformat": 4,
 "nbformat_minor": 2
}
